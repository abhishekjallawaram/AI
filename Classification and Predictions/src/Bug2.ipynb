{
  "nbformat": 4,
  "nbformat_minor": 0,
  "metadata": {
    "colab": {
      "provenance": []
    },
    "kernelspec": {
      "name": "python3",
      "display_name": "Python 3"
    },
    "language_info": {
      "name": "python"
    }
  },
  "cells": [
    {
      "cell_type": "code",
      "source": [
        "import re\n",
        "import numpy as np\n",
        "import pandas as pd\n",
        "from sklearn.discriminant_analysis import LinearDiscriminantAnalysis as LDA\n",
        "from sklearn.decomposition import PCA\n",
        "from sklearn.decomposition import SparsePCA\n",
        "from sklearn.tree import DecisionTreeClassifier\n",
        "from sklearn.naive_bayes import BernoulliNB,GaussianNB\n",
        "from imblearn.over_sampling import SMOTE\n",
        "import pandas as pd\n",
        "from sklearn.model_selection import train_test_split\n",
        "import matplotlib.pyplot as plt\n",
        "import random\n",
        "from sklearn.preprocessing import StandardScaler\n",
        "from sklearn.decomposition import TruncatedSVD\n",
        "from sklearn.model_selection import GridSearchCV\n",
        "from sklearn.metrics import accuracy_score,classification_report,confusion_matrix,f1_score,make_scorer\n",
        "from sklearn.feature_selection import chi2\n",
        "from sklearn.feature_selection import SelectKBest\n",
        "from sklearn.impute import SimpleImputer\n",
        "from sklearn.model_selection import ShuffleSplit,cross_val_score"
      ],
      "metadata": {
        "id": "iDuS3h1ZIkUw"
      },
      "execution_count": 2,
      "outputs": []
    },
    {
      "cell_type": "code",
      "execution_count": 3,
      "metadata": {
        "colab": {
          "base_uri": "https://localhost:8080/",
          "height": 494
        },
        "id": "XZvcVGoAHM8y",
        "outputId": "2da1f84a-8de3-4383-ae34-cdf5b30cf13b"
      },
      "outputs": [
        {
          "output_type": "stream",
          "name": "stdout",
          "text": [
            "<class 'pandas.core.frame.DataFrame'>\n",
            "RangeIndex: 100000 entries, 0 to 99999\n",
            "Data columns (total 5 columns):\n",
            " #   Column  Non-Null Count   Dtype  \n",
            "---  ------  --------------   -----  \n",
            " 0   sx      100000 non-null  float64\n",
            " 1   sy      100000 non-null  float64\n",
            " 2   gx      100000 non-null  float64\n",
            " 3   gy      100000 non-null  float64\n",
            " 4   d       100000 non-null  float64\n",
            "dtypes: float64(5)\n",
            "memory usage: 3.8 MB\n",
            "(100000, 5)\n"
          ]
        },
        {
          "output_type": "execute_result",
          "data": {
            "text/plain": [
              "         sx        sy         gx        gy       d\n",
              "0 -20.35270 -13.16810 -16.861800  13.85940   31.08\n",
              "1  14.82350 -13.84960 -20.188700  -3.87179   58.32\n",
              "2   4.74891  11.81420   2.400610 -13.78990   56.64\n",
              "3  18.46640   9.81196  18.237600  11.75590    1.56\n",
              "4 -20.50850  -6.13263   3.950740 -11.31420  102.18\n",
              "5 -18.31010   1.08730  12.167900  11.06870   45.06\n",
              "6  11.88640 -12.40120  -0.339672  -6.48306   59.28"
            ],
            "text/html": [
              "\n",
              "  <div id=\"df-7265941d-3f8d-4ee1-ba4a-686c355e189e\">\n",
              "    <div class=\"colab-df-container\">\n",
              "      <div>\n",
              "<style scoped>\n",
              "    .dataframe tbody tr th:only-of-type {\n",
              "        vertical-align: middle;\n",
              "    }\n",
              "\n",
              "    .dataframe tbody tr th {\n",
              "        vertical-align: top;\n",
              "    }\n",
              "\n",
              "    .dataframe thead th {\n",
              "        text-align: right;\n",
              "    }\n",
              "</style>\n",
              "<table border=\"1\" class=\"dataframe\">\n",
              "  <thead>\n",
              "    <tr style=\"text-align: right;\">\n",
              "      <th></th>\n",
              "      <th>sx</th>\n",
              "      <th>sy</th>\n",
              "      <th>gx</th>\n",
              "      <th>gy</th>\n",
              "      <th>d</th>\n",
              "    </tr>\n",
              "  </thead>\n",
              "  <tbody>\n",
              "    <tr>\n",
              "      <th>0</th>\n",
              "      <td>-20.35270</td>\n",
              "      <td>-13.16810</td>\n",
              "      <td>-16.861800</td>\n",
              "      <td>13.85940</td>\n",
              "      <td>31.08</td>\n",
              "    </tr>\n",
              "    <tr>\n",
              "      <th>1</th>\n",
              "      <td>14.82350</td>\n",
              "      <td>-13.84960</td>\n",
              "      <td>-20.188700</td>\n",
              "      <td>-3.87179</td>\n",
              "      <td>58.32</td>\n",
              "    </tr>\n",
              "    <tr>\n",
              "      <th>2</th>\n",
              "      <td>4.74891</td>\n",
              "      <td>11.81420</td>\n",
              "      <td>2.400610</td>\n",
              "      <td>-13.78990</td>\n",
              "      <td>56.64</td>\n",
              "    </tr>\n",
              "    <tr>\n",
              "      <th>3</th>\n",
              "      <td>18.46640</td>\n",
              "      <td>9.81196</td>\n",
              "      <td>18.237600</td>\n",
              "      <td>11.75590</td>\n",
              "      <td>1.56</td>\n",
              "    </tr>\n",
              "    <tr>\n",
              "      <th>4</th>\n",
              "      <td>-20.50850</td>\n",
              "      <td>-6.13263</td>\n",
              "      <td>3.950740</td>\n",
              "      <td>-11.31420</td>\n",
              "      <td>102.18</td>\n",
              "    </tr>\n",
              "    <tr>\n",
              "      <th>5</th>\n",
              "      <td>-18.31010</td>\n",
              "      <td>1.08730</td>\n",
              "      <td>12.167900</td>\n",
              "      <td>11.06870</td>\n",
              "      <td>45.06</td>\n",
              "    </tr>\n",
              "    <tr>\n",
              "      <th>6</th>\n",
              "      <td>11.88640</td>\n",
              "      <td>-12.40120</td>\n",
              "      <td>-0.339672</td>\n",
              "      <td>-6.48306</td>\n",
              "      <td>59.28</td>\n",
              "    </tr>\n",
              "  </tbody>\n",
              "</table>\n",
              "</div>\n",
              "      <button class=\"colab-df-convert\" onclick=\"convertToInteractive('df-7265941d-3f8d-4ee1-ba4a-686c355e189e')\"\n",
              "              title=\"Convert this dataframe to an interactive table.\"\n",
              "              style=\"display:none;\">\n",
              "        \n",
              "  <svg xmlns=\"http://www.w3.org/2000/svg\" height=\"24px\"viewBox=\"0 0 24 24\"\n",
              "       width=\"24px\">\n",
              "    <path d=\"M0 0h24v24H0V0z\" fill=\"none\"/>\n",
              "    <path d=\"M18.56 5.44l.94 2.06.94-2.06 2.06-.94-2.06-.94-.94-2.06-.94 2.06-2.06.94zm-11 1L8.5 8.5l.94-2.06 2.06-.94-2.06-.94L8.5 2.5l-.94 2.06-2.06.94zm10 10l.94 2.06.94-2.06 2.06-.94-2.06-.94-.94-2.06-.94 2.06-2.06.94z\"/><path d=\"M17.41 7.96l-1.37-1.37c-.4-.4-.92-.59-1.43-.59-.52 0-1.04.2-1.43.59L10.3 9.45l-7.72 7.72c-.78.78-.78 2.05 0 2.83L4 21.41c.39.39.9.59 1.41.59.51 0 1.02-.2 1.41-.59l7.78-7.78 2.81-2.81c.8-.78.8-2.07 0-2.86zM5.41 20L4 18.59l7.72-7.72 1.47 1.35L5.41 20z\"/>\n",
              "  </svg>\n",
              "      </button>\n",
              "      \n",
              "  <style>\n",
              "    .colab-df-container {\n",
              "      display:flex;\n",
              "      flex-wrap:wrap;\n",
              "      gap: 12px;\n",
              "    }\n",
              "\n",
              "    .colab-df-convert {\n",
              "      background-color: #E8F0FE;\n",
              "      border: none;\n",
              "      border-radius: 50%;\n",
              "      cursor: pointer;\n",
              "      display: none;\n",
              "      fill: #1967D2;\n",
              "      height: 32px;\n",
              "      padding: 0 0 0 0;\n",
              "      width: 32px;\n",
              "    }\n",
              "\n",
              "    .colab-df-convert:hover {\n",
              "      background-color: #E2EBFA;\n",
              "      box-shadow: 0px 1px 2px rgba(60, 64, 67, 0.3), 0px 1px 3px 1px rgba(60, 64, 67, 0.15);\n",
              "      fill: #174EA6;\n",
              "    }\n",
              "\n",
              "    [theme=dark] .colab-df-convert {\n",
              "      background-color: #3B4455;\n",
              "      fill: #D2E3FC;\n",
              "    }\n",
              "\n",
              "    [theme=dark] .colab-df-convert:hover {\n",
              "      background-color: #434B5C;\n",
              "      box-shadow: 0px 1px 3px 1px rgba(0, 0, 0, 0.15);\n",
              "      filter: drop-shadow(0px 1px 2px rgba(0, 0, 0, 0.3));\n",
              "      fill: #FFFFFF;\n",
              "    }\n",
              "  </style>\n",
              "\n",
              "      <script>\n",
              "        const buttonEl =\n",
              "          document.querySelector('#df-7265941d-3f8d-4ee1-ba4a-686c355e189e button.colab-df-convert');\n",
              "        buttonEl.style.display =\n",
              "          google.colab.kernel.accessAllowed ? 'block' : 'none';\n",
              "\n",
              "        async function convertToInteractive(key) {\n",
              "          const element = document.querySelector('#df-7265941d-3f8d-4ee1-ba4a-686c355e189e');\n",
              "          const dataTable =\n",
              "            await google.colab.kernel.invokeFunction('convertToInteractive',\n",
              "                                                     [key], {});\n",
              "          if (!dataTable) return;\n",
              "\n",
              "          const docLinkHtml = 'Like what you see? Visit the ' +\n",
              "            '<a target=\"_blank\" href=https://colab.research.google.com/notebooks/data_table.ipynb>data table notebook</a>'\n",
              "            + ' to learn more about interactive tables.';\n",
              "          element.innerHTML = '';\n",
              "          dataTable['output_type'] = 'display_data';\n",
              "          await google.colab.output.renderOutput(dataTable, element);\n",
              "          const docLink = document.createElement('div');\n",
              "          docLink.innerHTML = docLinkHtml;\n",
              "          element.appendChild(docLink);\n",
              "        }\n",
              "      </script>\n",
              "    </div>\n",
              "  </div>\n",
              "  "
            ]
          },
          "metadata": {},
          "execution_count": 3
        }
      ],
      "source": [
        "bug2 = pd.read_csv(\"/content/drive/MyDrive/data_bug2.txt\", sep=' ')\n",
        "bug2.info()\n",
        "print(bug2.shape)\n",
        "bug2.head(7)"
      ]
    },
    {
      "cell_type": "code",
      "source": [
        "bug2.describe()"
      ],
      "metadata": {
        "colab": {
          "base_uri": "https://localhost:8080/",
          "height": 300
        },
        "id": "WUBf1ztXLEo1",
        "outputId": "ba42cdaf-27e6-4f7e-a458-79998931d23b"
      },
      "execution_count": 4,
      "outputs": [
        {
          "output_type": "execute_result",
          "data": {
            "text/plain": [
              "                  sx             sy             gx             gy  \\\n",
              "count  100000.000000  100000.000000  100000.000000  100000.000000   \n",
              "mean        2.558475      -1.111631       2.461731      -1.162655   \n",
              "std        13.772926       9.125932      13.824945       9.114331   \n",
              "min       -21.999600     -13.999900     -21.999800     -13.999900   \n",
              "25%        -8.671688      -9.578298      -8.958005      -9.627072   \n",
              "50%         4.375180      -2.599365       4.251060      -2.675130   \n",
              "75%        14.506300       7.541390      14.487900       7.334085   \n",
              "max        21.999300      13.999900      21.999900      14.000000   \n",
              "\n",
              "                   d  \n",
              "count  100000.000000  \n",
              "mean       62.395794  \n",
              "std        47.137511  \n",
              "min         0.000000  \n",
              "25%        22.725000  \n",
              "50%        55.020000  \n",
              "75%        90.480000  \n",
              "max       258.660000  "
            ],
            "text/html": [
              "\n",
              "  <div id=\"df-64a03fd8-8288-4ca6-95b9-df56d9ac44a9\">\n",
              "    <div class=\"colab-df-container\">\n",
              "      <div>\n",
              "<style scoped>\n",
              "    .dataframe tbody tr th:only-of-type {\n",
              "        vertical-align: middle;\n",
              "    }\n",
              "\n",
              "    .dataframe tbody tr th {\n",
              "        vertical-align: top;\n",
              "    }\n",
              "\n",
              "    .dataframe thead th {\n",
              "        text-align: right;\n",
              "    }\n",
              "</style>\n",
              "<table border=\"1\" class=\"dataframe\">\n",
              "  <thead>\n",
              "    <tr style=\"text-align: right;\">\n",
              "      <th></th>\n",
              "      <th>sx</th>\n",
              "      <th>sy</th>\n",
              "      <th>gx</th>\n",
              "      <th>gy</th>\n",
              "      <th>d</th>\n",
              "    </tr>\n",
              "  </thead>\n",
              "  <tbody>\n",
              "    <tr>\n",
              "      <th>count</th>\n",
              "      <td>100000.000000</td>\n",
              "      <td>100000.000000</td>\n",
              "      <td>100000.000000</td>\n",
              "      <td>100000.000000</td>\n",
              "      <td>100000.000000</td>\n",
              "    </tr>\n",
              "    <tr>\n",
              "      <th>mean</th>\n",
              "      <td>2.558475</td>\n",
              "      <td>-1.111631</td>\n",
              "      <td>2.461731</td>\n",
              "      <td>-1.162655</td>\n",
              "      <td>62.395794</td>\n",
              "    </tr>\n",
              "    <tr>\n",
              "      <th>std</th>\n",
              "      <td>13.772926</td>\n",
              "      <td>9.125932</td>\n",
              "      <td>13.824945</td>\n",
              "      <td>9.114331</td>\n",
              "      <td>47.137511</td>\n",
              "    </tr>\n",
              "    <tr>\n",
              "      <th>min</th>\n",
              "      <td>-21.999600</td>\n",
              "      <td>-13.999900</td>\n",
              "      <td>-21.999800</td>\n",
              "      <td>-13.999900</td>\n",
              "      <td>0.000000</td>\n",
              "    </tr>\n",
              "    <tr>\n",
              "      <th>25%</th>\n",
              "      <td>-8.671688</td>\n",
              "      <td>-9.578298</td>\n",
              "      <td>-8.958005</td>\n",
              "      <td>-9.627072</td>\n",
              "      <td>22.725000</td>\n",
              "    </tr>\n",
              "    <tr>\n",
              "      <th>50%</th>\n",
              "      <td>4.375180</td>\n",
              "      <td>-2.599365</td>\n",
              "      <td>4.251060</td>\n",
              "      <td>-2.675130</td>\n",
              "      <td>55.020000</td>\n",
              "    </tr>\n",
              "    <tr>\n",
              "      <th>75%</th>\n",
              "      <td>14.506300</td>\n",
              "      <td>7.541390</td>\n",
              "      <td>14.487900</td>\n",
              "      <td>7.334085</td>\n",
              "      <td>90.480000</td>\n",
              "    </tr>\n",
              "    <tr>\n",
              "      <th>max</th>\n",
              "      <td>21.999300</td>\n",
              "      <td>13.999900</td>\n",
              "      <td>21.999900</td>\n",
              "      <td>14.000000</td>\n",
              "      <td>258.660000</td>\n",
              "    </tr>\n",
              "  </tbody>\n",
              "</table>\n",
              "</div>\n",
              "      <button class=\"colab-df-convert\" onclick=\"convertToInteractive('df-64a03fd8-8288-4ca6-95b9-df56d9ac44a9')\"\n",
              "              title=\"Convert this dataframe to an interactive table.\"\n",
              "              style=\"display:none;\">\n",
              "        \n",
              "  <svg xmlns=\"http://www.w3.org/2000/svg\" height=\"24px\"viewBox=\"0 0 24 24\"\n",
              "       width=\"24px\">\n",
              "    <path d=\"M0 0h24v24H0V0z\" fill=\"none\"/>\n",
              "    <path d=\"M18.56 5.44l.94 2.06.94-2.06 2.06-.94-2.06-.94-.94-2.06-.94 2.06-2.06.94zm-11 1L8.5 8.5l.94-2.06 2.06-.94-2.06-.94L8.5 2.5l-.94 2.06-2.06.94zm10 10l.94 2.06.94-2.06 2.06-.94-2.06-.94-.94-2.06-.94 2.06-2.06.94z\"/><path d=\"M17.41 7.96l-1.37-1.37c-.4-.4-.92-.59-1.43-.59-.52 0-1.04.2-1.43.59L10.3 9.45l-7.72 7.72c-.78.78-.78 2.05 0 2.83L4 21.41c.39.39.9.59 1.41.59.51 0 1.02-.2 1.41-.59l7.78-7.78 2.81-2.81c.8-.78.8-2.07 0-2.86zM5.41 20L4 18.59l7.72-7.72 1.47 1.35L5.41 20z\"/>\n",
              "  </svg>\n",
              "      </button>\n",
              "      \n",
              "  <style>\n",
              "    .colab-df-container {\n",
              "      display:flex;\n",
              "      flex-wrap:wrap;\n",
              "      gap: 12px;\n",
              "    }\n",
              "\n",
              "    .colab-df-convert {\n",
              "      background-color: #E8F0FE;\n",
              "      border: none;\n",
              "      border-radius: 50%;\n",
              "      cursor: pointer;\n",
              "      display: none;\n",
              "      fill: #1967D2;\n",
              "      height: 32px;\n",
              "      padding: 0 0 0 0;\n",
              "      width: 32px;\n",
              "    }\n",
              "\n",
              "    .colab-df-convert:hover {\n",
              "      background-color: #E2EBFA;\n",
              "      box-shadow: 0px 1px 2px rgba(60, 64, 67, 0.3), 0px 1px 3px 1px rgba(60, 64, 67, 0.15);\n",
              "      fill: #174EA6;\n",
              "    }\n",
              "\n",
              "    [theme=dark] .colab-df-convert {\n",
              "      background-color: #3B4455;\n",
              "      fill: #D2E3FC;\n",
              "    }\n",
              "\n",
              "    [theme=dark] .colab-df-convert:hover {\n",
              "      background-color: #434B5C;\n",
              "      box-shadow: 0px 1px 3px 1px rgba(0, 0, 0, 0.15);\n",
              "      filter: drop-shadow(0px 1px 2px rgba(0, 0, 0, 0.3));\n",
              "      fill: #FFFFFF;\n",
              "    }\n",
              "  </style>\n",
              "\n",
              "      <script>\n",
              "        const buttonEl =\n",
              "          document.querySelector('#df-64a03fd8-8288-4ca6-95b9-df56d9ac44a9 button.colab-df-convert');\n",
              "        buttonEl.style.display =\n",
              "          google.colab.kernel.accessAllowed ? 'block' : 'none';\n",
              "\n",
              "        async function convertToInteractive(key) {\n",
              "          const element = document.querySelector('#df-64a03fd8-8288-4ca6-95b9-df56d9ac44a9');\n",
              "          const dataTable =\n",
              "            await google.colab.kernel.invokeFunction('convertToInteractive',\n",
              "                                                     [key], {});\n",
              "          if (!dataTable) return;\n",
              "\n",
              "          const docLinkHtml = 'Like what you see? Visit the ' +\n",
              "            '<a target=\"_blank\" href=https://colab.research.google.com/notebooks/data_table.ipynb>data table notebook</a>'\n",
              "            + ' to learn more about interactive tables.';\n",
              "          element.innerHTML = '';\n",
              "          dataTable['output_type'] = 'display_data';\n",
              "          await google.colab.output.renderOutput(dataTable, element);\n",
              "          const docLink = document.createElement('div');\n",
              "          docLink.innerHTML = docLinkHtml;\n",
              "          element.appendChild(docLink);\n",
              "        }\n",
              "      </script>\n",
              "    </div>\n",
              "  </div>\n",
              "  "
            ]
          },
          "metadata": {},
          "execution_count": 4
        }
      ]
    },
    {
      "cell_type": "code",
      "source": [
        "d_label = bug2['d']"
      ],
      "metadata": {
        "id": "HtpmbphMLR7E"
      },
      "execution_count": 5,
      "outputs": []
    },
    {
      "cell_type": "code",
      "source": [
        "bug2.drop(['d'],axis=1,inplace = True)"
      ],
      "metadata": {
        "id": "uHqP9syILc30"
      },
      "execution_count": 6,
      "outputs": []
    },
    {
      "cell_type": "code",
      "source": [
        "X_train, X_test, y_train, y_test = train_test_split(bug2, d_label, test_size=0.2, random_state=0)"
      ],
      "metadata": {
        "id": "UlOs8wzyLkqy"
      },
      "execution_count": 7,
      "outputs": []
    },
    {
      "cell_type": "code",
      "source": [
        "from sklearn.preprocessing import StandardScaler\n",
        "scaler = StandardScaler()\n",
        "X_train1 = scaler.fit_transform(X_train)\n",
        "print(scaler.mean_)\n",
        "X_test1 = scaler.transform(X_test)\n",
        "\n",
        "print(type(X_train1))\n",
        "print(type(X_test1))"
      ],
      "metadata": {
        "colab": {
          "base_uri": "https://localhost:8080/",
          "height": 0
        },
        "id": "7b6iZCDT1RuJ",
        "outputId": "88980776-a808-458e-bf30-10f92e260fd7"
      },
      "execution_count": 8,
      "outputs": [
        {
          "output_type": "stream",
          "name": "stdout",
          "text": [
            "[ 2.5758674  -1.12390206  2.46324972 -1.16738687]\n",
            "<class 'numpy.ndarray'>\n",
            "<class 'numpy.ndarray'>\n"
          ]
        }
      ]
    },
    {
      "cell_type": "code",
      "source": [
        "from sklearn.neighbors import KNeighborsRegressor\n",
        "from sklearn.tree import DecisionTreeRegressor\n",
        "from sklearn.ensemble import RandomForestRegressor\n",
        "from sklearn.gaussian_process import GaussianProcessRegressor\n",
        "from sklearn.neural_network import MLPRegressor\n",
        "from sklearn.metrics import mean_squared_error\n",
        "from sklearn.ensemble import AdaBoostRegressor\n",
        "from sklearn.svm import SVR\n",
        "\n",
        "\n",
        "classifiers_list = {\n",
        "    \"K-Neighbors Regressor\": KNeighborsRegressor(),\n",
        "    \"Decision Tree Regressor\": DecisionTreeRegressor(),\n",
        "    \"Random Forest Regressor\": RandomForestRegressor(),\n",
        "    \"Naive Bayes Regressor\" : GaussianProcessRegressor(),\n",
        "    \"Neural Network Regressor\" : MLPRegressor(),\n",
        "    \"Adaboost\" : AdaBoostRegressor(base_estimator=RandomForestRegressor()),\n",
        "    \"SVR\": SVR()                           \n",
        "}\n",
        "\n",
        "classifiers_count = len(classifiers_list.keys())\n",
        "df_results = pd.DataFrame(data=np.zeros(shape=(classifiers_count,5)), columns = ['classifier', 'Recall', 'F1', 'Precision', 'Accuracy'])\n",
        "\n",
        "for c_name, classifier in classifiers_list.items():\n",
        "  classifier.fit(X_train,y_train)\n",
        "  prediction = []\n",
        "  prediction = classifier.predict(X_test)\n",
        "  cv1 = ShuffleSplit(n_splits=5, test_size=0.2, random_state=0)\n",
        "  scores = cross_val_score(classifier, X_train, y_train, cv=cv1)\n",
        "  print ('Classifier+OneHotEncoder', c_name)\n",
        "  print ('Cross validation', scores)\n",
        "  print(prediction)\n",
        "  #print(classification_report(y_test,prediction))\n",
        "  print(mean_squared_error(y_test,prediction, squared=False))"
      ],
      "metadata": {
        "id": "LvvM4PxRJZq4"
      },
      "execution_count": null,
      "outputs": []
    },
    {
      "cell_type": "code",
      "source": [
        "classifiers_list = {\n",
        "    \"K-Neighbors Regressor\": KNeighborsRegressor(),\n",
        "    \"Decision Tree Regressor\": DecisionTreeRegressor(),\n",
        "    \"Random Forest Regressor\": RandomForestRegressor(),\n",
        "    #\"Naive Bayes Regressor\" : GaussianProcessRegressor(),\n",
        "    \"Neural Network Regressor\" : MLPRegressor()\n",
        "}\n",
        "\n",
        "classifiers_count = len(classifiers_list.keys())\n",
        "df_results = pd.DataFrame(data=np.zeros(shape=(classifiers_count,5)), columns = ['classifier', 'Recall', 'F1', 'Precision', 'Accuracy'])\n",
        "\n",
        "for c_name, classifier in classifiers_list.items():\n",
        "  classifier.fit(X_train1,y_train)\n",
        "  prediction = []\n",
        "  prediction = classifier.predict(X_test1)\n",
        "  cv1 = ShuffleSplit(n_splits=5, test_size=0.2, random_state=0)\n",
        "  scores = cross_val_score(classifier, X_train1, y_train, cv=cv1)\n",
        "  print ('Classifier+OneHotEncoder', c_name)\n",
        "  print ('Cross validation', scores)\n",
        "  print(prediction)\n",
        "  #print(classification_report(y_test,prediction))\n",
        "  print(mean_squared_error(y_test,prediction, squared=False))"
      ],
      "metadata": {
        "colab": {
          "base_uri": "https://localhost:8080/",
          "height": 0
        },
        "id": "XMfqxZnp2-Fh",
        "outputId": "b0494923-b344-4e06-aff3-86b5fe61f4c4"
      },
      "execution_count": 10,
      "outputs": [
        {
          "output_type": "stream",
          "name": "stdout",
          "text": [
            "Classifier+OneHotEncoder K-Neighbors Regressor\n",
            "Cross validation [0.95790924 0.95540089 0.95564788 0.9566909  0.95506911]\n",
            "[ 53.748  34.08  124.788 ...  45.108  25.392  54.24 ]\n",
            "9.509439531623302\n",
            "Classifier+OneHotEncoder Decision Tree Regressor\n",
            "Cross validation [0.90688291 0.90322222 0.90317568 0.91455561 0.90675217]\n",
            "[ 52.92  34.44 107.46 ...  45.36  26.46  52.86]\n",
            "14.016947170479026\n",
            "Classifier+OneHotEncoder Random Forest Regressor\n",
            "Cross validation [0.95614924 0.95556907 0.95358417 0.95704907 0.95472031]\n",
            "[ 51.354   34.7754 146.0046 ...  45.9414  25.239   52.6866]\n",
            "9.693991643201576\n"
          ]
        },
        {
          "output_type": "stream",
          "name": "stderr",
          "text": [
            "/usr/local/lib/python3.7/dist-packages/sklearn/neural_network/_multilayer_perceptron.py:696: ConvergenceWarning: Stochastic Optimizer: Maximum iterations (200) reached and the optimization hasn't converged yet.\n",
            "  ConvergenceWarning,\n",
            "/usr/local/lib/python3.7/dist-packages/sklearn/neural_network/_multilayer_perceptron.py:696: ConvergenceWarning: Stochastic Optimizer: Maximum iterations (200) reached and the optimization hasn't converged yet.\n",
            "  ConvergenceWarning,\n",
            "/usr/local/lib/python3.7/dist-packages/sklearn/neural_network/_multilayer_perceptron.py:696: ConvergenceWarning: Stochastic Optimizer: Maximum iterations (200) reached and the optimization hasn't converged yet.\n",
            "  ConvergenceWarning,\n",
            "/usr/local/lib/python3.7/dist-packages/sklearn/neural_network/_multilayer_perceptron.py:696: ConvergenceWarning: Stochastic Optimizer: Maximum iterations (200) reached and the optimization hasn't converged yet.\n",
            "  ConvergenceWarning,\n",
            "/usr/local/lib/python3.7/dist-packages/sklearn/neural_network/_multilayer_perceptron.py:696: ConvergenceWarning: Stochastic Optimizer: Maximum iterations (200) reached and the optimization hasn't converged yet.\n",
            "  ConvergenceWarning,\n"
          ]
        },
        {
          "output_type": "stream",
          "name": "stdout",
          "text": [
            "Classifier+OneHotEncoder Neural Network Regressor\n",
            "Cross validation [0.81837745 0.79905087 0.82397237 0.82021138 0.8302946 ]\n",
            "[ 44.12417048  27.9305746  115.26066418 ...  24.98848521  18.61378319\n",
            "  55.85931567]\n",
            "19.53060301989341\n"
          ]
        },
        {
          "output_type": "stream",
          "name": "stderr",
          "text": [
            "/usr/local/lib/python3.7/dist-packages/sklearn/neural_network/_multilayer_perceptron.py:696: ConvergenceWarning: Stochastic Optimizer: Maximum iterations (200) reached and the optimization hasn't converged yet.\n",
            "  ConvergenceWarning,\n"
          ]
        }
      ]
    },
    {
      "cell_type": "code",
      "source": [
        "print(y_test)"
      ],
      "metadata": {
        "colab": {
          "base_uri": "https://localhost:8080/",
          "height": 0
        },
        "id": "G77e-WLOeBA2",
        "outputId": "64292749-891a-420b-b7e5-072e3b9a0c93"
      },
      "execution_count": 11,
      "outputs": [
        {
          "output_type": "stream",
          "name": "stdout",
          "text": [
            "3582      53.04\n",
            "60498     34.68\n",
            "53227    129.12\n",
            "21333     62.64\n",
            "3885      59.16\n",
            "          ...  \n",
            "60116     61.98\n",
            "2415      20.94\n",
            "43763     45.84\n",
            "71345     24.90\n",
            "77687     53.16\n",
            "Name: d, Length: 20000, dtype: float64\n"
          ]
        }
      ]
    },
    {
      "cell_type": "code",
      "source": [
        "import sklearn.metrics\n",
        "print(sklearn.metrics.SCORERS.keys())"
      ],
      "metadata": {
        "colab": {
          "base_uri": "https://localhost:8080/",
          "height": 0
        },
        "id": "rOdc65yxtut_",
        "outputId": "bee6313e-d817-4067-a115-6d55e4bec55e"
      },
      "execution_count": 12,
      "outputs": [
        {
          "output_type": "stream",
          "name": "stdout",
          "text": [
            "dict_keys(['explained_variance', 'r2', 'max_error', 'neg_median_absolute_error', 'neg_mean_absolute_error', 'neg_mean_absolute_percentage_error', 'neg_mean_squared_error', 'neg_mean_squared_log_error', 'neg_root_mean_squared_error', 'neg_mean_poisson_deviance', 'neg_mean_gamma_deviance', 'accuracy', 'top_k_accuracy', 'roc_auc', 'roc_auc_ovr', 'roc_auc_ovo', 'roc_auc_ovr_weighted', 'roc_auc_ovo_weighted', 'balanced_accuracy', 'average_precision', 'neg_log_loss', 'neg_brier_score', 'adjusted_rand_score', 'rand_score', 'homogeneity_score', 'completeness_score', 'v_measure_score', 'mutual_info_score', 'adjusted_mutual_info_score', 'normalized_mutual_info_score', 'fowlkes_mallows_score', 'precision', 'precision_macro', 'precision_micro', 'precision_samples', 'precision_weighted', 'recall', 'recall_macro', 'recall_micro', 'recall_samples', 'recall_weighted', 'f1', 'f1_macro', 'f1_micro', 'f1_samples', 'f1_weighted', 'jaccard', 'jaccard_macro', 'jaccard_micro', 'jaccard_samples', 'jaccard_weighted'])\n"
          ]
        }
      ]
    },
    {
      "cell_type": "code",
      "source": [
        "from sklearn.model_selection import KFold\n",
        "from sklearn.model_selection import GridSearchCV\n",
        "from sklearn.model_selection import train_test_split\n",
        "from sklearn.model_selection import KFold\n",
        "\n",
        "# Define our candidate hyperparameters\n",
        "hp_candidates = [{'n_neighbors': [2,3,4,5,6,7,8,9,10,11,12,13,14,15], 'weights': ['uniform','distance'],'p':[1,2,5]}]\n",
        "\n",
        "# Search for best hyperparameters\n",
        "grid = GridSearchCV(estimator=KNeighborsRegressor(), param_grid=hp_candidates, cv=5,scoring='r2')\n",
        "\n",
        "grid.fit(X_train1,y_train)"
      ],
      "metadata": {
        "colab": {
          "base_uri": "https://localhost:8080/",
          "height": 0
        },
        "id": "xUyJxTrqiwFO",
        "outputId": "bed547b6-67b4-42ac-eee9-b677daa65d27"
      },
      "execution_count": 13,
      "outputs": [
        {
          "output_type": "execute_result",
          "data": {
            "text/plain": [
              "GridSearchCV(cv=5, estimator=KNeighborsRegressor(),\n",
              "             param_grid=[{'n_neighbors': [2, 3, 4, 5, 6, 7, 8, 9, 10, 11, 12,\n",
              "                                          13, 14, 15],\n",
              "                          'p': [1, 2, 5], 'weights': ['uniform', 'distance']}],\n",
              "             scoring='r2')"
            ]
          },
          "metadata": {},
          "execution_count": 13
        }
      ]
    },
    {
      "cell_type": "code",
      "source": [
        "print(\"Tuned Hyperparameters :\", grid.best_params_)\n",
        "print(\"Accuracy :\",grid.best_score_)"
      ],
      "metadata": {
        "colab": {
          "base_uri": "https://localhost:8080/",
          "height": 0
        },
        "id": "x-7cIIPH-Q6Q",
        "outputId": "620b05b9-e1a5-448b-ed03-3a1e30ac8e80"
      },
      "execution_count": 14,
      "outputs": [
        {
          "output_type": "stream",
          "name": "stdout",
          "text": [
            "Tuned Hyperparameters : {'n_neighbors': 6, 'p': 2, 'weights': 'distance'}\n",
            "Accuracy : 0.9582734325923965\n"
          ]
        }
      ]
    },
    {
      "cell_type": "code",
      "source": [
        "hp_candidates = [{\"max_depth\" : [None,2,4,6,8,10,12], }]\n",
        "grid = GridSearchCV(estimator=DecisionTreeRegressor(), param_grid=hp_candidates, cv=5)\n",
        "grid.fit(X_train1,y_train)"
      ],
      "metadata": {
        "colab": {
          "base_uri": "https://localhost:8080/",
          "height": 0
        },
        "id": "SrMMmuij-dup",
        "outputId": "d56a46cb-97f7-4f70-acb6-6cf624c632f6"
      },
      "execution_count": 22,
      "outputs": [
        {
          "output_type": "execute_result",
          "data": {
            "text/plain": [
              "GridSearchCV(cv=5, estimator=DecisionTreeRegressor(),\n",
              "             param_grid=[{'max_depth': [None, 1, 2, 3, 4, 5, 6, 7, 8, 9, 10, 11,\n",
              "                                        12]}])"
            ]
          },
          "metadata": {},
          "execution_count": 22
        }
      ]
    },
    {
      "cell_type": "code",
      "source": [
        "print(\"Tuned Hyperparameters :\", grid.best_params_)\n",
        "print(\"Accuracy :\",grid.best_score_)"
      ],
      "metadata": {
        "colab": {
          "base_uri": "https://localhost:8080/",
          "height": 0
        },
        "id": "ojD0K065_Qpj",
        "outputId": "8872d9f9-26a2-4ea4-d4d7-42954834f0cd"
      },
      "execution_count": 23,
      "outputs": [
        {
          "output_type": "stream",
          "name": "stdout",
          "text": [
            "Tuned Hyperparameters : {'max_depth': None}\n",
            "Accuracy : 0.9057270160611951\n"
          ]
        }
      ]
    },
    {
      "cell_type": "code",
      "source": [
        "hp_candidates = [{'n_estimators': [10,20,30,40],'max_features': ['auto', 'sqrt', 'log2'],'max_depth' : [None,2,3,4,5]}]\n",
        "grid = GridSearchCV(estimator=RandomForestRegressor(), param_grid=hp_candidates, cv=5,scoring='neg_mean_absolute_error')\n",
        "grid.fit(X_train1,y_train)"
      ],
      "metadata": {
        "colab": {
          "base_uri": "https://localhost:8080/",
          "height": 0
        },
        "id": "Ec8cM5-jBRO-",
        "outputId": "f5e8192e-289c-4a5a-91c2-f55df3f77ca3"
      },
      "execution_count": 17,
      "outputs": [
        {
          "output_type": "execute_result",
          "data": {
            "text/plain": [
              "GridSearchCV(cv=5, estimator=RandomForestRegressor(),\n",
              "             param_grid=[{'max_depth': [None, 2, 3, 4, 5],\n",
              "                          'max_features': ['auto', 'sqrt', 'log2'],\n",
              "                          'n_estimators': [10, 20, 30, 40]}],\n",
              "             scoring='neg_mean_absolute_error')"
            ]
          },
          "metadata": {},
          "execution_count": 17
        }
      ]
    },
    {
      "cell_type": "code",
      "source": [
        "print(\"Tuned Hyperparameters :\", grid.best_params_)\n",
        "print(\"Accuracy :\",grid.best_score_)"
      ],
      "metadata": {
        "colab": {
          "base_uri": "https://localhost:8080/",
          "height": 0
        },
        "id": "Tku4Iz6rCB3q",
        "outputId": "b1f0a3d9-aa03-4814-cc16-9fb1476665c2"
      },
      "execution_count": 18,
      "outputs": [
        {
          "output_type": "stream",
          "name": "stdout",
          "text": [
            "Tuned Hyperparameters : {'max_depth': None, 'max_features': 'auto', 'n_estimators': 40}\n",
            "Accuracy : -4.5210631125\n"
          ]
        }
      ]
    },
    {
      "cell_type": "code",
      "source": [
        "classifiers_list = {\n",
        "    \"K-Neighbors Regressor\": KNeighborsRegressor(n_neighbors = 2, p = 2, weights = 'distance'),\n",
        "    \"Decision Tree Regressor\": DecisionTreeRegressor(max_depth= None),\n",
        "    \"Random Forest Regressor\": RandomForestRegressor(max_depth= None, max_features = 'auto', n_estimators = 40),\n",
        "    #\"Naive Bayes Regressor\" : GaussianProcessRegressor(),\n",
        "    \"Neural Network Regressor\" : MLPRegressor()\n",
        "}\n",
        "\n",
        "classifiers_count = len(classifiers_list.keys())\n",
        "df_results = pd.DataFrame(data=np.zeros(shape=(classifiers_count,5)), columns = ['classifier', 'Recall', 'F1', 'Precision', 'Accuracy'])\n",
        "\n",
        "for c_name, classifier in classifiers_list.items():\n",
        "  classifier.fit(X_train1,y_train)\n",
        "  prediction = []\n",
        "  prediction = classifier.predict(X_test1)\n",
        "  cv1 = ShuffleSplit(n_splits=5, test_size=0.2, random_state=0)\n",
        "  scores = cross_val_score(classifier, X_train1, y_train, cv=cv1)\n",
        "  print ('Classifier+OneHotEncoder', c_name)\n",
        "  print ('Cross validation', scores)\n",
        "  print(prediction)\n",
        "  #print(classification_report(y_test,prediction))\n",
        "  print(mean_squared_error(y_test,prediction, squared=False))"
      ],
      "metadata": {
        "colab": {
          "base_uri": "https://localhost:8080/",
          "height": 0
        },
        "id": "NcLvHSoES8ot",
        "outputId": "d0b97c9a-243e-4a16-ca26-0d79fc104619"
      },
      "execution_count": 19,
      "outputs": [
        {
          "output_type": "stream",
          "name": "stdout",
          "text": [
            "Classifier+OneHotEncoder K-Neighbors Regressor\n",
            "Cross validation [0.95171266 0.9502014  0.95259018 0.95294602 0.94923148]\n",
            "[ 52.30169881  32.99351873 145.48004059 ...  45.60925937  25.55738142\n",
            "  52.83870022]\n",
            "10.163535779197355\n",
            "Classifier+OneHotEncoder Decision Tree Regressor\n",
            "Cross validation [0.90723194 0.90185824 0.90154257 0.91268159 0.90455931]\n",
            "[ 52.92  34.32 107.46 ...  45.36  26.46  52.74]\n",
            "14.087015076303425\n",
            "Classifier+OneHotEncoder Random Forest Regressor\n",
            "Cross validation [0.9560381  0.95460111 0.95257575 0.95547944 0.95304388]\n",
            "[ 51.828   34.5825 148.911  ...  45.585   25.4745  52.8315]\n",
            "9.849071699470588\n"
          ]
        },
        {
          "output_type": "stream",
          "name": "stderr",
          "text": [
            "/usr/local/lib/python3.7/dist-packages/sklearn/neural_network/_multilayer_perceptron.py:696: ConvergenceWarning: Stochastic Optimizer: Maximum iterations (200) reached and the optimization hasn't converged yet.\n",
            "  ConvergenceWarning,\n",
            "/usr/local/lib/python3.7/dist-packages/sklearn/neural_network/_multilayer_perceptron.py:696: ConvergenceWarning: Stochastic Optimizer: Maximum iterations (200) reached and the optimization hasn't converged yet.\n",
            "  ConvergenceWarning,\n",
            "/usr/local/lib/python3.7/dist-packages/sklearn/neural_network/_multilayer_perceptron.py:696: ConvergenceWarning: Stochastic Optimizer: Maximum iterations (200) reached and the optimization hasn't converged yet.\n",
            "  ConvergenceWarning,\n",
            "/usr/local/lib/python3.7/dist-packages/sklearn/neural_network/_multilayer_perceptron.py:696: ConvergenceWarning: Stochastic Optimizer: Maximum iterations (200) reached and the optimization hasn't converged yet.\n",
            "  ConvergenceWarning,\n",
            "/usr/local/lib/python3.7/dist-packages/sklearn/neural_network/_multilayer_perceptron.py:696: ConvergenceWarning: Stochastic Optimizer: Maximum iterations (200) reached and the optimization hasn't converged yet.\n",
            "  ConvergenceWarning,\n"
          ]
        },
        {
          "output_type": "stream",
          "name": "stdout",
          "text": [
            "Classifier+OneHotEncoder Neural Network Regressor\n",
            "Cross validation [0.81797425 0.82557981 0.81994791 0.82640348 0.83188815]\n",
            "[ 43.71138528  32.30164145 109.68240518 ...  33.30781509  27.30334201\n",
            "  64.86746883]\n",
            "20.253207010597386\n"
          ]
        },
        {
          "output_type": "stream",
          "name": "stderr",
          "text": [
            "/usr/local/lib/python3.7/dist-packages/sklearn/neural_network/_multilayer_perceptron.py:696: ConvergenceWarning: Stochastic Optimizer: Maximum iterations (200) reached and the optimization hasn't converged yet.\n",
            "  ConvergenceWarning,\n"
          ]
        }
      ]
    },
    {
      "cell_type": "code",
      "source": [
        "from sklearn import neighbors\n",
        "from sklearn.metrics import mean_squared_error \n",
        "from math import sqrt\n",
        "import matplotlib.pyplot as plt\n",
        "%matplotlib inline\n",
        "rmse_val = [] #to store rmse values for different k\n",
        "for K in range(20):\n",
        "    K = K+1\n",
        "    model = neighbors.KNeighborsRegressor(n_neighbors = K)\n",
        "\n",
        "    model.fit(X_train, y_train)  #fit the model\n",
        "    pred=model.predict(X_test) #make prediction on test set\n",
        "    error = sqrt(mean_squared_error(y_test,pred)) #calculate rmse\n",
        "    rmse_val.append(error) #store rmse values\n",
        "    print('RMSE value for k= ' , K , 'is:', error)"
      ],
      "metadata": {
        "colab": {
          "base_uri": "https://localhost:8080/",
          "height": 0
        },
        "id": "u1QKUmpLV-la",
        "outputId": "d192945e-f89d-43ca-b830-3510caf0b2b0"
      },
      "execution_count": 20,
      "outputs": [
        {
          "output_type": "stream",
          "name": "stdout",
          "text": [
            "RMSE value for k=  1 is: 11.888223827805398\n",
            "RMSE value for k=  2 is: 10.265583827040722\n",
            "RMSE value for k=  3 is: 9.842908972453214\n",
            "RMSE value for k=  4 is: 9.722429523915306\n",
            "RMSE value for k=  5 is: 9.655117643944067\n",
            "RMSE value for k=  6 is: 9.639658604432006\n",
            "RMSE value for k=  7 is: 9.677903698674436\n",
            "RMSE value for k=  8 is: 9.722679412814916\n",
            "RMSE value for k=  9 is: 9.768395860347\n",
            "RMSE value for k=  10 is: 9.822937574096661\n",
            "RMSE value for k=  11 is: 9.906196556234073\n",
            "RMSE value for k=  12 is: 9.975580568380469\n",
            "RMSE value for k=  13 is: 10.041009049219548\n",
            "RMSE value for k=  14 is: 10.106092232527217\n",
            "RMSE value for k=  15 is: 10.16928041611598\n",
            "RMSE value for k=  16 is: 10.233886727844869\n",
            "RMSE value for k=  17 is: 10.30946144081513\n",
            "RMSE value for k=  18 is: 10.354768957103776\n",
            "RMSE value for k=  19 is: 10.432988483980504\n",
            "RMSE value for k=  20 is: 10.503287253376916\n"
          ]
        }
      ]
    },
    {
      "cell_type": "code",
      "source": [
        "curve = pd.DataFrame(rmse_val) #elbow curve \n",
        "curve.plot()"
      ],
      "metadata": {
        "colab": {
          "base_uri": "https://localhost:8080/",
          "height": 286
        },
        "id": "-vZvsWZqV_c1",
        "outputId": "50b33f73-3a67-45de-8251-7b23076b091e"
      },
      "execution_count": 21,
      "outputs": [
        {
          "output_type": "execute_result",
          "data": {
            "text/plain": [
              "<matplotlib.axes._subplots.AxesSubplot at 0x7f87d92fb790>"
            ]
          },
          "metadata": {},
          "execution_count": 21
        },
        {
          "output_type": "display_data",
          "data": {
            "text/plain": [
              "<Figure size 432x288 with 1 Axes>"
            ],
            "image/png": "[encoded data removed]"
          },
          "metadata": {
            "needs_background": "light"
          }
        }
      ]
    },
    {
      "cell_type": "code",
      "source": [
        "hp_candidates = [{\"max_depth\" : [1,3,5,7,9,None],\"min_samples_leaf\":[2,3,4,5],\"max_leaf_nodes\":[None,10,20]}]\n",
        "grid = GridSearchCV(estimator=DecisionTreeRegressor(), param_grid=hp_candidates, cv=5)\n",
        "grid.fit(X_train1,y_train)"
      ],
      "metadata": {
        "colab": {
          "base_uri": "https://localhost:8080/",
          "height": 0
        },
        "id": "6mQ2mZ83eRMP",
        "outputId": "25eb4e8b-8b99-4341-b7de-3a2dea978479"
      },
      "execution_count": 26,
      "outputs": [
        {
          "output_type": "execute_result",
          "data": {
            "text/plain": [
              "GridSearchCV(cv=5, estimator=DecisionTreeRegressor(),\n",
              "             param_grid=[{'max_depth': [1, 3, 5, 7, 9, None],\n",
              "                          'max_leaf_nodes': [None, 10, 20],\n",
              "                          'min_samples_leaf': [2, 3, 4, 5]}])"
            ]
          },
          "metadata": {},
          "execution_count": 26
        }
      ]
    },
    {
      "cell_type": "code",
      "source": [
        "print(\"Tuned Hyperparameters :\", grid.best_params_)\n",
        "print(\"Accuracy :\",grid.best_score_)"
      ],
      "metadata": {
        "colab": {
          "base_uri": "https://localhost:8080/",
          "height": 0
        },
        "id": "MAG1V39ae-TH",
        "outputId": "c6fb6bed-5f73-4136-c5ac-8fac54a1af04"
      },
      "execution_count": 25,
      "outputs": [
        {
          "output_type": "stream",
          "name": "stdout",
          "text": [
            "Tuned Hyperparameters : {'max_depth': 9, 'max_leaf_nodes': None, 'min_samples_leaf': 3}\n",
            "Accuracy : 0.8236125600489421\n"
          ]
        }
      ]
    },
    {
      "cell_type": "code",
      "source": [
        "from sklearn.neighbors import KNeighborsRegressor\n",
        "from sklearn.model_selection import KFold\n",
        "from sklearn.model_selection import GridSearchCV\n",
        "from sklearn.model_selection import train_test_split\n",
        "from sklearn.model_selection import KFold\n",
        "\n",
        "# Define our candidate hyperparameters\n",
        "hp_candidates = [{'n_neighbors': [2,3,4,5,6,7,8,9,10,11,12,13,14,15], 'weights': ['uniform','distance'],'p':[1,2,5]}]\n",
        "\n",
        "# Search for best hyperparameters\n",
        "grid = GridSearchCV(estimator=KNeighborsRegressor(), param_grid=hp_candidates, cv=5)\n",
        "\n",
        "grid.fit(X_train1,y_train)"
      ],
      "metadata": {
        "id": "Cfy0LetPaltd"
      },
      "execution_count": null,
      "outputs": []
    },
    {
      "cell_type": "code",
      "source": [
        "print(\"Tuned Hyperparameters :\", grid.best_params_)\n",
        "print(\"Accuracy :\",grid.best_score_)"
      ],
      "metadata": {
        "id": "J04eAILaane9"
      },
      "execution_count": null,
      "outputs": []
    },
    {
      "cell_type": "code",
      "source": [
        "rmse_val = [] #to store rmse values for different k\n",
        "for K in range(20):\n",
        "    K = K+1\n",
        "    model = neighbors.KNeighborsRegressor(n_neighbors=K,p=2,weights='distance')\n",
        "\n",
        "    model.fit(X_train, y_train)  #fit the model\n",
        "    pred=model.predict(X_test) #make prediction on test set\n",
        "    error = sqrt(mean_squared_error(y_test,pred)) #calculate rmse\n",
        "    rmse_val.append(error) #store rmse values\n",
        "    print('RMSE value for k= ' , K , 'is:', error)"
      ],
      "metadata": {
        "id": "BlGHSpkCapKW"
      },
      "execution_count": null,
      "outputs": []
    },
    {
      "cell_type": "code",
      "source": [
        "curve = pd.DataFrame(rmse_val) #elbow curve \n",
        "curve.plot()"
      ],
      "metadata": {
        "id": "U3gaGTxcbF3w"
      },
      "execution_count": null,
      "outputs": []
    },
    {
      "cell_type": "code",
      "source": [
        "from sklearn import tree\n",
        "text_representation = tree.export_text(regr)\n",
        "print(text_representation)"
      ],
      "metadata": {
        "id": "qc1_bdDxe4mc"
      },
      "execution_count": null,
      "outputs": []
    },
    {
      "cell_type": "code",
      "source": [
        "fig = plt.figure(figsize=(25,20))\n",
        "_ = tree.plot_tree(regr, feature_names=['x','y','dx','dy'], filled=True)"
      ],
      "metadata": {
        "id": "SDnNzjpHe5T0"
      },
      "execution_count": null,
      "outputs": []
    }
  ]
}