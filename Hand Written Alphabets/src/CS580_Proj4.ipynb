{
  "nbformat": 4,
  "nbformat_minor": 0,
  "metadata": {
    "colab": {
      "provenance": []
    },
    "kernelspec": {
      "name": "python3",
      "display_name": "Python 3"
    },
    "language_info": {
      "name": "python"
    }
  },
  "cells": [
    {
      "cell_type": "code",
      "source": [
        "import numpy as np\n",
        "import pandas as pd\n",
        "import matplotlib.pyplot as plt\n",
        "import random\n",
        "from sklearn.metrics import accuracy_score,classification_report,confusion_matrix"
      ],
      "metadata": {
        "id": "6JmUByES0t2a"
      },
      "execution_count": 2,
      "outputs": []
    },
    {
      "cell_type": "code",
      "source": [
        "colnames=['lettr', 'x-box', 'y-box', 'width','high','onpix','x-bar','y-bar','x2bar','y2bar','xybar','x2ybr','xy2br','x-ege','xegvy','y-ege','yegvx'] \n",
        "print(len(colnames))"
      ],
      "metadata": {
        "colab": {
          "base_uri": "https://localhost:8080/"
        },
        "id": "ONEoBGTW080-",
        "outputId": "2c157fbb-cbd9-43b5-f44b-422002586696"
      },
      "execution_count": 3,
      "outputs": [
        {
          "output_type": "stream",
          "name": "stdout",
          "text": [
            "17\n"
          ]
        }
      ]
    },
    {
      "cell_type": "code",
      "source": [
        "df_Train=pd.read_csv('/content/drive/MyDrive/train.csv',sep=\",\",names=colnames, header=None)\n",
        "df_Test=pd.read_csv('/content/drive/MyDrive/test.csv',sep=\",\",names=colnames, header=None)"
      ],
      "metadata": {
        "id": "8bJZuANf2Ggx"
      },
      "execution_count": 4,
      "outputs": []
    },
    {
      "cell_type": "code",
      "source": [
        "df_Train.head()"
      ],
      "metadata": {
        "colab": {
          "base_uri": "https://localhost:8080/",
          "height": 206
        },
        "id": "6kINuuVv1PYh",
        "outputId": "e3ee599e-daa3-4638-ddb3-a0da9270c7e4"
      },
      "execution_count": 5,
      "outputs": [
        {
          "output_type": "execute_result",
          "data": {
            "text/plain": [
              "  lettr  x-box  y-box  width  high  onpix  x-bar  y-bar  x2bar  y2bar  xybar  \\\n",
              "0     T      2      8      3     5      1      8     13      0      6      6   \n",
              "1     I      5     12      3     7      2     10      5      5      4     13   \n",
              "2     D      4     11      6     8      6     10      6      2      6     10   \n",
              "3     N      7     11      6     6      3      5      9      4      6      4   \n",
              "4     G      2      1      3     1      1      8      6      6      6      6   \n",
              "\n",
              "   x2ybr  xy2br  x-ege  xegvy  y-ege  yegvx  \n",
              "0     10      8      0      8      0      8  \n",
              "1      3      9      2      8      4     10  \n",
              "2      3      7      3      7      3      9  \n",
              "3      4     10      6     10      2      8  \n",
              "4      5      9      1      7      5     10  "
            ],
            "text/html": [
              "\n",
              "  <div id=\"df-f9f9d7a6-580a-4fa0-8715-c7338e370c29\">\n",
              "    <div class=\"colab-df-container\">\n",
              "      <div>\n",
              "<style scoped>\n",
              "    .dataframe tbody tr th:only-of-type {\n",
              "        vertical-align: middle;\n",
              "    }\n",
              "\n",
              "    .dataframe tbody tr th {\n",
              "        vertical-align: top;\n",
              "    }\n",
              "\n",
              "    .dataframe thead th {\n",
              "        text-align: right;\n",
              "    }\n",
              "</style>\n",
              "<table border=\"1\" class=\"dataframe\">\n",
              "  <thead>\n",
              "    <tr style=\"text-align: right;\">\n",
              "      <th></th>\n",
              "      <th>lettr</th>\n",
              "      <th>x-box</th>\n",
              "      <th>y-box</th>\n",
              "      <th>width</th>\n",
              "      <th>high</th>\n",
              "      <th>onpix</th>\n",
              "      <th>x-bar</th>\n",
              "      <th>y-bar</th>\n",
              "      <th>x2bar</th>\n",
              "      <th>y2bar</th>\n",
              "      <th>xybar</th>\n",
              "      <th>x2ybr</th>\n",
              "      <th>xy2br</th>\n",
              "      <th>x-ege</th>\n",
              "      <th>xegvy</th>\n",
              "      <th>y-ege</th>\n",
              "      <th>yegvx</th>\n",
              "    </tr>\n",
              "  </thead>\n",
              "  <tbody>\n",
              "    <tr>\n",
              "      <th>0</th>\n",
              "      <td>T</td>\n",
              "      <td>2</td>\n",
              "      <td>8</td>\n",
              "      <td>3</td>\n",
              "      <td>5</td>\n",
              "      <td>1</td>\n",
              "      <td>8</td>\n",
              "      <td>13</td>\n",
              "      <td>0</td>\n",
              "      <td>6</td>\n",
              "      <td>6</td>\n",
              "      <td>10</td>\n",
              "      <td>8</td>\n",
              "      <td>0</td>\n",
              "      <td>8</td>\n",
              "      <td>0</td>\n",
              "      <td>8</td>\n",
              "    </tr>\n",
              "    <tr>\n",
              "      <th>1</th>\n",
              "      <td>I</td>\n",
              "      <td>5</td>\n",
              "      <td>12</td>\n",
              "      <td>3</td>\n",
              "      <td>7</td>\n",
              "      <td>2</td>\n",
              "      <td>10</td>\n",
              "      <td>5</td>\n",
              "      <td>5</td>\n",
              "      <td>4</td>\n",
              "      <td>13</td>\n",
              "      <td>3</td>\n",
              "      <td>9</td>\n",
              "      <td>2</td>\n",
              "      <td>8</td>\n",
              "      <td>4</td>\n",
              "      <td>10</td>\n",
              "    </tr>\n",
              "    <tr>\n",
              "      <th>2</th>\n",
              "      <td>D</td>\n",
              "      <td>4</td>\n",
              "      <td>11</td>\n",
              "      <td>6</td>\n",
              "      <td>8</td>\n",
              "      <td>6</td>\n",
              "      <td>10</td>\n",
              "      <td>6</td>\n",
              "      <td>2</td>\n",
              "      <td>6</td>\n",
              "      <td>10</td>\n",
              "      <td>3</td>\n",
              "      <td>7</td>\n",
              "      <td>3</td>\n",
              "      <td>7</td>\n",
              "      <td>3</td>\n",
              "      <td>9</td>\n",
              "    </tr>\n",
              "    <tr>\n",
              "      <th>3</th>\n",
              "      <td>N</td>\n",
              "      <td>7</td>\n",
              "      <td>11</td>\n",
              "      <td>6</td>\n",
              "      <td>6</td>\n",
              "      <td>3</td>\n",
              "      <td>5</td>\n",
              "      <td>9</td>\n",
              "      <td>4</td>\n",
              "      <td>6</td>\n",
              "      <td>4</td>\n",
              "      <td>4</td>\n",
              "      <td>10</td>\n",
              "      <td>6</td>\n",
              "      <td>10</td>\n",
              "      <td>2</td>\n",
              "      <td>8</td>\n",
              "    </tr>\n",
              "    <tr>\n",
              "      <th>4</th>\n",
              "      <td>G</td>\n",
              "      <td>2</td>\n",
              "      <td>1</td>\n",
              "      <td>3</td>\n",
              "      <td>1</td>\n",
              "      <td>1</td>\n",
              "      <td>8</td>\n",
              "      <td>6</td>\n",
              "      <td>6</td>\n",
              "      <td>6</td>\n",
              "      <td>6</td>\n",
              "      <td>5</td>\n",
              "      <td>9</td>\n",
              "      <td>1</td>\n",
              "      <td>7</td>\n",
              "      <td>5</td>\n",
              "      <td>10</td>\n",
              "    </tr>\n",
              "  </tbody>\n",
              "</table>\n",
              "</div>\n",
              "      <button class=\"colab-df-convert\" onclick=\"convertToInteractive('df-f9f9d7a6-580a-4fa0-8715-c7338e370c29')\"\n",
              "              title=\"Convert this dataframe to an interactive table.\"\n",
              "              style=\"display:none;\">\n",
              "        \n",
              "  <svg xmlns=\"http://www.w3.org/2000/svg\" height=\"24px\"viewBox=\"0 0 24 24\"\n",
              "       width=\"24px\">\n",
              "    <path d=\"M0 0h24v24H0V0z\" fill=\"none\"/>\n",
              "    <path d=\"M18.56 5.44l.94 2.06.94-2.06 2.06-.94-2.06-.94-.94-2.06-.94 2.06-2.06.94zm-11 1L8.5 8.5l.94-2.06 2.06-.94-2.06-.94L8.5 2.5l-.94 2.06-2.06.94zm10 10l.94 2.06.94-2.06 2.06-.94-2.06-.94-.94-2.06-.94 2.06-2.06.94z\"/><path d=\"M17.41 7.96l-1.37-1.37c-.4-.4-.92-.59-1.43-.59-.52 0-1.04.2-1.43.59L10.3 9.45l-7.72 7.72c-.78.78-.78 2.05 0 2.83L4 21.41c.39.39.9.59 1.41.59.51 0 1.02-.2 1.41-.59l7.78-7.78 2.81-2.81c.8-.78.8-2.07 0-2.86zM5.41 20L4 18.59l7.72-7.72 1.47 1.35L5.41 20z\"/>\n",
              "  </svg>\n",
              "      </button>\n",
              "      \n",
              "  <style>\n",
              "    .colab-df-container {\n",
              "      display:flex;\n",
              "      flex-wrap:wrap;\n",
              "      gap: 12px;\n",
              "    }\n",
              "\n",
              "    .colab-df-convert {\n",
              "      background-color: #E8F0FE;\n",
              "      border: none;\n",
              "      border-radius: 50%;\n",
              "      cursor: pointer;\n",
              "      display: none;\n",
              "      fill: #1967D2;\n",
              "      height: 32px;\n",
              "      padding: 0 0 0 0;\n",
              "      width: 32px;\n",
              "    }\n",
              "\n",
              "    .colab-df-convert:hover {\n",
              "      background-color: #E2EBFA;\n",
              "      box-shadow: 0px 1px 2px rgba(60, 64, 67, 0.3), 0px 1px 3px 1px rgba(60, 64, 67, 0.15);\n",
              "      fill: #174EA6;\n",
              "    }\n",
              "\n",
              "    [theme=dark] .colab-df-convert {\n",
              "      background-color: #3B4455;\n",
              "      fill: #D2E3FC;\n",
              "    }\n",
              "\n",
              "    [theme=dark] .colab-df-convert:hover {\n",
              "      background-color: #434B5C;\n",
              "      box-shadow: 0px 1px 3px 1px rgba(0, 0, 0, 0.15);\n",
              "      filter: drop-shadow(0px 1px 2px rgba(0, 0, 0, 0.3));\n",
              "      fill: #FFFFFF;\n",
              "    }\n",
              "  </style>\n",
              "\n",
              "      <script>\n",
              "        const buttonEl =\n",
              "          document.querySelector('#df-f9f9d7a6-580a-4fa0-8715-c7338e370c29 button.colab-df-convert');\n",
              "        buttonEl.style.display =\n",
              "          google.colab.kernel.accessAllowed ? 'block' : 'none';\n",
              "\n",
              "        async function convertToInteractive(key) {\n",
              "          const element = document.querySelector('#df-f9f9d7a6-580a-4fa0-8715-c7338e370c29');\n",
              "          const dataTable =\n",
              "            await google.colab.kernel.invokeFunction('convertToInteractive',\n",
              "                                                     [key], {});\n",
              "          if (!dataTable) return;\n",
              "\n",
              "          const docLinkHtml = 'Like what you see? Visit the ' +\n",
              "            '<a target=\"_blank\" href=https://colab.research.google.com/notebooks/data_table.ipynb>data table notebook</a>'\n",
              "            + ' to learn more about interactive tables.';\n",
              "          element.innerHTML = '';\n",
              "          dataTable['output_type'] = 'display_data';\n",
              "          await google.colab.output.renderOutput(dataTable, element);\n",
              "          const docLink = document.createElement('div');\n",
              "          docLink.innerHTML = docLinkHtml;\n",
              "          element.appendChild(docLink);\n",
              "        }\n",
              "      </script>\n",
              "    </div>\n",
              "  </div>\n",
              "  "
            ]
          },
          "metadata": {},
          "execution_count": 5
        }
      ]
    },
    {
      "cell_type": "code",
      "source": [
        "df_Train.describe()"
      ],
      "metadata": {
        "colab": {
          "base_uri": "https://localhost:8080/",
          "height": 364
        },
        "id": "wS_E8sNm2Vkj",
        "outputId": "bf745b4f-baec-4bcf-fe56-3e9ba424c06a"
      },
      "execution_count": 6,
      "outputs": [
        {
          "output_type": "execute_result",
          "data": {
            "text/plain": [
              "              x-box         y-box         width          high         onpix  \\\n",
              "count  16000.000000  16000.000000  16000.000000  16000.000000  16000.000000   \n",
              "mean       4.020187      7.028937      5.117312      5.365875      3.500125   \n",
              "std        1.908503      3.303923      2.003260      2.262621      2.192271   \n",
              "min        0.000000      0.000000      0.000000      0.000000      0.000000   \n",
              "25%        3.000000      5.000000      4.000000      4.000000      2.000000   \n",
              "50%        4.000000      7.000000      5.000000      6.000000      3.000000   \n",
              "75%        5.000000      9.000000      6.000000      7.000000      5.000000   \n",
              "max       15.000000     15.000000     15.000000     15.000000     15.000000   \n",
              "\n",
              "              x-bar         y-bar         x2bar         y2bar         xybar  \\\n",
              "count  16000.000000  16000.000000  16000.000000  16000.000000  16000.000000   \n",
              "mean       6.892625      7.512437      4.627313      5.170375      8.286625   \n",
              "std        2.029527      2.333867      2.711573      2.384864      2.485706   \n",
              "min        0.000000      0.000000      0.000000      0.000000      0.000000   \n",
              "25%        6.000000      6.000000      3.000000      4.000000      7.000000   \n",
              "50%        7.000000      7.000000      4.000000      5.000000      8.000000   \n",
              "75%        8.000000      9.000000      6.000000      7.000000     10.000000   \n",
              "max       15.000000     15.000000     15.000000     15.000000     15.000000   \n",
              "\n",
              "              x2ybr         xy2br         x-ege         xegvy         y-ege  \\\n",
              "count  16000.000000  16000.000000  16000.000000  16000.000000  16000.000000   \n",
              "mean       6.471250      7.927125      3.048750      8.343937      3.682000   \n",
              "std        2.642061      2.071976      2.342481      1.550055      2.571389   \n",
              "min        0.000000      0.000000      0.000000      0.000000      0.000000   \n",
              "25%        5.000000      7.000000      1.000000      8.000000      2.000000   \n",
              "50%        6.000000      8.000000      3.000000      8.000000      3.000000   \n",
              "75%        8.000000      9.000000      4.000000      9.000000      5.000000   \n",
              "max       15.000000     15.000000     15.000000     15.000000     15.000000   \n",
              "\n",
              "              yegvx  \n",
              "count  16000.000000  \n",
              "mean       7.796250  \n",
              "std        1.603402  \n",
              "min        1.000000  \n",
              "25%        7.000000  \n",
              "50%        8.000000  \n",
              "75%        8.000000  \n",
              "max       15.000000  "
            ],
            "text/html": [
              "\n",
              "  <div id=\"df-c9f3ce80-ecbc-4655-9b87-11a622bdd859\">\n",
              "    <div class=\"colab-df-container\">\n",
              "      <div>\n",
              "<style scoped>\n",
              "    .dataframe tbody tr th:only-of-type {\n",
              "        vertical-align: middle;\n",
              "    }\n",
              "\n",
              "    .dataframe tbody tr th {\n",
              "        vertical-align: top;\n",
              "    }\n",
              "\n",
              "    .dataframe thead th {\n",
              "        text-align: right;\n",
              "    }\n",
              "</style>\n",
              "<table border=\"1\" class=\"dataframe\">\n",
              "  <thead>\n",
              "    <tr style=\"text-align: right;\">\n",
              "      <th></th>\n",
              "      <th>x-box</th>\n",
              "      <th>y-box</th>\n",
              "      <th>width</th>\n",
              "      <th>high</th>\n",
              "      <th>onpix</th>\n",
              "      <th>x-bar</th>\n",
              "      <th>y-bar</th>\n",
              "      <th>x2bar</th>\n",
              "      <th>y2bar</th>\n",
              "      <th>xybar</th>\n",
              "      <th>x2ybr</th>\n",
              "      <th>xy2br</th>\n",
              "      <th>x-ege</th>\n",
              "      <th>xegvy</th>\n",
              "      <th>y-ege</th>\n",
              "      <th>yegvx</th>\n",
              "    </tr>\n",
              "  </thead>\n",
              "  <tbody>\n",
              "    <tr>\n",
              "      <th>count</th>\n",
              "      <td>16000.000000</td>\n",
              "      <td>16000.000000</td>\n",
              "      <td>16000.000000</td>\n",
              "      <td>16000.000000</td>\n",
              "      <td>16000.000000</td>\n",
              "      <td>16000.000000</td>\n",
              "      <td>16000.000000</td>\n",
              "      <td>16000.000000</td>\n",
              "      <td>16000.000000</td>\n",
              "      <td>16000.000000</td>\n",
              "      <td>16000.000000</td>\n",
              "      <td>16000.000000</td>\n",
              "      <td>16000.000000</td>\n",
              "      <td>16000.000000</td>\n",
              "      <td>16000.000000</td>\n",
              "      <td>16000.000000</td>\n",
              "    </tr>\n",
              "    <tr>\n",
              "      <th>mean</th>\n",
              "      <td>4.020187</td>\n",
              "      <td>7.028937</td>\n",
              "      <td>5.117312</td>\n",
              "      <td>5.365875</td>\n",
              "      <td>3.500125</td>\n",
              "      <td>6.892625</td>\n",
              "      <td>7.512437</td>\n",
              "      <td>4.627313</td>\n",
              "      <td>5.170375</td>\n",
              "      <td>8.286625</td>\n",
              "      <td>6.471250</td>\n",
              "      <td>7.927125</td>\n",
              "      <td>3.048750</td>\n",
              "      <td>8.343937</td>\n",
              "      <td>3.682000</td>\n",
              "      <td>7.796250</td>\n",
              "    </tr>\n",
              "    <tr>\n",
              "      <th>std</th>\n",
              "      <td>1.908503</td>\n",
              "      <td>3.303923</td>\n",
              "      <td>2.003260</td>\n",
              "      <td>2.262621</td>\n",
              "      <td>2.192271</td>\n",
              "      <td>2.029527</td>\n",
              "      <td>2.333867</td>\n",
              "      <td>2.711573</td>\n",
              "      <td>2.384864</td>\n",
              "      <td>2.485706</td>\n",
              "      <td>2.642061</td>\n",
              "      <td>2.071976</td>\n",
              "      <td>2.342481</td>\n",
              "      <td>1.550055</td>\n",
              "      <td>2.571389</td>\n",
              "      <td>1.603402</td>\n",
              "    </tr>\n",
              "    <tr>\n",
              "      <th>min</th>\n",
              "      <td>0.000000</td>\n",
              "      <td>0.000000</td>\n",
              "      <td>0.000000</td>\n",
              "      <td>0.000000</td>\n",
              "      <td>0.000000</td>\n",
              "      <td>0.000000</td>\n",
              "      <td>0.000000</td>\n",
              "      <td>0.000000</td>\n",
              "      <td>0.000000</td>\n",
              "      <td>0.000000</td>\n",
              "      <td>0.000000</td>\n",
              "      <td>0.000000</td>\n",
              "      <td>0.000000</td>\n",
              "      <td>0.000000</td>\n",
              "      <td>0.000000</td>\n",
              "      <td>1.000000</td>\n",
              "    </tr>\n",
              "    <tr>\n",
              "      <th>25%</th>\n",
              "      <td>3.000000</td>\n",
              "      <td>5.000000</td>\n",
              "      <td>4.000000</td>\n",
              "      <td>4.000000</td>\n",
              "      <td>2.000000</td>\n",
              "      <td>6.000000</td>\n",
              "      <td>6.000000</td>\n",
              "      <td>3.000000</td>\n",
              "      <td>4.000000</td>\n",
              "      <td>7.000000</td>\n",
              "      <td>5.000000</td>\n",
              "      <td>7.000000</td>\n",
              "      <td>1.000000</td>\n",
              "      <td>8.000000</td>\n",
              "      <td>2.000000</td>\n",
              "      <td>7.000000</td>\n",
              "    </tr>\n",
              "    <tr>\n",
              "      <th>50%</th>\n",
              "      <td>4.000000</td>\n",
              "      <td>7.000000</td>\n",
              "      <td>5.000000</td>\n",
              "      <td>6.000000</td>\n",
              "      <td>3.000000</td>\n",
              "      <td>7.000000</td>\n",
              "      <td>7.000000</td>\n",
              "      <td>4.000000</td>\n",
              "      <td>5.000000</td>\n",
              "      <td>8.000000</td>\n",
              "      <td>6.000000</td>\n",
              "      <td>8.000000</td>\n",
              "      <td>3.000000</td>\n",
              "      <td>8.000000</td>\n",
              "      <td>3.000000</td>\n",
              "      <td>8.000000</td>\n",
              "    </tr>\n",
              "    <tr>\n",
              "      <th>75%</th>\n",
              "      <td>5.000000</td>\n",
              "      <td>9.000000</td>\n",
              "      <td>6.000000</td>\n",
              "      <td>7.000000</td>\n",
              "      <td>5.000000</td>\n",
              "      <td>8.000000</td>\n",
              "      <td>9.000000</td>\n",
              "      <td>6.000000</td>\n",
              "      <td>7.000000</td>\n",
              "      <td>10.000000</td>\n",
              "      <td>8.000000</td>\n",
              "      <td>9.000000</td>\n",
              "      <td>4.000000</td>\n",
              "      <td>9.000000</td>\n",
              "      <td>5.000000</td>\n",
              "      <td>8.000000</td>\n",
              "    </tr>\n",
              "    <tr>\n",
              "      <th>max</th>\n",
              "      <td>15.000000</td>\n",
              "      <td>15.000000</td>\n",
              "      <td>15.000000</td>\n",
              "      <td>15.000000</td>\n",
              "      <td>15.000000</td>\n",
              "      <td>15.000000</td>\n",
              "      <td>15.000000</td>\n",
              "      <td>15.000000</td>\n",
              "      <td>15.000000</td>\n",
              "      <td>15.000000</td>\n",
              "      <td>15.000000</td>\n",
              "      <td>15.000000</td>\n",
              "      <td>15.000000</td>\n",
              "      <td>15.000000</td>\n",
              "      <td>15.000000</td>\n",
              "      <td>15.000000</td>\n",
              "    </tr>\n",
              "  </tbody>\n",
              "</table>\n",
              "</div>\n",
              "      <button class=\"colab-df-convert\" onclick=\"convertToInteractive('df-c9f3ce80-ecbc-4655-9b87-11a622bdd859')\"\n",
              "              title=\"Convert this dataframe to an interactive table.\"\n",
              "              style=\"display:none;\">\n",
              "        \n",
              "  <svg xmlns=\"http://www.w3.org/2000/svg\" height=\"24px\"viewBox=\"0 0 24 24\"\n",
              "       width=\"24px\">\n",
              "    <path d=\"M0 0h24v24H0V0z\" fill=\"none\"/>\n",
              "    <path d=\"M18.56 5.44l.94 2.06.94-2.06 2.06-.94-2.06-.94-.94-2.06-.94 2.06-2.06.94zm-11 1L8.5 8.5l.94-2.06 2.06-.94-2.06-.94L8.5 2.5l-.94 2.06-2.06.94zm10 10l.94 2.06.94-2.06 2.06-.94-2.06-.94-.94-2.06-.94 2.06-2.06.94z\"/><path d=\"M17.41 7.96l-1.37-1.37c-.4-.4-.92-.59-1.43-.59-.52 0-1.04.2-1.43.59L10.3 9.45l-7.72 7.72c-.78.78-.78 2.05 0 2.83L4 21.41c.39.39.9.59 1.41.59.51 0 1.02-.2 1.41-.59l7.78-7.78 2.81-2.81c.8-.78.8-2.07 0-2.86zM5.41 20L4 18.59l7.72-7.72 1.47 1.35L5.41 20z\"/>\n",
              "  </svg>\n",
              "      </button>\n",
              "      \n",
              "  <style>\n",
              "    .colab-df-container {\n",
              "      display:flex;\n",
              "      flex-wrap:wrap;\n",
              "      gap: 12px;\n",
              "    }\n",
              "\n",
              "    .colab-df-convert {\n",
              "      background-color: #E8F0FE;\n",
              "      border: none;\n",
              "      border-radius: 50%;\n",
              "      cursor: pointer;\n",
              "      display: none;\n",
              "      fill: #1967D2;\n",
              "      height: 32px;\n",
              "      padding: 0 0 0 0;\n",
              "      width: 32px;\n",
              "    }\n",
              "\n",
              "    .colab-df-convert:hover {\n",
              "      background-color: #E2EBFA;\n",
              "      box-shadow: 0px 1px 2px rgba(60, 64, 67, 0.3), 0px 1px 3px 1px rgba(60, 64, 67, 0.15);\n",
              "      fill: #174EA6;\n",
              "    }\n",
              "\n",
              "    [theme=dark] .colab-df-convert {\n",
              "      background-color: #3B4455;\n",
              "      fill: #D2E3FC;\n",
              "    }\n",
              "\n",
              "    [theme=dark] .colab-df-convert:hover {\n",
              "      background-color: #434B5C;\n",
              "      box-shadow: 0px 1px 3px 1px rgba(0, 0, 0, 0.15);\n",
              "      filter: drop-shadow(0px 1px 2px rgba(0, 0, 0, 0.3));\n",
              "      fill: #FFFFFF;\n",
              "    }\n",
              "  </style>\n",
              "\n",
              "      <script>\n",
              "        const buttonEl =\n",
              "          document.querySelector('#df-c9f3ce80-ecbc-4655-9b87-11a622bdd859 button.colab-df-convert');\n",
              "        buttonEl.style.display =\n",
              "          google.colab.kernel.accessAllowed ? 'block' : 'none';\n",
              "\n",
              "        async function convertToInteractive(key) {\n",
              "          const element = document.querySelector('#df-c9f3ce80-ecbc-4655-9b87-11a622bdd859');\n",
              "          const dataTable =\n",
              "            await google.colab.kernel.invokeFunction('convertToInteractive',\n",
              "                                                     [key], {});\n",
              "          if (!dataTable) return;\n",
              "\n",
              "          const docLinkHtml = 'Like what you see? Visit the ' +\n",
              "            '<a target=\"_blank\" href=https://colab.research.google.com/notebooks/data_table.ipynb>data table notebook</a>'\n",
              "            + ' to learn more about interactive tables.';\n",
              "          element.innerHTML = '';\n",
              "          dataTable['output_type'] = 'display_data';\n",
              "          await google.colab.output.renderOutput(dataTable, element);\n",
              "          const docLink = document.createElement('div');\n",
              "          docLink.innerHTML = docLinkHtml;\n",
              "          element.appendChild(docLink);\n",
              "        }\n",
              "      </script>\n",
              "    </div>\n",
              "  </div>\n",
              "  "
            ]
          },
          "metadata": {},
          "execution_count": 6
        }
      ]
    },
    {
      "cell_type": "code",
      "source": [
        "df_Test.describe()"
      ],
      "metadata": {
        "colab": {
          "base_uri": "https://localhost:8080/",
          "height": 344
        },
        "id": "PPoWmFbm8fGs",
        "outputId": "f83c416e-66e3-4c21-c951-c05d9a2fb064"
      },
      "execution_count": 7,
      "outputs": [
        {
          "output_type": "execute_result",
          "data": {
            "text/plain": [
              "             x-box        y-box        width         high        onpix  \\\n",
              "count  4000.000000  4000.000000  4000.000000  4000.000000  4000.000000   \n",
              "mean      4.037000     7.061750     5.140000     5.398750     3.528750   \n",
              "std       1.932114     3.307366     2.059359     2.256551     2.183315   \n",
              "min       0.000000     0.000000     0.000000     0.000000     0.000000   \n",
              "25%       3.000000     5.000000     4.000000     4.000000     2.000000   \n",
              "50%       4.000000     7.000000     5.000000     6.000000     3.000000   \n",
              "75%       5.000000     9.000000     6.000000     7.000000     5.000000   \n",
              "max      14.000000    15.000000    14.000000    14.000000    15.000000   \n",
              "\n",
              "            x-bar        y-bar       x2bar        y2bar       xybar  \\\n",
              "count  4000.00000  4000.000000  4000.00000  4000.000000  4000.00000   \n",
              "mean      6.91750     7.452500     4.63375     5.211750     8.26375   \n",
              "std       2.01214     2.290645     2.65337     2.364595     2.49975   \n",
              "min       0.00000     0.000000     0.00000     0.000000     0.00000   \n",
              "25%       6.00000     6.000000     3.00000     4.000000     7.00000   \n",
              "50%       7.00000     7.000000     4.00000     5.000000     7.00000   \n",
              "75%       8.00000     8.000000     6.00000     7.000000    10.00000   \n",
              "max      15.00000    15.000000    15.00000    15.000000    15.00000   \n",
              "\n",
              "             x2ybr        xy2br        x-ege        xegvy        y-ege  \\\n",
              "count  4000.000000  4000.000000  4000.000000  4000.000000  4000.000000   \n",
              "mean      6.385000     7.936500     3.035500     8.318500     3.730750   \n",
              "std       2.585816     2.115085     2.292609     1.533345     2.549682   \n",
              "min       0.000000     2.000000     0.000000     1.000000     0.000000   \n",
              "25%       5.000000     7.000000     2.000000     8.000000     2.000000   \n",
              "50%       6.000000     8.000000     3.000000     8.000000     4.000000   \n",
              "75%       8.000000     9.000000     4.000000     9.000000     5.000000   \n",
              "max      15.000000    15.000000    15.000000    14.000000    15.000000   \n",
              "\n",
              "            yegvx  \n",
              "count  4000.00000  \n",
              "mean      7.82100  \n",
              "std       1.67262  \n",
              "min       0.00000  \n",
              "25%       7.00000  \n",
              "50%       8.00000  \n",
              "75%       9.00000  \n",
              "max      15.00000  "
            ],
            "text/html": [
              "\n",
              "  <div id=\"df-c38f6411-9758-4562-a158-713870b2bea3\">\n",
              "    <div class=\"colab-df-container\">\n",
              "      <div>\n",
              "<style scoped>\n",
              "    .dataframe tbody tr th:only-of-type {\n",
              "        vertical-align: middle;\n",
              "    }\n",
              "\n",
              "    .dataframe tbody tr th {\n",
              "        vertical-align: top;\n",
              "    }\n",
              "\n",
              "    .dataframe thead th {\n",
              "        text-align: right;\n",
              "    }\n",
              "</style>\n",
              "<table border=\"1\" class=\"dataframe\">\n",
              "  <thead>\n",
              "    <tr style=\"text-align: right;\">\n",
              "      <th></th>\n",
              "      <th>x-box</th>\n",
              "      <th>y-box</th>\n",
              "      <th>width</th>\n",
              "      <th>high</th>\n",
              "      <th>onpix</th>\n",
              "      <th>x-bar</th>\n",
              "      <th>y-bar</th>\n",
              "      <th>x2bar</th>\n",
              "      <th>y2bar</th>\n",
              "      <th>xybar</th>\n",
              "      <th>x2ybr</th>\n",
              "      <th>xy2br</th>\n",
              "      <th>x-ege</th>\n",
              "      <th>xegvy</th>\n",
              "      <th>y-ege</th>\n",
              "      <th>yegvx</th>\n",
              "    </tr>\n",
              "  </thead>\n",
              "  <tbody>\n",
              "    <tr>\n",
              "      <th>count</th>\n",
              "      <td>4000.000000</td>\n",
              "      <td>4000.000000</td>\n",
              "      <td>4000.000000</td>\n",
              "      <td>4000.000000</td>\n",
              "      <td>4000.000000</td>\n",
              "      <td>4000.00000</td>\n",
              "      <td>4000.000000</td>\n",
              "      <td>4000.00000</td>\n",
              "      <td>4000.000000</td>\n",
              "      <td>4000.00000</td>\n",
              "      <td>4000.000000</td>\n",
              "      <td>4000.000000</td>\n",
              "      <td>4000.000000</td>\n",
              "      <td>4000.000000</td>\n",
              "      <td>4000.000000</td>\n",
              "      <td>4000.00000</td>\n",
              "    </tr>\n",
              "    <tr>\n",
              "      <th>mean</th>\n",
              "      <td>4.037000</td>\n",
              "      <td>7.061750</td>\n",
              "      <td>5.140000</td>\n",
              "      <td>5.398750</td>\n",
              "      <td>3.528750</td>\n",
              "      <td>6.91750</td>\n",
              "      <td>7.452500</td>\n",
              "      <td>4.63375</td>\n",
              "      <td>5.211750</td>\n",
              "      <td>8.26375</td>\n",
              "      <td>6.385000</td>\n",
              "      <td>7.936500</td>\n",
              "      <td>3.035500</td>\n",
              "      <td>8.318500</td>\n",
              "      <td>3.730750</td>\n",
              "      <td>7.82100</td>\n",
              "    </tr>\n",
              "    <tr>\n",
              "      <th>std</th>\n",
              "      <td>1.932114</td>\n",
              "      <td>3.307366</td>\n",
              "      <td>2.059359</td>\n",
              "      <td>2.256551</td>\n",
              "      <td>2.183315</td>\n",
              "      <td>2.01214</td>\n",
              "      <td>2.290645</td>\n",
              "      <td>2.65337</td>\n",
              "      <td>2.364595</td>\n",
              "      <td>2.49975</td>\n",
              "      <td>2.585816</td>\n",
              "      <td>2.115085</td>\n",
              "      <td>2.292609</td>\n",
              "      <td>1.533345</td>\n",
              "      <td>2.549682</td>\n",
              "      <td>1.67262</td>\n",
              "    </tr>\n",
              "    <tr>\n",
              "      <th>min</th>\n",
              "      <td>0.000000</td>\n",
              "      <td>0.000000</td>\n",
              "      <td>0.000000</td>\n",
              "      <td>0.000000</td>\n",
              "      <td>0.000000</td>\n",
              "      <td>0.00000</td>\n",
              "      <td>0.000000</td>\n",
              "      <td>0.00000</td>\n",
              "      <td>0.000000</td>\n",
              "      <td>0.00000</td>\n",
              "      <td>0.000000</td>\n",
              "      <td>2.000000</td>\n",
              "      <td>0.000000</td>\n",
              "      <td>1.000000</td>\n",
              "      <td>0.000000</td>\n",
              "      <td>0.00000</td>\n",
              "    </tr>\n",
              "    <tr>\n",
              "      <th>25%</th>\n",
              "      <td>3.000000</td>\n",
              "      <td>5.000000</td>\n",
              "      <td>4.000000</td>\n",
              "      <td>4.000000</td>\n",
              "      <td>2.000000</td>\n",
              "      <td>6.00000</td>\n",
              "      <td>6.000000</td>\n",
              "      <td>3.00000</td>\n",
              "      <td>4.000000</td>\n",
              "      <td>7.00000</td>\n",
              "      <td>5.000000</td>\n",
              "      <td>7.000000</td>\n",
              "      <td>2.000000</td>\n",
              "      <td>8.000000</td>\n",
              "      <td>2.000000</td>\n",
              "      <td>7.00000</td>\n",
              "    </tr>\n",
              "    <tr>\n",
              "      <th>50%</th>\n",
              "      <td>4.000000</td>\n",
              "      <td>7.000000</td>\n",
              "      <td>5.000000</td>\n",
              "      <td>6.000000</td>\n",
              "      <td>3.000000</td>\n",
              "      <td>7.00000</td>\n",
              "      <td>7.000000</td>\n",
              "      <td>4.00000</td>\n",
              "      <td>5.000000</td>\n",
              "      <td>7.00000</td>\n",
              "      <td>6.000000</td>\n",
              "      <td>8.000000</td>\n",
              "      <td>3.000000</td>\n",
              "      <td>8.000000</td>\n",
              "      <td>4.000000</td>\n",
              "      <td>8.00000</td>\n",
              "    </tr>\n",
              "    <tr>\n",
              "      <th>75%</th>\n",
              "      <td>5.000000</td>\n",
              "      <td>9.000000</td>\n",
              "      <td>6.000000</td>\n",
              "      <td>7.000000</td>\n",
              "      <td>5.000000</td>\n",
              "      <td>8.00000</td>\n",
              "      <td>8.000000</td>\n",
              "      <td>6.00000</td>\n",
              "      <td>7.000000</td>\n",
              "      <td>10.00000</td>\n",
              "      <td>8.000000</td>\n",
              "      <td>9.000000</td>\n",
              "      <td>4.000000</td>\n",
              "      <td>9.000000</td>\n",
              "      <td>5.000000</td>\n",
              "      <td>9.00000</td>\n",
              "    </tr>\n",
              "    <tr>\n",
              "      <th>max</th>\n",
              "      <td>14.000000</td>\n",
              "      <td>15.000000</td>\n",
              "      <td>14.000000</td>\n",
              "      <td>14.000000</td>\n",
              "      <td>15.000000</td>\n",
              "      <td>15.00000</td>\n",
              "      <td>15.000000</td>\n",
              "      <td>15.00000</td>\n",
              "      <td>15.000000</td>\n",
              "      <td>15.00000</td>\n",
              "      <td>15.000000</td>\n",
              "      <td>15.000000</td>\n",
              "      <td>15.000000</td>\n",
              "      <td>14.000000</td>\n",
              "      <td>15.000000</td>\n",
              "      <td>15.00000</td>\n",
              "    </tr>\n",
              "  </tbody>\n",
              "</table>\n",
              "</div>\n",
              "      <button class=\"colab-df-convert\" onclick=\"convertToInteractive('df-c38f6411-9758-4562-a158-713870b2bea3')\"\n",
              "              title=\"Convert this dataframe to an interactive table.\"\n",
              "              style=\"display:none;\">\n",
              "        \n",
              "  <svg xmlns=\"http://www.w3.org/2000/svg\" height=\"24px\"viewBox=\"0 0 24 24\"\n",
              "       width=\"24px\">\n",
              "    <path d=\"M0 0h24v24H0V0z\" fill=\"none\"/>\n",
              "    <path d=\"M18.56 5.44l.94 2.06.94-2.06 2.06-.94-2.06-.94-.94-2.06-.94 2.06-2.06.94zm-11 1L8.5 8.5l.94-2.06 2.06-.94-2.06-.94L8.5 2.5l-.94 2.06-2.06.94zm10 10l.94 2.06.94-2.06 2.06-.94-2.06-.94-.94-2.06-.94 2.06-2.06.94z\"/><path d=\"M17.41 7.96l-1.37-1.37c-.4-.4-.92-.59-1.43-.59-.52 0-1.04.2-1.43.59L10.3 9.45l-7.72 7.72c-.78.78-.78 2.05 0 2.83L4 21.41c.39.39.9.59 1.41.59.51 0 1.02-.2 1.41-.59l7.78-7.78 2.81-2.81c.8-.78.8-2.07 0-2.86zM5.41 20L4 18.59l7.72-7.72 1.47 1.35L5.41 20z\"/>\n",
              "  </svg>\n",
              "      </button>\n",
              "      \n",
              "  <style>\n",
              "    .colab-df-container {\n",
              "      display:flex;\n",
              "      flex-wrap:wrap;\n",
              "      gap: 12px;\n",
              "    }\n",
              "\n",
              "    .colab-df-convert {\n",
              "      background-color: #E8F0FE;\n",
              "      border: none;\n",
              "      border-radius: 50%;\n",
              "      cursor: pointer;\n",
              "      display: none;\n",
              "      fill: #1967D2;\n",
              "      height: 32px;\n",
              "      padding: 0 0 0 0;\n",
              "      width: 32px;\n",
              "    }\n",
              "\n",
              "    .colab-df-convert:hover {\n",
              "      background-color: #E2EBFA;\n",
              "      box-shadow: 0px 1px 2px rgba(60, 64, 67, 0.3), 0px 1px 3px 1px rgba(60, 64, 67, 0.15);\n",
              "      fill: #174EA6;\n",
              "    }\n",
              "\n",
              "    [theme=dark] .colab-df-convert {\n",
              "      background-color: #3B4455;\n",
              "      fill: #D2E3FC;\n",
              "    }\n",
              "\n",
              "    [theme=dark] .colab-df-convert:hover {\n",
              "      background-color: #434B5C;\n",
              "      box-shadow: 0px 1px 3px 1px rgba(0, 0, 0, 0.15);\n",
              "      filter: drop-shadow(0px 1px 2px rgba(0, 0, 0, 0.3));\n",
              "      fill: #FFFFFF;\n",
              "    }\n",
              "  </style>\n",
              "\n",
              "      <script>\n",
              "        const buttonEl =\n",
              "          document.querySelector('#df-c38f6411-9758-4562-a158-713870b2bea3 button.colab-df-convert');\n",
              "        buttonEl.style.display =\n",
              "          google.colab.kernel.accessAllowed ? 'block' : 'none';\n",
              "\n",
              "        async function convertToInteractive(key) {\n",
              "          const element = document.querySelector('#df-c38f6411-9758-4562-a158-713870b2bea3');\n",
              "          const dataTable =\n",
              "            await google.colab.kernel.invokeFunction('convertToInteractive',\n",
              "                                                     [key], {});\n",
              "          if (!dataTable) return;\n",
              "\n",
              "          const docLinkHtml = 'Like what you see? Visit the ' +\n",
              "            '<a target=\"_blank\" href=https://colab.research.google.com/notebooks/data_table.ipynb>data table notebook</a>'\n",
              "            + ' to learn more about interactive tables.';\n",
              "          element.innerHTML = '';\n",
              "          dataTable['output_type'] = 'display_data';\n",
              "          await google.colab.output.renderOutput(dataTable, element);\n",
              "          const docLink = document.createElement('div');\n",
              "          docLink.innerHTML = docLinkHtml;\n",
              "          element.appendChild(docLink);\n",
              "        }\n",
              "      </script>\n",
              "    </div>\n",
              "  </div>\n",
              "  "
            ]
          },
          "metadata": {},
          "execution_count": 7
        }
      ]
    },
    {
      "cell_type": "code",
      "source": [
        "#!pip install pandas-profiling==3.4.0\n",
        "#from pandas_profiling import ProfileReport\n",
        "#profile = ProfileReport(df)"
      ],
      "metadata": {
        "id": "M4GVbw0_2e0X"
      },
      "execution_count": 8,
      "outputs": []
    },
    {
      "cell_type": "code",
      "source": [
        "#profile.to_file(output_file=\"pandas_profiling1.html\")"
      ],
      "metadata": {
        "id": "VKoLpl8C2wjM"
      },
      "execution_count": 9,
      "outputs": []
    },
    {
      "cell_type": "code",
      "source": [
        "df_Train['lettr'].value_counts()"
      ],
      "metadata": {
        "colab": {
          "base_uri": "https://localhost:8080/"
        },
        "id": "6c-i7K5L3v1O",
        "outputId": "3f074b66-2f1d-4d0d-af04-26d41656326c"
      },
      "execution_count": 10,
      "outputs": [
        {
          "output_type": "execute_result",
          "data": {
            "text/plain": [
              "M    648\n",
              "T    645\n",
              "U    645\n",
              "Y    641\n",
              "D    638\n",
              "P    635\n",
              "A    633\n",
              "B    630\n",
              "X    628\n",
              "V    628\n",
              "F    622\n",
              "N    617\n",
              "E    616\n",
              "Q    615\n",
              "O    614\n",
              "W    613\n",
              "G    609\n",
              "L    604\n",
              "J    599\n",
              "R    597\n",
              "C    594\n",
              "K    593\n",
              "I    590\n",
              "S    587\n",
              "H    583\n",
              "Z    576\n",
              "Name: lettr, dtype: int64"
            ]
          },
          "metadata": {},
          "execution_count": 10
        }
      ]
    },
    {
      "cell_type": "code",
      "source": [
        "df_Train['lettr'].value_counts().plot(kind='bar')"
      ],
      "metadata": {
        "colab": {
          "base_uri": "https://localhost:8080/",
          "height": 283
        },
        "id": "Vt0QJfAe9kMu",
        "outputId": "d3e515ac-7678-438b-b624-a04c3f8e0473"
      },
      "execution_count": 11,
      "outputs": [
        {
          "output_type": "execute_result",
          "data": {
            "text/plain": [
              "<matplotlib.axes._subplots.AxesSubplot at 0x7fdd935dda60>"
            ]
          },
          "metadata": {},
          "execution_count": 11
        },
        {
          "output_type": "display_data",
          "data": {
            "text/plain": [
              "<Figure size 432x288 with 1 Axes>"
            ],
            "image/png": "[encoded data removed]"
          },
          "metadata": {
            "needs_background": "light"
          }
        }
      ]
    },
    {
      "cell_type": "code",
      "source": [
        "df_Test['lettr'].value_counts().plot(kind='bar')"
      ],
      "metadata": {
        "colab": {
          "base_uri": "https://localhost:8080/",
          "height": 283
        },
        "id": "Vn4rpUqd-Kqg",
        "outputId": "62b68743-58cd-4c43-e50a-dc447c6e9c48"
      },
      "execution_count": 12,
      "outputs": [
        {
          "output_type": "execute_result",
          "data": {
            "text/plain": [
              "<matplotlib.axes._subplots.AxesSubplot at 0x7fdd934be820>"
            ]
          },
          "metadata": {},
          "execution_count": 12
        },
        {
          "output_type": "display_data",
          "data": {
            "text/plain": [
              "<Figure size 432x288 with 1 Axes>"
            ],
            "image/png": "[encoded data removed]"
          },
          "metadata": {
            "needs_background": "light"
          }
        }
      ]
    },
    {
      "cell_type": "code",
      "source": [
        "df_Test['lettr'].value_counts()"
      ],
      "metadata": {
        "colab": {
          "base_uri": "https://localhost:8080/"
        },
        "id": "OLpdlpuE8nsx",
        "outputId": "f15ce4c2-6c02-4d7c-93d2-e9ac4ad47aab"
      },
      "execution_count": 13,
      "outputs": [
        {
          "output_type": "execute_result",
          "data": {
            "text/plain": [
              "U    168\n",
              "Q    168\n",
              "P    168\n",
              "D    167\n",
              "N    166\n",
              "I    165\n",
              "G    164\n",
              "S    161\n",
              "R    161\n",
              "X    159\n",
              "Z    158\n",
              "L    157\n",
              "A    156\n",
              "F    153\n",
              "E    152\n",
              "H    151\n",
              "T    151\n",
              "J    148\n",
              "K    146\n",
              "Y    145\n",
              "M    144\n",
              "C    142\n",
              "O    139\n",
              "W    139\n",
              "B    136\n",
              "V    136\n",
              "Name: lettr, dtype: int64"
            ]
          },
          "metadata": {},
          "execution_count": 13
        }
      ]
    },
    {
      "cell_type": "code",
      "source": [
        "df_Train.shape"
      ],
      "metadata": {
        "colab": {
          "base_uri": "https://localhost:8080/"
        },
        "id": "y5T8erkd4FQ2",
        "outputId": "d2e2d6d8-ba8d-41c7-c061-07b694e9d874"
      },
      "execution_count": 14,
      "outputs": [
        {
          "output_type": "execute_result",
          "data": {
            "text/plain": [
              "(16000, 17)"
            ]
          },
          "metadata": {},
          "execution_count": 14
        }
      ]
    },
    {
      "cell_type": "code",
      "source": [
        "df_Test.shape"
      ],
      "metadata": {
        "colab": {
          "base_uri": "https://localhost:8080/"
        },
        "id": "1U5408Wd8rc2",
        "outputId": "86050686-757b-4707-82da-138e61cb443f"
      },
      "execution_count": 15,
      "outputs": [
        {
          "output_type": "execute_result",
          "data": {
            "text/plain": [
              "(4000, 17)"
            ]
          },
          "metadata": {},
          "execution_count": 15
        }
      ]
    },
    {
      "cell_type": "code",
      "source": [
        "df_Train.info()"
      ],
      "metadata": {
        "colab": {
          "base_uri": "https://localhost:8080/"
        },
        "id": "jQt_tk5M4G0q",
        "outputId": "fe8f039a-e8a3-4461-de0b-cff5464b6f2c"
      },
      "execution_count": 16,
      "outputs": [
        {
          "output_type": "stream",
          "name": "stdout",
          "text": [
            "<class 'pandas.core.frame.DataFrame'>\n",
            "RangeIndex: 16000 entries, 0 to 15999\n",
            "Data columns (total 17 columns):\n",
            " #   Column  Non-Null Count  Dtype \n",
            "---  ------  --------------  ----- \n",
            " 0   lettr   16000 non-null  object\n",
            " 1   x-box   16000 non-null  int64 \n",
            " 2   y-box   16000 non-null  int64 \n",
            " 3   width   16000 non-null  int64 \n",
            " 4   high    16000 non-null  int64 \n",
            " 5   onpix   16000 non-null  int64 \n",
            " 6   x-bar   16000 non-null  int64 \n",
            " 7   y-bar   16000 non-null  int64 \n",
            " 8   x2bar   16000 non-null  int64 \n",
            " 9   y2bar   16000 non-null  int64 \n",
            " 10  xybar   16000 non-null  int64 \n",
            " 11  x2ybr   16000 non-null  int64 \n",
            " 12  xy2br   16000 non-null  int64 \n",
            " 13  x-ege   16000 non-null  int64 \n",
            " 14  xegvy   16000 non-null  int64 \n",
            " 15  y-ege   16000 non-null  int64 \n",
            " 16  yegvx   16000 non-null  int64 \n",
            "dtypes: int64(16), object(1)\n",
            "memory usage: 2.1+ MB\n"
          ]
        }
      ]
    },
    {
      "cell_type": "code",
      "source": [
        "df_Test.info()"
      ],
      "metadata": {
        "colab": {
          "base_uri": "https://localhost:8080/"
        },
        "id": "citnFOBS8wGS",
        "outputId": "b8c40dbb-60c6-4184-f0f7-2468d14ef357"
      },
      "execution_count": 17,
      "outputs": [
        {
          "output_type": "stream",
          "name": "stdout",
          "text": [
            "<class 'pandas.core.frame.DataFrame'>\n",
            "RangeIndex: 4000 entries, 0 to 3999\n",
            "Data columns (total 17 columns):\n",
            " #   Column  Non-Null Count  Dtype \n",
            "---  ------  --------------  ----- \n",
            " 0   lettr   4000 non-null   object\n",
            " 1   x-box   4000 non-null   int64 \n",
            " 2   y-box   4000 non-null   int64 \n",
            " 3   width   4000 non-null   int64 \n",
            " 4   high    4000 non-null   int64 \n",
            " 5   onpix   4000 non-null   int64 \n",
            " 6   x-bar   4000 non-null   int64 \n",
            " 7   y-bar   4000 non-null   int64 \n",
            " 8   x2bar   4000 non-null   int64 \n",
            " 9   y2bar   4000 non-null   int64 \n",
            " 10  xybar   4000 non-null   int64 \n",
            " 11  x2ybr   4000 non-null   int64 \n",
            " 12  xy2br   4000 non-null   int64 \n",
            " 13  x-ege   4000 non-null   int64 \n",
            " 14  xegvy   4000 non-null   int64 \n",
            " 15  y-ege   4000 non-null   int64 \n",
            " 16  yegvx   4000 non-null   int64 \n",
            "dtypes: int64(16), object(1)\n",
            "memory usage: 531.4+ KB\n"
          ]
        }
      ]
    },
    {
      "cell_type": "code",
      "source": [
        "df_Train.isnull().sum()"
      ],
      "metadata": {
        "colab": {
          "base_uri": "https://localhost:8080/"
        },
        "id": "gX1LEp8z4L9U",
        "outputId": "c19b6eac-a3af-418b-fab1-b67e6a6a17de"
      },
      "execution_count": 18,
      "outputs": [
        {
          "output_type": "execute_result",
          "data": {
            "text/plain": [
              "lettr    0\n",
              "x-box    0\n",
              "y-box    0\n",
              "width    0\n",
              "high     0\n",
              "onpix    0\n",
              "x-bar    0\n",
              "y-bar    0\n",
              "x2bar    0\n",
              "y2bar    0\n",
              "xybar    0\n",
              "x2ybr    0\n",
              "xy2br    0\n",
              "x-ege    0\n",
              "xegvy    0\n",
              "y-ege    0\n",
              "yegvx    0\n",
              "dtype: int64"
            ]
          },
          "metadata": {},
          "execution_count": 18
        }
      ]
    },
    {
      "cell_type": "code",
      "source": [
        "df_Test.isnull().sum()"
      ],
      "metadata": {
        "colab": {
          "base_uri": "https://localhost:8080/"
        },
        "id": "fk4Z8ib381EY",
        "outputId": "c059a746-0a90-4fbc-b6eb-4474159ca3c4"
      },
      "execution_count": 19,
      "outputs": [
        {
          "output_type": "execute_result",
          "data": {
            "text/plain": [
              "lettr    0\n",
              "x-box    0\n",
              "y-box    0\n",
              "width    0\n",
              "high     0\n",
              "onpix    0\n",
              "x-bar    0\n",
              "y-bar    0\n",
              "x2bar    0\n",
              "y2bar    0\n",
              "xybar    0\n",
              "x2ybr    0\n",
              "xy2br    0\n",
              "x-ege    0\n",
              "xegvy    0\n",
              "y-ege    0\n",
              "yegvx    0\n",
              "dtype: int64"
            ]
          },
          "metadata": {},
          "execution_count": 19
        }
      ]
    },
    {
      "cell_type": "code",
      "source": [
        "y_Train = df_Train['lettr']\n",
        "y_Train.head()"
      ],
      "metadata": {
        "colab": {
          "base_uri": "https://localhost:8080/"
        },
        "id": "4erMnVj39E2F",
        "outputId": "679266f4-e2d1-4b17-8d50-e8c0de94bfdf"
      },
      "execution_count": 20,
      "outputs": [
        {
          "output_type": "execute_result",
          "data": {
            "text/plain": [
              "0    T\n",
              "1    I\n",
              "2    D\n",
              "3    N\n",
              "4    G\n",
              "Name: lettr, dtype: object"
            ]
          },
          "metadata": {},
          "execution_count": 20
        }
      ]
    },
    {
      "cell_type": "code",
      "source": [
        "y_Test = df_Test['lettr']\n",
        "y_Test.head()"
      ],
      "metadata": {
        "colab": {
          "base_uri": "https://localhost:8080/"
        },
        "id": "ApGpK72u9g0I",
        "outputId": "b1a92d14-2638-441a-9212-cfc42229077a"
      },
      "execution_count": 21,
      "outputs": [
        {
          "output_type": "execute_result",
          "data": {
            "text/plain": [
              "0    U\n",
              "1    N\n",
              "2    V\n",
              "3    I\n",
              "4    N\n",
              "Name: lettr, dtype: object"
            ]
          },
          "metadata": {},
          "execution_count": 21
        }
      ]
    },
    {
      "cell_type": "code",
      "source": [
        "df_Train.drop(['lettr'],axis=1,inplace = True)\n",
        "df_Test.drop(['lettr'],axis=1,inplace = True)"
      ],
      "metadata": {
        "id": "PjRIZWBI9wka"
      },
      "execution_count": 22,
      "outputs": []
    },
    {
      "cell_type": "code",
      "source": [
        "print(df_Train.shape)\n",
        "print(df_Test.shape)"
      ],
      "metadata": {
        "colab": {
          "base_uri": "https://localhost:8080/"
        },
        "id": "L9VV3xzQ-E01",
        "outputId": "0e573486-1032-4aec-d4ec-7d94b3e6be39"
      },
      "execution_count": 23,
      "outputs": [
        {
          "output_type": "stream",
          "name": "stdout",
          "text": [
            "(16000, 16)\n",
            "(4000, 16)\n"
          ]
        }
      ]
    },
    {
      "cell_type": "code",
      "source": [
        "from sklearn.model_selection import train_test_split\n",
        "X_train, X_test, y_train, y_test = train_test_split(df_Train, y_Train, test_size=0.2, random_state=0)\n",
        "cv_X_train, cv_X_test, cv_y_train, cv_y_test = train_test_split(X_train, y_train, test_size=0.2)"
      ],
      "metadata": {
        "id": "kVNsVUx686CJ"
      },
      "execution_count": 24,
      "outputs": []
    },
    {
      "cell_type": "code",
      "source": [
        "print(cv_X_train.shape)\n",
        "print(cv_X_test.shape)\n",
        "print(cv_y_train.shape)\n",
        "print(cv_y_test.shape)\n",
        "print(X_test.shape)\n",
        "print(y_test.shape)"
      ],
      "metadata": {
        "colab": {
          "base_uri": "https://localhost:8080/"
        },
        "id": "0RcC2hp--McU",
        "outputId": "f8855a1b-8c25-4b2d-f396-5b948ad534dc"
      },
      "execution_count": 25,
      "outputs": [
        {
          "output_type": "stream",
          "name": "stdout",
          "text": [
            "(10240, 16)\n",
            "(2560, 16)\n",
            "(10240,)\n",
            "(2560,)\n",
            "(3200, 16)\n",
            "(3200,)\n"
          ]
        }
      ]
    },
    {
      "cell_type": "code",
      "source": [
        "from sklearn.preprocessing import LabelEncoder\n",
        "Label_enc = LabelEncoder()\n",
        "\n",
        "Label_enc.fit(y_Train)\n",
        "y_Train = Label_enc.transform(y_Train)\n",
        "y_train = Label_enc.transform(y_train)\n",
        "y_test = Label_enc.transform(y_test)\n",
        "cv_y_train = Label_enc.transform(cv_y_train)\n",
        "cv_y_test = Label_enc.transform(cv_y_test)\n",
        "y_Test = Label_enc.transform(y_Test) "
      ],
      "metadata": {
        "id": "5SORAUZ24R6R"
      },
      "execution_count": 26,
      "outputs": []
    },
    {
      "cell_type": "code",
      "source": [
        "print(y_Test)"
      ],
      "metadata": {
        "colab": {
          "base_uri": "https://localhost:8080/"
        },
        "id": "7QPm0AtZ_ql2",
        "outputId": "e30f7621-6b82-4da4-aa08-1c2f8bd26c8f"
      },
      "execution_count": 27,
      "outputs": [
        {
          "output_type": "stream",
          "name": "stdout",
          "text": [
            "[20 13 21 ... 19 18  0]\n"
          ]
        }
      ]
    },
    {
      "cell_type": "code",
      "source": [
        "from sklearn.preprocessing import MinMaxScaler\n",
        "\n",
        "scaler = MinMaxScaler()\n",
        "scaler.fit(df_Train)\n",
        "\n",
        "X_Train_mm = scaler.transform(df_Train)\n",
        "X_train_mm = scaler.transform(X_train)\n",
        "X_test_mm = scaler.transform(X_test)\n",
        "cv_X_train_mm = scaler.transform(cv_X_train)\n",
        "cv_X_test_mm = scaler.transform(cv_X_test)\n",
        "X_Test_mm = scaler.transform(df_Test)"
      ],
      "metadata": {
        "id": "n8e_HMZMA2yA"
      },
      "execution_count": 28,
      "outputs": []
    },
    {
      "cell_type": "code",
      "source": [
        "print(X_train_mm[0])"
      ],
      "metadata": {
        "colab": {
          "base_uri": "https://localhost:8080/"
        },
        "id": "LBIHUdIMOeCT",
        "outputId": "e956f825-92c8-4c85-d88d-306559c55d4c"
      },
      "execution_count": 29,
      "outputs": [
        {
          "output_type": "stream",
          "name": "stdout",
          "text": [
            "[0.53333333 0.8        0.66666667 0.46666667 0.33333333 0.6\n",
            " 0.26666667 0.2        0.13333333 0.66666667 0.13333333 0.6\n",
            " 0.66666667 0.06666667 0.06666667 0.5       ]\n"
          ]
        }
      ]
    },
    {
      "cell_type": "code",
      "source": [
        "print(type(X_train_mm[0]))"
      ],
      "metadata": {
        "colab": {
          "base_uri": "https://localhost:8080/"
        },
        "id": "HFPKygV0O6Nm",
        "outputId": "9ff5483f-b579-4072-d94c-9d90750155cf"
      },
      "execution_count": 30,
      "outputs": [
        {
          "output_type": "stream",
          "name": "stdout",
          "text": [
            "<class 'numpy.ndarray'>\n"
          ]
        }
      ]
    },
    {
      "cell_type": "code",
      "source": [
        "from sklearn.neural_network import MLPClassifier\n",
        "nnmodel = MLPClassifier(random_state=0)\n",
        "\n",
        "nnmodel.fit(cv_X_train_mm,cv_y_train)\n",
        "y_pred=nnmodel.predict(cv_X_test_mm)\n",
        "print(classification_report(y_pred,cv_y_test))\n",
        "cm=confusion_matrix(y_pred,cv_y_test)\n",
        "print(cm)"
      ],
      "metadata": {
        "colab": {
          "base_uri": "https://localhost:8080/"
        },
        "id": "-9Z5Do63TGZ8",
        "outputId": "897fd51c-cc7e-4157-f3d5-b187ed970380"
      },
      "execution_count": 31,
      "outputs": [
        {
          "output_type": "stream",
          "name": "stdout",
          "text": [
            "              precision    recall  f1-score   support\n",
            "\n",
            "           0       0.92      0.88      0.90        98\n",
            "           1       0.88      0.66      0.75       143\n",
            "           2       0.84      0.94      0.89        71\n",
            "           3       0.81      0.85      0.83       113\n",
            "           4       0.86      0.88      0.87        96\n",
            "           5       0.85      0.85      0.85       110\n",
            "           6       0.70      0.68      0.69        77\n",
            "           7       0.70      0.76      0.73        84\n",
            "           8       0.85      0.93      0.89        83\n",
            "           9       0.84      0.88      0.86       101\n",
            "          10       0.81      0.80      0.81       102\n",
            "          11       0.86      0.87      0.87        93\n",
            "          12       0.90      0.94      0.92        97\n",
            "          13       0.94      0.91      0.93       112\n",
            "          14       0.79      0.71      0.75        93\n",
            "          15       0.92      0.89      0.91       118\n",
            "          16       0.72      0.85      0.78        86\n",
            "          17       0.69      0.80      0.74        93\n",
            "          18       0.66      0.75      0.70        79\n",
            "          19       0.91      0.82      0.86       119\n",
            "          20       0.91      0.86      0.88       107\n",
            "          21       0.92      0.91      0.91       121\n",
            "          22       0.87      0.83      0.85        88\n",
            "          23       0.80      0.80      0.80        95\n",
            "          24       0.83      0.91      0.87        91\n",
            "          25       0.87      0.82      0.85        90\n",
            "\n",
            "    accuracy                           0.84      2560\n",
            "   macro avg       0.83      0.84      0.83      2560\n",
            "weighted avg       0.84      0.84      0.84      2560\n",
            "\n",
            "[[ 86   0   0   0   0   0   0   0   0   3   0   0   0   0   4   0   1   1\n",
            "    0   0   1   1   0   1   0   0]\n",
            " [  0  94   0   8   3   2   1   1   0   0   0   0   2   0   1   0   3  12\n",
            "    9   2   0   2   2   1   0   0]\n",
            " [  0   0  67   0   0   0   1   0   0   0   2   0   0   0   0   0   1   0\n",
            "    0   0   0   0   0   0   0   0]\n",
            " [  0   0   1  96   0   2   1   2   1   0   0   0   1   1   1   0   0   3\n",
            "    1   1   0   0   0   2   0   0]\n",
            " [  0   0   2   0  84   0   0   0   0   0   0   0   0   0   0   0   1   0\n",
            "    4   0   0   0   0   2   0   3]\n",
            " [  0   0   1   0   0  93   1   0   4   1   0   0   0   1   0   3   0   0\n",
            "    4   0   0   0   0   1   1   0]\n",
            " [  0   2   0   0   7   4  52   0   0   0   0   2   0   0   0   3   3   0\n",
            "    1   1   0   2   0   0   0   0]\n",
            " [  2   1   0   0   0   1   0  64   0   2   4   2   1   0   0   0   0   3\n",
            "    0   1   1   1   0   1   0   0]\n",
            " [  0   0   0   0   0   0   0   0  77   4   0   0   0   0   0   1   0   0\n",
            "    0   0   0   0   0   1   0   0]\n",
            " [  0   0   0   1   0   0   0   4   1  89   0   0   0   0   0   0   0   0\n",
            "    1   0   0   0   0   1   2   2]\n",
            " [  1   0   3   0   1   0   1   4   0   0  82   1   0   0   0   0   0   7\n",
            "    0   0   0   0   0   2   0   0]\n",
            " [  0   0   1   0   0   0   1   0   0   0   0  81   0   0   0   0   3   2\n",
            "    3   0   0   0   0   1   1   0]\n",
            " [  0   0   0   0   0   0   0   0   0   0   0   0  91   1   2   0   0   0\n",
            "    0   0   3   0   0   0   0   0]\n",
            " [  0   1   0   2   0   1   0   3   0   0   0   0   3 102   0   0   0   0\n",
            "    0   0   0   0   0   0   0   0]\n",
            " [  0   2   2   5   0   0   2   0   0   0   0   0   0   2  66   1   5   3\n",
            "    0   0   2   0   3   0   0   0]\n",
            " [  0   2   0   1   0   3   5   0   1   0   0   0   0   0   0 105   0   0\n",
            "    0   0   0   1   0   0   0   0]\n",
            " [  0   0   0   0   2   0   1   3   0   0   0   1   0   0   1   0  73   1\n",
            "    1   0   0   0   0   1   2   0]\n",
            " [  0   3   0   0   0   0   3   8   0   0   2   0   1   0   0   0   1  74\n",
            "    0   0   0   0   0   0   0   1]\n",
            " [  2   1   0   0   0   1   2   0   4   3   0   1   0   0   0   0   2   0\n",
            "   59   0   0   0   0   0   0   4]\n",
            " [  1   0   2   1   1   3   0   0   0   0   1   3   0   0   0   0   0   2\n",
            "    0  97   0   0   0   2   5   1]\n",
            " [  1   0   1   0   0   0   0   0   0   0   3   0   2   1   0   0   0   0\n",
            "    0   1  92   0   3   1   2   0]\n",
            " [  0   0   0   0   0   0   2   2   0   0   1   0   0   0   0   0   0   0\n",
            "    1   1   0 110   3   0   1   0]\n",
            " [  0   0   0   0   0   0   1   0   0   0   0   0   0   0   9   0   0   0\n",
            "    0   0   2   2  73   0   1   0]\n",
            " [  0   0   0   1   0   0   0   0   2   3   6   3   0   0   0   0   1   0\n",
            "    0   1   0   0   0  76   2   0]\n",
            " [  0   1   0   0   0   0   0   0   0   0   0   0   0   0   0   1   1   0\n",
            "    2   2   0   1   0   0  83   0]\n",
            " [  0   0   0   3   0   0   0   0   1   1   0   0   0   0   0   0   6   0\n",
            "    3   0   0   0   0   2   0  74]]\n"
          ]
        },
        {
          "output_type": "stream",
          "name": "stderr",
          "text": [
            "/usr/local/lib/python3.8/dist-packages/sklearn/neural_network/_multilayer_perceptron.py:692: ConvergenceWarning: Stochastic Optimizer: Maximum iterations (200) reached and the optimization hasn't converged yet.\n",
            "  warnings.warn(\n"
          ]
        }
      ]
    },
    {
      "cell_type": "code",
      "source": [
        "from sklearn.preprocessing import StandardScaler\n",
        "\n",
        "scaler1 = StandardScaler()\n",
        "scaler1.fit(df_Train)\n",
        "\n",
        "X_Train_sc = scaler1.transform(df_Train)\n",
        "X_train_sc = scaler1.transform(X_train)\n",
        "X_test_sc = scaler1.transform(X_test)\n",
        "cv_X_train_sc = scaler1.transform(cv_X_train)\n",
        "cv_X_test_sc = scaler1.transform(cv_X_test)\n",
        "X_Test_sc = scaler1.transform(df_Test)"
      ],
      "metadata": {
        "id": "Aqexqqs074AY"
      },
      "execution_count": 32,
      "outputs": []
    },
    {
      "cell_type": "code",
      "source": [
        "#from sklearn.model_selection import GridSearchCV\n",
        "\n",
        "#parameters = {'hidden_layer_sizes': [(100,),(100,10),(100,20),(100,30),(250,300)],'activation': ['tanh', 'relu','logistic'],'solver': ['sgd', 'adam','lbfgs'],'alpha': 10.0 ** -np.arange(1, 5),'learning_rate': ['constant','adaptive']}\n",
        "#clf = GridSearchCV(MLPClassifier(),param_grid = parameters, scoring = 'accuracy',cv = 5, n_jobs=-1)\n",
        "#clf.fit(cv_X_train_mm,cv_y_train)\n"
      ],
      "metadata": {
        "id": "HVzgjoibT8Zs"
      },
      "execution_count": 33,
      "outputs": []
    },
    {
      "cell_type": "code",
      "source": [
        "#print(\"Tuned Hyperparameters :\", clf.best_params_)\n",
        "#print(\"Accuracy :\",clf.best_score_)"
      ],
      "metadata": {
        "id": "AjfcOdwRUYFe"
      },
      "execution_count": 34,
      "outputs": []
    },
    {
      "cell_type": "code",
      "source": [
        "MPL1 = MLPClassifier(activation= 'tanh', alpha = 0.1, hidden_layer_sizes = (100,), learning_rate = 'constant', solver = 'lbfgs')"
      ],
      "metadata": {
        "id": "4_A5LA9ARTIu"
      },
      "execution_count": 35,
      "outputs": []
    },
    {
      "cell_type": "code",
      "source": [
        "MPL1.fit(cv_X_train_mm,cv_y_train)\n",
        "y_pred=nnmodel.predict(cv_X_test_mm)\n",
        "print(classification_report(y_pred,cv_y_test))\n",
        "cm=confusion_matrix(y_pred,cv_y_test)\n",
        "print(cm)"
      ],
      "metadata": {
        "colab": {
          "base_uri": "https://localhost:8080/"
        },
        "id": "vt3IzwTURlIC",
        "outputId": "6679b00c-dfdf-447b-da0c-0193d6e20652"
      },
      "execution_count": 36,
      "outputs": [
        {
          "output_type": "stream",
          "name": "stdout",
          "text": [
            "              precision    recall  f1-score   support\n",
            "\n",
            "           0       0.92      0.88      0.90        98\n",
            "           1       0.88      0.66      0.75       143\n",
            "           2       0.84      0.94      0.89        71\n",
            "           3       0.81      0.85      0.83       113\n",
            "           4       0.86      0.88      0.87        96\n",
            "           5       0.85      0.85      0.85       110\n",
            "           6       0.70      0.68      0.69        77\n",
            "           7       0.70      0.76      0.73        84\n",
            "           8       0.85      0.93      0.89        83\n",
            "           9       0.84      0.88      0.86       101\n",
            "          10       0.81      0.80      0.81       102\n",
            "          11       0.86      0.87      0.87        93\n",
            "          12       0.90      0.94      0.92        97\n",
            "          13       0.94      0.91      0.93       112\n",
            "          14       0.79      0.71      0.75        93\n",
            "          15       0.92      0.89      0.91       118\n",
            "          16       0.72      0.85      0.78        86\n",
            "          17       0.69      0.80      0.74        93\n",
            "          18       0.66      0.75      0.70        79\n",
            "          19       0.91      0.82      0.86       119\n",
            "          20       0.91      0.86      0.88       107\n",
            "          21       0.92      0.91      0.91       121\n",
            "          22       0.87      0.83      0.85        88\n",
            "          23       0.80      0.80      0.80        95\n",
            "          24       0.83      0.91      0.87        91\n",
            "          25       0.87      0.82      0.85        90\n",
            "\n",
            "    accuracy                           0.84      2560\n",
            "   macro avg       0.83      0.84      0.83      2560\n",
            "weighted avg       0.84      0.84      0.84      2560\n",
            "\n",
            "[[ 86   0   0   0   0   0   0   0   0   3   0   0   0   0   4   0   1   1\n",
            "    0   0   1   1   0   1   0   0]\n",
            " [  0  94   0   8   3   2   1   1   0   0   0   0   2   0   1   0   3  12\n",
            "    9   2   0   2   2   1   0   0]\n",
            " [  0   0  67   0   0   0   1   0   0   0   2   0   0   0   0   0   1   0\n",
            "    0   0   0   0   0   0   0   0]\n",
            " [  0   0   1  96   0   2   1   2   1   0   0   0   1   1   1   0   0   3\n",
            "    1   1   0   0   0   2   0   0]\n",
            " [  0   0   2   0  84   0   0   0   0   0   0   0   0   0   0   0   1   0\n",
            "    4   0   0   0   0   2   0   3]\n",
            " [  0   0   1   0   0  93   1   0   4   1   0   0   0   1   0   3   0   0\n",
            "    4   0   0   0   0   1   1   0]\n",
            " [  0   2   0   0   7   4  52   0   0   0   0   2   0   0   0   3   3   0\n",
            "    1   1   0   2   0   0   0   0]\n",
            " [  2   1   0   0   0   1   0  64   0   2   4   2   1   0   0   0   0   3\n",
            "    0   1   1   1   0   1   0   0]\n",
            " [  0   0   0   0   0   0   0   0  77   4   0   0   0   0   0   1   0   0\n",
            "    0   0   0   0   0   1   0   0]\n",
            " [  0   0   0   1   0   0   0   4   1  89   0   0   0   0   0   0   0   0\n",
            "    1   0   0   0   0   1   2   2]\n",
            " [  1   0   3   0   1   0   1   4   0   0  82   1   0   0   0   0   0   7\n",
            "    0   0   0   0   0   2   0   0]\n",
            " [  0   0   1   0   0   0   1   0   0   0   0  81   0   0   0   0   3   2\n",
            "    3   0   0   0   0   1   1   0]\n",
            " [  0   0   0   0   0   0   0   0   0   0   0   0  91   1   2   0   0   0\n",
            "    0   0   3   0   0   0   0   0]\n",
            " [  0   1   0   2   0   1   0   3   0   0   0   0   3 102   0   0   0   0\n",
            "    0   0   0   0   0   0   0   0]\n",
            " [  0   2   2   5   0   0   2   0   0   0   0   0   0   2  66   1   5   3\n",
            "    0   0   2   0   3   0   0   0]\n",
            " [  0   2   0   1   0   3   5   0   1   0   0   0   0   0   0 105   0   0\n",
            "    0   0   0   1   0   0   0   0]\n",
            " [  0   0   0   0   2   0   1   3   0   0   0   1   0   0   1   0  73   1\n",
            "    1   0   0   0   0   1   2   0]\n",
            " [  0   3   0   0   0   0   3   8   0   0   2   0   1   0   0   0   1  74\n",
            "    0   0   0   0   0   0   0   1]\n",
            " [  2   1   0   0   0   1   2   0   4   3   0   1   0   0   0   0   2   0\n",
            "   59   0   0   0   0   0   0   4]\n",
            " [  1   0   2   1   1   3   0   0   0   0   1   3   0   0   0   0   0   2\n",
            "    0  97   0   0   0   2   5   1]\n",
            " [  1   0   1   0   0   0   0   0   0   0   3   0   2   1   0   0   0   0\n",
            "    0   1  92   0   3   1   2   0]\n",
            " [  0   0   0   0   0   0   2   2   0   0   1   0   0   0   0   0   0   0\n",
            "    1   1   0 110   3   0   1   0]\n",
            " [  0   0   0   0   0   0   1   0   0   0   0   0   0   0   9   0   0   0\n",
            "    0   0   2   2  73   0   1   0]\n",
            " [  0   0   0   1   0   0   0   0   2   3   6   3   0   0   0   0   1   0\n",
            "    0   1   0   0   0  76   2   0]\n",
            " [  0   1   0   0   0   0   0   0   0   0   0   0   0   0   0   1   1   0\n",
            "    2   2   0   1   0   0  83   0]\n",
            " [  0   0   0   3   0   0   0   0   1   1   0   0   0   0   0   0   6   0\n",
            "    3   0   0   0   0   2   0  74]]\n"
          ]
        },
        {
          "output_type": "stream",
          "name": "stderr",
          "text": [
            "/usr/local/lib/python3.8/dist-packages/sklearn/neural_network/_multilayer_perceptron.py:549: ConvergenceWarning: lbfgs failed to converge (status=1):\n",
            "STOP: TOTAL NO. of ITERATIONS REACHED LIMIT.\n",
            "\n",
            "Increase the number of iterations (max_iter) or scale the data as shown in:\n",
            "    https://scikit-learn.org/stable/modules/preprocessing.html\n",
            "  self.n_iter_ = _check_optimize_result(\"lbfgs\", opt_res, self.max_iter)\n"
          ]
        }
      ]
    },
    {
      "cell_type": "code",
      "source": [
        "from sklearn.neural_network import MLPClassifier\n",
        "nnmodel = MLPClassifier(random_state=0)\n",
        "\n",
        "nnmodel.fit(cv_X_train_sc,cv_y_train)\n",
        "y_pred=nnmodel.predict(cv_X_test_sc)\n",
        "print(classification_report(y_pred,cv_y_test))\n",
        "cm=confusion_matrix(y_pred,cv_y_test)\n",
        "print(cm)"
      ],
      "metadata": {
        "colab": {
          "base_uri": "https://localhost:8080/"
        },
        "id": "RcXfhaqH8Kjx",
        "outputId": "774c748a-d312-40c7-94dc-87df5092208e"
      },
      "execution_count": 37,
      "outputs": [
        {
          "output_type": "stream",
          "name": "stdout",
          "text": [
            "              precision    recall  f1-score   support\n",
            "\n",
            "           0       1.00      0.96      0.98        97\n",
            "           1       0.93      0.89      0.91       111\n",
            "           2       1.00      0.98      0.99        82\n",
            "           3       0.97      0.94      0.95       121\n",
            "           4       0.90      0.98      0.94        90\n",
            "           5       0.92      0.92      0.92       110\n",
            "           6       0.86      0.83      0.85        77\n",
            "           7       0.86      0.91      0.88        86\n",
            "           8       0.95      0.93      0.94        92\n",
            "           9       0.92      0.96      0.94       102\n",
            "          10       0.94      0.87      0.90       109\n",
            "          11       0.96      0.98      0.97        92\n",
            "          12       0.98      0.99      0.99       100\n",
            "          13       0.99      0.97      0.98       110\n",
            "          14       0.90      0.96      0.93        79\n",
            "          15       0.95      0.95      0.95       114\n",
            "          16       0.98      0.93      0.95       107\n",
            "          17       0.88      0.93      0.90       102\n",
            "          18       0.92      0.99      0.95        83\n",
            "          19       0.97      0.92      0.95       113\n",
            "          20       0.95      0.97      0.96        99\n",
            "          21       0.95      0.97      0.96       117\n",
            "          22       0.95      0.95      0.95        84\n",
            "          23       0.94      0.91      0.92        98\n",
            "          24       0.96      0.97      0.96        99\n",
            "          25       0.95      0.94      0.95        86\n",
            "\n",
            "    accuracy                           0.94      2560\n",
            "   macro avg       0.94      0.94      0.94      2560\n",
            "weighted avg       0.94      0.94      0.94      2560\n",
            "\n",
            "[[ 93   1   0   0   0   0   0   0   0   0   0   0   0   0   0   0   0   0\n",
            "    0   0   2   0   0   0   0   1]\n",
            " [  0  99   0   0   1   0   1   2   1   0   0   0   1   0   0   0   0   4\n",
            "    1   0   0   1   0   0   0   0]\n",
            " [  0   0  80   0   0   0   1   0   0   0   0   1   0   0   0   0   0   0\n",
            "    0   0   0   0   0   0   0   0]\n",
            " [  0   1   0 114   0   1   1   1   0   0   1   0   0   0   0   0   0   1\n",
            "    0   0   0   0   0   1   0   0]\n",
            " [  0   0   0   0  88   0   0   1   0   0   0   0   0   0   0   0   0   0\n",
            "    1   0   0   0   0   0   0   0]\n",
            " [  0   0   0   0   2 101   0   0   3   0   0   0   0   0   0   2   0   1\n",
            "    0   0   0   0   0   0   1   0]\n",
            " [  0   1   0   0   2   2  64   0   0   0   0   1   0   0   1   2   0   0\n",
            "    0   1   1   1   1   0   0   0]\n",
            " [  0   3   0   1   0   0   0  78   0   1   1   0   0   0   1   0   0   1\n",
            "    0   0   0   0   0   0   0   0]\n",
            " [  0   0   0   0   0   0   0   0  86   5   0   0   0   0   0   1   0   0\n",
            "    0   0   0   0   0   0   0   0]\n",
            " [  0   0   0   1   0   0   0   0   0  98   0   0   0   0   0   0   0   0\n",
            "    1   0   2   0   0   0   0   0]\n",
            " [  0   0   0   0   0   0   2   3   0   0  95   1   0   0   1   0   0   4\n",
            "    0   0   0   0   0   3   0   0]\n",
            " [  0   0   0   0   1   0   1   0   0   0   0  90   0   0   0   0   0   0\n",
            "    0   0   0   0   0   0   0   0]\n",
            " [  0   0   0   0   0   0   0   0   0   0   0   0  99   0   1   0   0   0\n",
            "    0   0   0   0   0   0   0   0]\n",
            " [  0   0   0   0   0   1   0   0   0   0   0   0   1 107   0   0   0   1\n",
            "    0   0   0   0   0   0   0   0]\n",
            " [  0   0   0   1   0   0   1   0   0   0   0   0   0   0  76   0   1   0\n",
            "    0   0   0   0   0   0   0   0]\n",
            " [  0   0   0   0   0   2   0   1   0   0   0   0   0   0   0 108   1   0\n",
            "    0   1   0   0   0   0   1   0]\n",
            " [  0   0   0   1   2   0   1   0   0   1   0   0   0   0   2   0  99   1\n",
            "    0   0   0   0   0   0   0   0]\n",
            " [  0   1   0   0   0   0   1   2   0   0   0   0   0   1   0   0   0  95\n",
            "    1   0   0   0   0   0   0   1]\n",
            " [  0   0   0   0   1   0   0   0   0   0   0   0   0   0   0   0   0   0\n",
            "   82   0   0   0   0   0   0   0]\n",
            " [  0   0   0   0   0   2   0   0   0   0   0   0   0   0   0   0   0   0\n",
            "    1 104   0   0   1   2   1   2]\n",
            " [  0   0   0   0   0   0   0   0   0   0   0   0   0   0   0   0   0   0\n",
            "    0   1  96   0   2   0   0   0]\n",
            " [  0   1   0   0   0   0   1   1   0   0   0   0   0   0   0   0   0   0\n",
            "    0   0   0 114   0   0   0   0]\n",
            " [  0   0   0   0   0   0   0   0   0   0   0   0   0   0   1   0   0   0\n",
            "    0   0   0   3  80   0   0   0]\n",
            " [  0   0   0   0   0   0   0   2   1   0   4   1   0   0   0   0   0   0\n",
            "    0   0   0   0   0  89   1   0]\n",
            " [  0   0   0   0   0   1   0   0   0   0   0   0   0   0   0   1   0   0\n",
            "    0   0   0   1   0   0  96   0]\n",
            " [  0   0   0   0   1   0   0   0   0   1   0   0   0   0   1   0   0   0\n",
            "    2   0   0   0   0   0   0  81]]\n"
          ]
        },
        {
          "output_type": "stream",
          "name": "stderr",
          "text": [
            "/usr/local/lib/python3.8/dist-packages/sklearn/neural_network/_multilayer_perceptron.py:692: ConvergenceWarning: Stochastic Optimizer: Maximum iterations (200) reached and the optimization hasn't converged yet.\n",
            "  warnings.warn(\n"
          ]
        }
      ]
    },
    {
      "cell_type": "code",
      "source": [
        "predicted_class=nnmodel.predict(X_Test_sc)\n",
        "print(classification_report(predicted_class,y_Test))\n",
        "cm=confusion_matrix(predicted_class,y_Test)\n",
        "print(cm)"
      ],
      "metadata": {
        "colab": {
          "base_uri": "https://localhost:8080/"
        },
        "id": "kC22kjR81JI7",
        "outputId": "8b0be93b-ba74-4121-a2ab-bd8c6c179ed5"
      },
      "execution_count": 38,
      "outputs": [
        {
          "output_type": "stream",
          "name": "stdout",
          "text": [
            "              precision    recall  f1-score   support\n",
            "\n",
            "           0       0.97      0.94      0.96       161\n",
            "           1       0.96      0.90      0.93       144\n",
            "           2       0.94      0.96      0.95       139\n",
            "           3       0.94      0.92      0.93       171\n",
            "           4       0.91      0.97      0.94       143\n",
            "           5       0.92      0.92      0.92       153\n",
            "           6       0.91      0.90      0.91       167\n",
            "           7       0.87      0.89      0.88       148\n",
            "           8       0.95      0.93      0.94       167\n",
            "           9       0.93      0.94      0.93       146\n",
            "          10       0.95      0.90      0.92       154\n",
            "          11       0.94      0.95      0.95       154\n",
            "          12       0.98      0.93      0.96       151\n",
            "          13       0.93      0.93      0.93       165\n",
            "          14       0.92      0.95      0.93       135\n",
            "          15       0.94      0.93      0.94       169\n",
            "          16       0.96      0.94      0.95       172\n",
            "          17       0.90      0.92      0.91       157\n",
            "          18       0.91      0.94      0.92       157\n",
            "          19       0.97      0.94      0.95       157\n",
            "          20       0.96      0.99      0.98       163\n",
            "          21       0.95      0.97      0.96       133\n",
            "          22       0.98      0.96      0.97       141\n",
            "          23       0.94      0.94      0.94       158\n",
            "          24       0.92      0.97      0.95       138\n",
            "          25       0.96      0.96      0.96       157\n",
            "\n",
            "    accuracy                           0.94      4000\n",
            "   macro avg       0.94      0.94      0.94      4000\n",
            "weighted avg       0.94      0.94      0.94      4000\n",
            "\n",
            "[[152   0   0   0   0   0   1   2   0   0   0   0   0   0   0   0   2   0\n",
            "    1   0   1   0   0   0   1   1]\n",
            " [  0 130   0   4   1   1   0   1   0   0   0   1   1   0   0   0   0   1\n",
            "    0   0   0   3   0   1   0   0]\n",
            " [  0   0 134   0   3   0   0   0   0   0   1   0   0   0   1   0   0   0\n",
            "    0   0   0   0   0   0   0   0]\n",
            " [  2   0   0 157   0   0   1   2   1   0   0   1   0   1   1   1   1   3\n",
            "    0   0   0   0   0   0   0   0]\n",
            " [  0   0   1   0 138   2   1   0   0   0   0   0   0   0   0   0   0   0\n",
            "    1   0   0   0   0   0   0   0]\n",
            " [  0   0   0   0   0 140   0   0   2   1   0   0   0   0   0   2   0   0\n",
            "    4   0   0   0   0   1   2   1]\n",
            " [  0   0   2   0   5   0 150   1   0   0   0   1   0   0   2   0   2   1\n",
            "    1   0   1   0   1   0   0   0]\n",
            " [  0   1   0   1   0   0   1 132   0   1   2   1   0   2   0   3   0   1\n",
            "    0   1   1   1   0   0   0   0]\n",
            " [  0   0   0   1   0   0   0   0 156   4   0   0   0   1   0   1   0   0\n",
            "    1   0   0   0   0   2   1   0]\n",
            " [  0   0   0   0   0   2   0   0   3 137   0   2   0   1   0   0   0   0\n",
            "    1   0   0   0   0   0   0   0]\n",
            " [  0   0   0   0   1   0   0   2   0   0 138   0   0   0   1   0   1   6\n",
            "    0   0   0   0   1   4   0   0]\n",
            " [  0   0   1   0   2   0   2   0   0   0   0 147   0   0   0   0   0   0\n",
            "    1   0   0   0   0   0   0   1]\n",
            " [  0   0   1   1   0   0   1   2   0   0   0   0 141   4   0   0   0   0\n",
            "    0   0   1   0   0   0   0   0]\n",
            " [  0   1   0   0   0   2   0   2   0   0   0   0   1 154   2   0   0   2\n",
            "    0   0   0   0   1   0   0   0]\n",
            " [  0   0   0   2   0   0   0   1   0   1   0   0   0   1 128   1   1   0\n",
            "    0   0   0   0   0   0   0   0]\n",
            " [  0   0   0   0   0   4   2   0   1   0   0   0   0   0   0 158   0   1\n",
            "    0   0   0   0   0   0   3   0]\n",
            " [  0   0   1   0   0   0   1   2   0   0   0   1   0   0   3   1 161   0\n",
            "    1   0   0   0   0   0   0   1]\n",
            " [  0   1   0   0   0   0   3   3   0   0   2   0   0   1   1   0   0 145\n",
            "    0   1   0   0   0   0   0   0]\n",
            " [  1   2   0   0   0   0   0   0   1   3   0   1   0   0   0   1   0   0\n",
            "  147   0   0   0   0   0   0   1]\n",
            " [  0   0   1   1   0   2   0   1   0   0   0   0   0   0   0   0   0   0\n",
            "    0 147   0   1   0   2   0   2]\n",
            " [  0   0   1   0   0   0   0   0   0   0   0   0   0   0   0   0   0   0\n",
            "    0   0 162   0   0   0   0   0]\n",
            " [  0   0   0   0   0   0   0   0   0   0   0   0   0   1   0   0   0   0\n",
            "    0   0   0 129   0   0   3   0]\n",
            " [  0   0   0   0   0   0   1   0   0   0   0   0   1   0   0   0   0   0\n",
            "    0   0   1   2 136   0   0   0]\n",
            " [  0   1   0   0   0   0   0   0   0   0   3   2   0   0   0   0   0   1\n",
            "    1   0   0   0   0 149   1   0]\n",
            " [  1   0   0   0   0   0   0   0   0   0   0   0   0   0   0   0   0   0\n",
            "    0   2   1   0   0   0 134   0]\n",
            " [  0   0   0   0   2   0   0   0   1   1   0   0   0   0   0   0   0   0\n",
            "    2   0   0   0   0   0   0 151]]\n"
          ]
        }
      ]
    },
    {
      "cell_type": "code",
      "source": [
        "#from sklearn.model_selection import GridSearchCV\n",
        "\n",
        "#parameters = {'hidden_layer_sizes': [(100,),(100,3),(250,300)],'activation': ['tanh', 'relu','logistic'],'solver': ['sgd', 'adam','lbfgs'],'alpha': 10.0 ** -np.arange(1, 9),'learning_rate': ['constant','adaptive']}\n",
        "#clf = GridSearchCV(MLPClassifier(),param_grid = parameters, scoring = 'accuracy',cv = 5, n_jobs=-1)\n",
        "#clf.fit(cv_X_train_sc,cv_y_train)"
      ],
      "metadata": {
        "id": "OA0sPAJl8cR5"
      },
      "execution_count": 39,
      "outputs": []
    },
    {
      "cell_type": "code",
      "source": [
        "#print(\"Tuned Hyperparameters :\", clf.best_params_)\n",
        "#print(\"Accuracy :\",clf.best_score_)"
      ],
      "metadata": {
        "id": "-wZHuCleErlC"
      },
      "execution_count": 40,
      "outputs": []
    },
    {
      "cell_type": "code",
      "source": [
        "from sklearn.ensemble import RandomForestClassifier\n",
        "dt = RandomForestClassifier(n_estimators=100)\n",
        "dt.fit(cv_X_train_sc,cv_y_train)\n",
        "y_pred=dt.predict(cv_X_test_sc)\n",
        "print(classification_report(y_pred,cv_y_test))\n",
        "cm=confusion_matrix(y_pred,cv_y_test)\n",
        "print(cm)"
      ],
      "metadata": {
        "id": "xK1_OL71cjKB",
        "colab": {
          "base_uri": "https://localhost:8080/"
        },
        "outputId": "d04d6c87-c5a1-48a5-d406-1f82ae8ae123"
      },
      "execution_count": 41,
      "outputs": [
        {
          "output_type": "stream",
          "name": "stdout",
          "text": [
            "              precision    recall  f1-score   support\n",
            "\n",
            "           0       1.00      0.97      0.98        96\n",
            "           1       0.93      0.86      0.90       116\n",
            "           2       0.96      0.97      0.97        79\n",
            "           3       0.97      0.94      0.96       122\n",
            "           4       0.93      0.93      0.93        98\n",
            "           5       0.93      0.93      0.93       110\n",
            "           6       0.93      0.91      0.92        76\n",
            "           7       0.92      0.93      0.93        90\n",
            "           8       0.93      0.99      0.96        86\n",
            "           9       0.94      0.95      0.95       105\n",
            "          10       0.94      0.90      0.92       106\n",
            "          11       0.95      0.98      0.96        91\n",
            "          12       0.96      0.95      0.96       102\n",
            "          13       0.97      1.00      0.99       105\n",
            "          14       0.93      0.95      0.94        82\n",
            "          15       0.95      0.96      0.96       112\n",
            "          16       0.96      0.92      0.94       106\n",
            "          17       0.95      0.91      0.93       113\n",
            "          18       0.96      0.97      0.96        88\n",
            "          19       0.95      0.97      0.96       105\n",
            "          20       0.91      0.98      0.94        94\n",
            "          21       0.93      0.99      0.96       112\n",
            "          22       1.00      0.94      0.97        89\n",
            "          23       0.97      0.97      0.97        95\n",
            "          24       0.97      0.98      0.97        99\n",
            "          25       0.93      0.95      0.94        83\n",
            "\n",
            "    accuracy                           0.95      2560\n",
            "   macro avg       0.95      0.95      0.95      2560\n",
            "weighted avg       0.95      0.95      0.95      2560\n",
            "\n",
            "[[ 93   0   0   0   0   0   0   1   0   0   0   0   0   1   0   0   0   0\n",
            "    0   0   1   0   0   0   0   0]\n",
            " [  0 100   0   0   0   2   1   0   1   2   1   0   0   0   1   0   0   1\n",
            "    0   1   0   5   0   0   1   0]\n",
            " [  0   0  77   0   0   0   0   0   0   0   0   0   0   0   0   0   0   0\n",
            "    0   0   2   0   0   0   0   0]\n",
            " [  0   0   0 115   0   1   3   0   0   0   0   0   0   0   1   0   0   0\n",
            "    0   1   0   0   0   1   0   0]\n",
            " [  0   1   0   0  91   1   0   0   0   0   1   0   1   0   0   0   0   0\n",
            "    1   0   0   0   0   1   0   1]\n",
            " [  0   0   1   0   0 102   0   0   0   0   0   0   1   0   0   5   0   1\n",
            "    0   0   0   0   0   0   0   0]\n",
            " [  0   1   0   0   2   0  69   0   0   0   0   1   0   0   1   1   0   0\n",
            "    0   1   0   0   0   0   0   0]\n",
            " [  0   3   0   2   0   0   0  84   0   1   0   0   0   0   0   0   0   0\n",
            "    0   0   0   0   0   0   0   0]\n",
            " [  0   0   0   0   0   1   0   0  85   0   0   0   0   0   0   0   0   0\n",
            "    0   0   0   0   0   0   0   0]\n",
            " [  0   0   0   0   0   0   0   0   4 100   0   1   0   0   0   0   0   0\n",
            "    0   0   0   0   0   0   0   0]\n",
            " [  0   1   0   0   1   0   1   2   0   0  95   1   0   0   0   0   0   3\n",
            "    0   0   1   0   0   1   0   0]\n",
            " [  0   0   1   0   1   0   0   0   0   0   0  89   0   0   0   0   0   0\n",
            "    0   0   0   0   0   0   0   0]\n",
            " [  0   0   0   0   0   0   0   0   0   0   0   0  97   0   0   0   0   0\n",
            "    0   0   5   0   0   0   0   0]\n",
            " [  0   0   0   0   0   0   0   0   0   0   0   0   0 105   0   0   0   0\n",
            "    0   0   0   0   0   0   0   0]\n",
            " [  0   0   0   1   0   0   0   0   0   0   0   0   0   1  78   0   2   0\n",
            "    0   0   0   0   0   0   0   0]\n",
            " [  0   0   0   0   0   2   0   0   1   0   0   0   0   0   0 108   0   0\n",
            "    0   0   0   1   0   0   0   0]\n",
            " [  0   0   1   0   2   0   0   0   0   2   0   1   0   0   1   0  97   0\n",
            "    0   0   0   0   0   0   0   2]\n",
            " [  0   1   0   0   0   0   0   3   0   0   2   0   0   1   0   0   0 103\n",
            "    2   0   0   0   0   0   0   1]\n",
            " [  0   0   0   0   1   0   0   0   0   0   0   0   0   0   0   0   1   0\n",
            "   85   0   0   0   0   0   0   1]\n",
            " [  0   0   0   0   0   1   0   0   0   0   0   0   0   0   0   0   0   0\n",
            "    0 102   0   0   0   0   1   1]\n",
            " [  0   0   0   0   0   0   0   0   0   0   0   0   0   0   0   0   0   0\n",
            "    0   1  92   0   0   0   1   0]\n",
            " [  0   0   0   0   0   0   0   0   0   0   0   0   1   0   0   0   0   0\n",
            "    0   0   0 111   0   0   0   0]\n",
            " [  0   0   0   0   0   0   0   0   0   0   0   0   1   0   2   0   0   0\n",
            "    0   0   0   2  84   0   0   0]\n",
            " [  0   0   0   0   0   0   0   0   0   0   2   1   0   0   0   0   0   0\n",
            "    0   0   0   0   0  92   0   0]\n",
            " [  0   0   0   0   0   0   0   0   0   0   0   0   0   0   0   0   0   0\n",
            "    0   1   0   1   0   0  97   0]\n",
            " [  0   0   0   0   0   0   0   1   0   1   0   0   0   0   0   0   1   0\n",
            "    1   0   0   0   0   0   0  79]]\n"
          ]
        }
      ]
    },
    {
      "cell_type": "code",
      "source": [
        "#from sklearn.model_selection import GridSearchCV\n",
        "#parameters = [{'n_estimaters;:[100,200,300,400,500,600,700,800,900,1000,1100,1200,1300,1400] ,'criterion':['gini','entropy'],'bootstrap': False}]\n",
        "#grid_search = GridSearchCV(estimator =dt,param_grid = parameters,scoring = 'accuracy',cv = 5,verbose=0)\n",
        "#grid_search.fit(cv_X_train_sc,cv_y_train)"
      ],
      "metadata": {
        "id": "TtCC6h1F3bGx"
      },
      "execution_count": 42,
      "outputs": []
    },
    {
      "cell_type": "code",
      "source": [
        "#print(\"Tuned Hyperparameters :\", grid_search.best_params_)\n",
        "#print(\"Accuracy :\",grid_search.best_score_)"
      ],
      "metadata": {
        "id": "AU_1k_wG36GT"
      },
      "execution_count": 43,
      "outputs": []
    },
    {
      "cell_type": "code",
      "source": [
        "predicted_class=dt.predict(X_Test_sc)\n",
        "print(classification_report(predicted_class,y_Test))\n",
        "cm=confusion_matrix(predicted_class,y_Test)\n",
        "print(cm)"
      ],
      "metadata": {
        "colab": {
          "base_uri": "https://localhost:8080/"
        },
        "id": "qhF33dmq2V4d",
        "outputId": "9e23c0d2-508c-4520-f12b-8fb82a0fb441"
      },
      "execution_count": 44,
      "outputs": [
        {
          "output_type": "stream",
          "name": "stdout",
          "text": [
            "              precision    recall  f1-score   support\n",
            "\n",
            "           0       0.98      1.00      0.99       153\n",
            "           1       0.97      0.87      0.92       151\n",
            "           2       0.96      0.98      0.97       139\n",
            "           3       0.98      0.90      0.93       182\n",
            "           4       0.96      0.95      0.95       154\n",
            "           5       0.93      0.93      0.93       153\n",
            "           6       0.96      0.93      0.94       169\n",
            "           7       0.85      0.93      0.89       138\n",
            "           8       0.93      0.96      0.94       159\n",
            "           9       0.95      0.97      0.96       144\n",
            "          10       0.91      0.92      0.92       144\n",
            "          11       0.96      0.97      0.97       155\n",
            "          12       0.97      0.96      0.97       146\n",
            "          13       0.93      0.98      0.96       158\n",
            "          14       0.95      0.92      0.94       143\n",
            "          15       0.93      0.94      0.94       167\n",
            "          16       0.96      0.94      0.95       173\n",
            "          17       0.96      0.91      0.93       171\n",
            "          18       0.98      0.99      0.98       159\n",
            "          19       0.95      0.98      0.96       146\n",
            "          20       0.96      0.99      0.98       164\n",
            "          21       0.94      0.97      0.96       132\n",
            "          22       0.99      0.96      0.98       142\n",
            "          23       0.97      0.95      0.96       162\n",
            "          24       0.94      0.95      0.95       144\n",
            "          25       0.93      0.97      0.95       152\n",
            "\n",
            "    accuracy                           0.95      4000\n",
            "   macro avg       0.95      0.95      0.95      4000\n",
            "weighted avg       0.95      0.95      0.95      4000\n",
            "\n",
            "[[153   0   0   0   0   0   0   0   0   0   0   0   0   0   0   0   0   0\n",
            "    0   0   0   0   0   0   0   0]\n",
            " [  0 132   0   0   0   2   2   0   1   0   1   1   1   1   1   2   1   1\n",
            "    1   0   1   2   0   1   0   0]\n",
            " [  0   0 136   0   1   0   0   0   0   0   1   0   0   0   0   0   0   0\n",
            "    0   0   1   0   0   0   0   0]\n",
            " [  0   1   0 163   0   0   2   5   2   0   2   0   0   2   1   1   1   0\n",
            "    0   1   0   0   0   0   0   1]\n",
            " [  0   0   0   0 146   1   0   1   0   1   2   0   0   0   0   0   0   0\n",
            "    0   0   0   0   0   1   0   2]\n",
            " [  0   0   0   0   0 142   0   0   1   0   1   0   0   0   0   6   0   0\n",
            "    0   1   0   0   0   0   0   2]\n",
            " [  0   0   4   0   2   0 157   1   0   0   0   0   2   0   1   0   0   0\n",
            "    0   0   2   0   0   0   0   0]\n",
            " [  0   0   0   3   0   0   0 129   0   0   3   0   0   1   0   0   0   0\n",
            "    1   0   0   0   0   1   0   0]\n",
            " [  0   0   0   0   0   0   0   0 153   6   0   0   0   0   0   0   0   0\n",
            "    0   0   0   0   0   0   0   0]\n",
            " [  0   0   0   0   0   0   0   0   2 140   0   0   0   0   0   0   0   0\n",
            "    0   0   0   0   0   0   0   2]\n",
            " [  0   0   0   0   0   0   0   4   0   0 133   0   0   0   0   0   0   4\n",
            "    0   0   1   0   0   2   0   0]\n",
            " [  0   0   0   0   1   0   0   0   1   0   0 151   0   0   0   0   0   0\n",
            "    0   0   0   0   0   0   0   2]\n",
            " [  0   0   0   0   0   0   1   2   0   0   0   0 140   2   0   0   0   0\n",
            "    0   0   0   0   1   0   0   0]\n",
            " [  0   0   0   0   0   1   0   0   0   0   0   0   0 155   0   0   0   1\n",
            "    0   0   1   0   0   0   0   0]\n",
            " [  0   0   2   1   0   0   2   0   0   0   0   0   0   2 132   0   3   0\n",
            "    0   0   0   0   1   0   0   0]\n",
            " [  0   0   0   0   0   6   0   0   4   0   0   0   0   0   0 157   0   0\n",
            "    0   0   0   0   0   0   0   0]\n",
            " [  0   0   0   0   0   0   0   2   0   0   0   1   0   0   3   0 162   0\n",
            "    2   0   0   0   0   0   2   1]\n",
            " [  0   2   0   0   0   0   0   7   0   0   2   2   0   1   0   0   0 155\n",
            "    0   1   0   1   0   0   0   0]\n",
            " [  0   0   0   0   0   0   0   0   0   0   0   0   0   0   0   0   0   0\n",
            "  157   2   0   0   0   0   0   0]\n",
            " [  0   0   0   0   0   0   0   0   0   0   0   0   0   0   0   0   0   0\n",
            "    0 143   0   1   0   0   2   0]\n",
            " [  0   0   0   0   0   0   0   0   0   0   0   0   0   1   0   0   0   0\n",
            "    0   0 162   0   0   0   1   0]\n",
            " [  0   0   0   0   0   0   0   0   0   0   0   0   0   1   0   1   0   0\n",
            "    0   0   0 128   0   0   2   0]\n",
            " [  0   0   0   0   0   1   0   0   0   0   0   0   1   0   0   0   0   0\n",
            "    0   0   0   3 137   0   0   0]\n",
            " [  0   1   0   0   2   0   0   0   1   0   1   2   0   0   0   0   0   0\n",
            "    0   0   0   0   0 154   0   1]\n",
            " [  3   0   0   0   0   0   0   0   0   0   0   0   0   0   0   1   0   0\n",
            "    0   2   0   1   0   0 137   0]\n",
            " [  0   0   0   0   0   0   0   0   0   1   0   0   0   0   1   0   1   0\n",
            "    0   1   0   0   0   0   1 147]]\n"
          ]
        }
      ]
    },
    {
      "cell_type": "code",
      "source": [
        "from sklearn.ensemble import RandomForestClassifier\n",
        "dt = RandomForestClassifier(n_estimators=100)\n",
        "dt.fit(X_Train_sc,y_Train)\n",
        "y_pred=dt.predict(X_Test_sc)\n",
        "print(classification_report(y_pred,y_Test))\n",
        "cm=confusion_matrix(y_pred,y_Test)\n",
        "print(cm)"
      ],
      "metadata": {
        "colab": {
          "base_uri": "https://localhost:8080/"
        },
        "id": "ws6rnS0v4Vnb",
        "outputId": "bc82fe06-d94a-4205-c510-f1c0632c7e8c"
      },
      "execution_count": 45,
      "outputs": [
        {
          "output_type": "stream",
          "name": "stdout",
          "text": [
            "              precision    recall  f1-score   support\n",
            "\n",
            "           0       0.99      1.00      0.99       154\n",
            "           1       0.98      0.89      0.93       150\n",
            "           2       0.96      0.99      0.97       137\n",
            "           3       0.99      0.93      0.96       178\n",
            "           4       0.97      0.92      0.95       159\n",
            "           5       0.95      0.96      0.96       152\n",
            "           6       0.98      0.98      0.98       163\n",
            "           7       0.89      0.95      0.92       141\n",
            "           8       0.95      0.96      0.95       162\n",
            "           9       0.95      0.96      0.96       147\n",
            "          10       0.94      0.95      0.94       144\n",
            "          11       0.97      0.99      0.98       155\n",
            "          12       0.99      0.96      0.98       149\n",
            "          13       0.92      0.98      0.95       156\n",
            "          14       0.96      0.94      0.95       143\n",
            "          15       0.94      0.97      0.95       163\n",
            "          16       0.96      0.96      0.96       168\n",
            "          17       0.98      0.92      0.95       170\n",
            "          18       0.96      0.99      0.98       156\n",
            "          19       0.97      0.99      0.98       148\n",
            "          20       0.99      0.99      0.99       167\n",
            "          21       0.96      0.96      0.96       135\n",
            "          22       0.99      0.97      0.98       141\n",
            "          23       0.98      0.96      0.97       163\n",
            "          24       0.97      0.96      0.96       146\n",
            "          25       0.96      0.99      0.98       153\n",
            "\n",
            "    accuracy                           0.96      4000\n",
            "   macro avg       0.96      0.96      0.96      4000\n",
            "weighted avg       0.96      0.96      0.96      4000\n",
            "\n",
            "[[154   0   0   0   0   0   0   0   0   0   0   0   0   0   0   0   0   0\n",
            "    0   0   0   0   0   0   0   0]\n",
            " [  0 133   0   0   0   2   1   3   0   0   1   1   0   0   1   2   0   1\n",
            "    2   0   0   3   0   0   0   0]\n",
            " [  0   0 136   0   1   0   0   0   0   0   0   0   0   0   0   0   0   0\n",
            "    0   0   0   0   0   0   0   0]\n",
            " [  0   0   0 165   0   0   1   3   1   0   0   0   0   3   1   1   1   0\n",
            "    0   1   0   0   0   0   1   0]\n",
            " [  0   0   1   0 147   1   0   1   0   1   2   0   0   0   0   0   0   0\n",
            "    3   0   0   0   0   0   0   3]\n",
            " [  0   0   0   0   0 146   0   0   2   0   0   0   0   0   0   3   0   0\n",
            "    0   0   0   0   0   0   0   1]\n",
            " [  0   0   1   0   1   0 160   1   0   0   0   0   0   0   0   0   0   0\n",
            "    0   0   0   0   0   0   0   0]\n",
            " [  0   1   0   2   0   0   0 134   0   0   2   0   0   1   0   1   0   0\n",
            "    0   0   0   0   0   0   0   0]\n",
            " [  0   0   0   0   0   0   0   0 156   6   0   0   0   0   0   0   0   0\n",
            "    0   0   0   0   0   0   0   0]\n",
            " [  0   0   0   0   0   0   0   0   5 141   0   0   0   0   0   0   0   0\n",
            "    0   0   0   0   0   0   0   1]\n",
            " [  0   0   0   0   0   0   0   2   0   0 137   0   0   0   0   0   0   2\n",
            "    0   0   0   0   0   3   0   0]\n",
            " [  0   0   0   0   1   0   0   0   0   0   0 153   0   0   0   0   0   0\n",
            "    0   0   0   0   0   0   0   1]\n",
            " [  0   0   0   0   0   0   1   1   0   0   0   0 143   3   0   0   0   0\n",
            "    0   0   0   0   1   0   0   0]\n",
            " [  0   0   0   0   0   1   0   0   0   0   0   0   0 153   0   0   0   1\n",
            "    0   0   0   0   1   0   0   0]\n",
            " [  0   0   1   0   0   0   1   0   0   0   0   0   0   2 134   0   4   0\n",
            "    0   0   1   0   0   0   0   0]\n",
            " [  0   0   0   0   0   2   0   1   1   0   0   0   0   0   0 158   0   0\n",
            "    0   0   0   0   0   0   1   0]\n",
            " [  0   0   1   0   0   0   0   0   0   0   0   1   0   0   2   0 162   0\n",
            "    1   0   0   0   0   0   1   0]\n",
            " [  0   1   0   0   0   0   0   5   0   0   2   0   0   2   1   0   1 157\n",
            "    0   0   0   1   0   0   0   0]\n",
            " [  0   0   0   0   0   0   0   0   0   0   0   0   0   0   0   0   0   0\n",
            "  155   1   0   0   0   0   0   0]\n",
            " [  0   0   0   0   0   1   0   0   0   0   0   0   0   0   0   0   0   0\n",
            "    0 147   0   0   0   0   0   0]\n",
            " [  0   0   1   0   0   0   0   0   0   0   0   0   0   0   0   0   0   0\n",
            "    0   0 166   0   0   0   0   0]\n",
            " [  0   0   0   0   0   0   0   0   0   0   0   0   1   1   0   0   0   0\n",
            "    0   0   1 130   0   0   2   0]\n",
            " [  0   0   1   0   0   0   0   0   0   0   0   0   0   1   0   1   0   0\n",
            "    0   0   0   1 137   0   0   0]\n",
            " [  0   1   0   0   2   0   0   0   0   0   2   2   0   0   0   0   0   0\n",
            "    0   0   0   0   0 156   0   0]\n",
            " [  2   0   0   0   0   0   0   0   0   0   0   0   0   0   0   2   0   0\n",
            "    0   1   0   1   0   0 140   0]\n",
            " [  0   0   0   0   0   0   0   0   0   0   0   0   0   0   0   0   0   0\n",
            "    0   1   0   0   0   0   0 152]]\n"
          ]
        }
      ]
    },
    {
      "cell_type": "code",
      "source": [
        "nnmodel1 = MLPClassifier()\n",
        "nnmodel1.fit(X_Train_sc,y_Train)\n",
        "y_pred=nnmodel1.predict(X_Test_sc)\n",
        "print(classification_report(y_pred,y_Test))\n",
        "cm=confusion_matrix(y_pred,y_Test)\n",
        "print(cm)"
      ],
      "metadata": {
        "colab": {
          "base_uri": "https://localhost:8080/"
        },
        "id": "TSyOVabm59tF",
        "outputId": "ab754b90-6f19-496a-9cb7-48dd9ae7946a"
      },
      "execution_count": 46,
      "outputs": [
        {
          "output_type": "stream",
          "name": "stdout",
          "text": [
            "              precision    recall  f1-score   support\n",
            "\n",
            "           0       0.96      0.95      0.95       157\n",
            "           1       0.95      0.91      0.93       141\n",
            "           2       0.96      0.98      0.97       139\n",
            "           3       0.96      0.93      0.94       174\n",
            "           4       0.97      0.95      0.96       155\n",
            "           5       0.97      0.90      0.93       165\n",
            "           6       0.95      0.97      0.96       159\n",
            "           7       0.88      0.96      0.92       139\n",
            "           8       0.95      0.96      0.95       163\n",
            "           9       0.94      0.91      0.93       152\n",
            "          10       0.96      0.96      0.96       146\n",
            "          11       0.93      0.97      0.95       150\n",
            "          12       0.99      0.95      0.97       149\n",
            "          13       0.94      0.98      0.96       159\n",
            "          14       0.94      0.96      0.95       135\n",
            "          15       0.92      0.96      0.94       161\n",
            "          16       0.96      0.98      0.97       166\n",
            "          17       0.97      0.92      0.95       169\n",
            "          18       0.95      0.97      0.96       158\n",
            "          19       0.99      0.94      0.96       158\n",
            "          20       0.98      0.99      0.98       165\n",
            "          21       0.97      0.97      0.97       136\n",
            "          22       0.99      0.97      0.98       142\n",
            "          23       0.96      0.95      0.96       161\n",
            "          24       0.94      0.94      0.94       145\n",
            "          25       0.96      0.97      0.97       156\n",
            "\n",
            "    accuracy                           0.95      4000\n",
            "   macro avg       0.95      0.95      0.95      4000\n",
            "weighted avg       0.95      0.95      0.95      4000\n",
            "\n",
            "[[149   0   0   0   0   0   0   1   0   1   0   0   0   0   2   0   3   0\n",
            "    1   0   0   0   0   0   0   0]\n",
            " [  0 129   0   2   0   0   0   1   0   0   0   1   1   0   1   1   0   1\n",
            "    1   0   0   2   0   1   0   0]\n",
            " [  0   0 136   0   2   0   0   1   0   0   0   0   0   0   0   0   0   0\n",
            "    0   0   0   0   0   0   0   0]\n",
            " [  1   2   0 161   0   0   0   2   1   0   0   1   0   1   1   1   1   1\n",
            "    0   0   0   0   0   1   0   0]\n",
            " [  0   0   2   0 147   1   2   0   0   0   0   2   0   0   0   0   0   0\n",
            "    0   0   0   0   0   0   0   1]\n",
            " [  1   0   0   0   0 148   0   0   1   1   1   0   0   0   0   8   0   0\n",
            "    1   0   0   0   0   1   2   1]\n",
            " [  0   0   0   0   1   0 155   2   0   0   0   0   0   0   0   0   0   0\n",
            "    0   0   1   0   0   0   0   0]\n",
            " [  0   0   0   1   0   0   0 133   0   0   1   1   0   2   0   0   1   0\n",
            "    0   0   0   0   0   0   0   0]\n",
            " [  0   1   0   0   0   0   0   0 156   5   0   0   0   0   0   0   0   0\n",
            "    0   0   0   0   0   1   0   0]\n",
            " [  0   0   0   0   0   0   0   0   5 139   0   2   0   1   0   1   0   0\n",
            "    1   0   0   0   0   0   1   2]\n",
            " [  0   0   1   0   0   0   0   2   0   0 140   0   0   0   0   0   0   2\n",
            "    0   0   0   0   0   1   0   0]\n",
            " [  0   0   0   0   1   0   0   1   0   0   0 146   0   1   0   0   0   0\n",
            "    1   0   0   0   0   0   0   0]\n",
            " [  0   0   0   0   0   0   0   2   0   0   0   0 142   2   1   0   0   0\n",
            "    0   0   1   0   0   0   1   0]\n",
            " [  0   0   0   0   0   0   0   2   0   0   0   0   1 156   0   0   0   0\n",
            "    0   0   0   0   0   0   0   0]\n",
            " [  0   0   1   0   0   0   2   0   0   1   0   0   0   0 130   0   1   0\n",
            "    0   0   0   0   0   0   0   0]\n",
            " [  0   0   0   0   0   0   2   0   0   0   0   0   0   1   1 154   0   1\n",
            "    0   0   0   0   0   0   2   0]\n",
            " [  0   0   0   0   0   0   0   1   0   0   0   0   0   0   2   1 162   0\n",
            "    0   0   0   0   0   0   0   0]\n",
            " [  0   2   0   1   0   1   2   1   0   0   2   1   0   1   0   0   0 156\n",
            "    0   0   0   0   1   1   0   0]\n",
            " [  1   2   0   0   0   0   0   0   1   1   0   0   0   0   0   0   0   0\n",
            "  153   0   0   0   0   0   0   0]\n",
            " [  0   0   1   2   0   2   0   0   0   0   0   0   0   0   0   0   0   0\n",
            "    0 149   0   1   0   0   1   2]\n",
            " [  0   0   0   0   0   0   0   1   0   0   0   0   0   0   0   0   0   0\n",
            "    0   0 164   0   0   0   0   0]\n",
            " [  0   0   1   0   0   1   1   0   0   0   0   0   0   0   0   0   0   0\n",
            "    0   0   0 132   0   0   1   0]\n",
            " [  0   0   0   0   0   0   0   0   0   0   0   0   0   1   1   0   0   0\n",
            "    0   0   2   0 138   0   0   0]\n",
            " [  0   0   0   0   0   0   0   1   1   0   2   1   0   0   0   0   0   0\n",
            "    1   1   0   0   0 153   1   0]\n",
            " [  4   0   0   0   0   0   0   0   0   0   0   1   0   0   0   2   0   0\n",
            "    0   1   0   1   0   0 136   0]\n",
            " [  0   0   0   0   1   0   0   0   0   0   0   1   0   0   0   0   0   0\n",
            "    2   0   0   0   0   0   0 152]]\n"
          ]
        },
        {
          "output_type": "stream",
          "name": "stderr",
          "text": [
            "/usr/local/lib/python3.8/dist-packages/sklearn/neural_network/_multilayer_perceptron.py:692: ConvergenceWarning: Stochastic Optimizer: Maximum iterations (200) reached and the optimization hasn't converged yet.\n",
            "  warnings.warn(\n"
          ]
        }
      ]
    },
    {
      "cell_type": "code",
      "source": [
        "#X_Train_mm = scaler.transform(df_Train)\n",
        "#X_train_mm = scaler.transform(X_train)\n",
        "#X_test_mm = scaler.transform(X_test)\n",
        "#cv_X_train_mm = scaler.transform(cv_X_train)\n",
        "#cv_X_test_mm = scaler.transform(cv_X_test)\n",
        "#X_Test_mm = scaler.transform(df_Test)\n",
        "\n",
        "colnames1 = colnames[1:]\n",
        "print(colnames1)\n",
        "df_Train_mm = pd.DataFrame(X_Train_mm, columns = colnames1)\n",
        "df_Test_mm = pd.DataFrame(X_Test_mm, columns = colnames1)\n",
        "df_X_train_mm = pd.DataFrame(X_train_mm, columns = colnames1)\n",
        "df_cv_X_train_mm = pd.DataFrame(cv_X_train_mm, columns = colnames1)\n",
        "df_cv_X_test_mm = pd.DataFrame(cv_X_test_mm, columns = colnames1)\n",
        "df_X_test_mm = pd.DataFrame(X_test_mm, columns = colnames1)"
      ],
      "metadata": {
        "colab": {
          "base_uri": "https://localhost:8080/"
        },
        "id": "4XkNzm8TUCpV",
        "outputId": "d8ab99ee-3a55-46e2-c250-c32b5b8c4c26"
      },
      "execution_count": 47,
      "outputs": [
        {
          "output_type": "stream",
          "name": "stdout",
          "text": [
            "['x-box', 'y-box', 'width', 'high', 'onpix', 'x-bar', 'y-bar', 'x2bar', 'y2bar', 'xybar', 'x2ybr', 'xy2br', 'x-ege', 'xegvy', 'y-ege', 'yegvx']\n"
          ]
        }
      ]
    },
    {
      "cell_type": "code",
      "source": [
        "from sklearn.preprocessing import StandardScaler\n",
        "\n",
        "scaler2 = StandardScaler()\n",
        "scaler2.fit(df_Train_mm)\n",
        "\n",
        "X_Train_mm_sc = scaler2.transform(df_Train_mm)\n",
        "X_train_mm_sc = scaler2.transform(df_X_train_mm)\n",
        "X_test_mm_sc = scaler2.transform(df_X_test_mm)\n",
        "cv_X_train_mm_sc = scaler2.transform(df_cv_X_train_mm)\n",
        "cv_X_test_mm_sc = scaler2.transform(df_cv_X_test_mm)\n",
        "X_Test_mm_sc = scaler2.transform(df_Test_mm)"
      ],
      "metadata": {
        "id": "yZHYH0srVza7"
      },
      "execution_count": 48,
      "outputs": []
    },
    {
      "cell_type": "code",
      "source": [
        "from sklearn.model_selection import ShuffleSplit,cross_val_score\n",
        "from sklearn.ensemble import RandomForestClassifier\n",
        "dt = RandomForestClassifier(n_estimators=100)\n",
        "dt.fit(X_Train_mm_sc,y_Train)\n",
        "y_pred=dt.predict(X_Test_mm_sc)\n",
        "print(classification_report(y_pred,y_Test))\n",
        "cm=confusion_matrix(y_pred,y_Test)\n",
        "print(cm)\n",
        "cv1 = ShuffleSplit(n_splits=5, test_size=0.2, random_state=0)\n",
        "scores = cross_val_score(dt, X_Train_mm_sc, y_Train, cv=cv1)\n",
        "print ('Cross validation', scores)"
      ],
      "metadata": {
        "colab": {
          "base_uri": "https://localhost:8080/"
        },
        "id": "jdLam4a-WbGh",
        "outputId": "4d50ac15-38dc-4bd4-ebbe-c4e03f411794"
      },
      "execution_count": 49,
      "outputs": [
        {
          "output_type": "stream",
          "name": "stdout",
          "text": [
            "              precision    recall  f1-score   support\n",
            "\n",
            "           0       0.99      1.00      0.99       154\n",
            "           1       0.98      0.89      0.93       150\n",
            "           2       0.96      0.99      0.98       139\n",
            "           3       0.99      0.94      0.96       176\n",
            "           4       0.97      0.93      0.95       159\n",
            "           5       0.96      0.96      0.96       153\n",
            "           6       0.97      0.97      0.97       164\n",
            "           7       0.87      0.93      0.90       142\n",
            "           8       0.95      0.97      0.96       161\n",
            "           9       0.95      0.95      0.95       148\n",
            "          10       0.91      0.94      0.93       141\n",
            "          11       0.94      0.99      0.97       149\n",
            "          12       0.99      0.96      0.98       149\n",
            "          13       0.92      0.98      0.95       156\n",
            "          14       0.96      0.93      0.95       144\n",
            "          15       0.95      0.96      0.96       167\n",
            "          16       0.96      0.95      0.96       169\n",
            "          17       0.97      0.92      0.95       169\n",
            "          18       0.97      1.00      0.98       156\n",
            "          19       0.97      1.00      0.99       147\n",
            "          20       0.99      0.99      0.99       168\n",
            "          21       0.96      0.96      0.96       136\n",
            "          22       0.99      0.98      0.98       140\n",
            "          23       0.98      0.94      0.96       166\n",
            "          24       0.95      0.97      0.96       142\n",
            "          25       0.97      0.99      0.98       155\n",
            "\n",
            "    accuracy                           0.96      4000\n",
            "   macro avg       0.96      0.96      0.96      4000\n",
            "weighted avg       0.96      0.96      0.96      4000\n",
            "\n",
            "[[154   0   0   0   0   0   0   0   0   0   0   0   0   0   0   0   0   0\n",
            "    0   0   0   0   0   0   0   0]\n",
            " [  0 133   0   0   0   2   1   3   0   0   1   1   0   1   1   2   0   1\n",
            "    1   0   0   3   0   0   0   0]\n",
            " [  0   0 137   0   1   0   0   0   0   0   1   0   0   0   0   0   0   0\n",
            "    0   0   0   0   0   0   0   0]\n",
            " [  0   0   0 165   0   0   1   3   1   0   0   0   0   2   1   0   1   0\n",
            "    0   0   0   0   0   0   1   1]\n",
            " [  0   0   1   0 148   1   0   1   0   1   2   0   0   0   0   0   0   0\n",
            "    3   0   0   0   0   0   0   2]\n",
            " [  0   0   0   0   0 147   0   0   1   0   0   0   0   0   0   4   0   0\n",
            "    0   0   0   1   0   0   0   0]\n",
            " [  0   0   2   0   1   0 159   1   0   0   0   1   0   0   0   0   0   0\n",
            "    0   0   0   0   0   0   0   0]\n",
            " [  0   1   0   2   0   0   0 132   0   0   3   1   0   1   0   0   0   1\n",
            "    1   0   0   0   0   0   0   0]\n",
            " [  0   0   0   0   0   0   0   0 156   5   0   0   0   0   0   0   0   0\n",
            "    0   0   0   0   0   0   0   0]\n",
            " [  0   0   0   0   0   0   0   0   6 141   0   0   0   0   0   0   0   0\n",
            "    0   0   0   0   0   0   0   1]\n",
            " [  0   0   0   0   0   0   0   3   0   0 133   0   0   0   0   0   0   2\n",
            "    0   0   0   0   0   3   0   0]\n",
            " [  0   0   0   0   0   0   0   0   0   0   0 148   0   0   0   0   0   0\n",
            "    0   1   0   0   0   0   0   0]\n",
            " [  0   0   0   0   0   0   1   2   0   0   0   0 143   2   0   0   0   0\n",
            "    0   0   0   0   1   0   0   0]\n",
            " [  0   0   0   0   0   1   0   0   0   0   0   0   0 153   0   0   0   1\n",
            "    0   0   0   0   1   0   0   0]\n",
            " [  0   0   0   0   0   0   1   1   0   0   0   0   0   2 134   0   5   0\n",
            "    0   0   1   0   0   0   0   0]\n",
            " [  0   0   0   0   0   2   0   1   1   0   0   0   0   0   0 160   0   0\n",
            "    0   0   0   1   0   0   2   0]\n",
            " [  0   0   0   0   0   0   1   0   0   0   0   2   0   0   2   0 161   0\n",
            "    0   0   0   0   0   0   2   1]\n",
            " [  0   1   0   0   0   0   0   4   0   0   3   0   0   2   1   0   1 156\n",
            "    0   1   0   0   0   0   0   0]\n",
            " [  0   0   0   0   0   0   0   0   0   0   0   0   0   0   0   0   0   0\n",
            "  156   0   0   0   0   0   0   0]\n",
            " [  0   0   0   0   0   0   0   0   0   0   0   0   0   0   0   0   0   0\n",
            "    0 147   0   0   0   0   0   0]\n",
            " [  0   0   1   0   0   0   0   0   0   0   0   0   0   1   0   0   0   0\n",
            "    0   0 166   0   0   0   0   0]\n",
            " [  0   0   0   0   0   0   0   0   0   0   0   0   1   1   0   0   0   0\n",
            "    0   0   1 131   0   0   2   0]\n",
            " [  0   0   1   0   0   0   0   0   0   0   0   0   0   1   0   1   0   0\n",
            "    0   0   0   0 137   0   0   0]\n",
            " [  0   1   0   0   2   0   0   0   0   0   3   4   0   0   0   0   0   0\n",
            "    0   0   0   0   0 156   0   0]\n",
            " [  2   0   0   0   0   0   0   0   0   0   0   0   0   0   0   1   0   0\n",
            "    0   1   0   0   0   0 138   0]\n",
            " [  0   0   0   0   0   0   0   0   0   1   0   0   0   0   0   0   0   0\n",
            "    0   1   0   0   0   0   0 153]]\n",
            "Cross validation [0.9546875 0.9571875 0.9578125 0.9565625 0.9578125]\n"
          ]
        }
      ]
    },
    {
      "cell_type": "code",
      "source": [
        "from sklearn.model_selection import ShuffleSplit,cross_val_score\n",
        "nnmodel2 = MLPClassifier()\n",
        "nnmodel2.fit(X_Train_mm_sc,y_Train)\n",
        "y_pred=nnmodel2.predict(X_Test_mm_sc)\n",
        "print(classification_report(y_pred,y_Test))\n",
        "cm=confusion_matrix(y_pred,y_Test)\n",
        "print(cm)\n",
        "cv1 = ShuffleSplit(n_splits=5, test_size=0.2, random_state=0)\n",
        "scores = cross_val_score(nnmodel2, X_Train_mm_sc, y_Train, cv=cv1)\n",
        "print ('Cross validation', scores)"
      ],
      "metadata": {
        "colab": {
          "base_uri": "https://localhost:8080/"
        },
        "id": "Vu5cRyODW0jH",
        "outputId": "f21a0a87-88d1-49a8-ac33-772763ef1d64"
      },
      "execution_count": 50,
      "outputs": [
        {
          "output_type": "stream",
          "name": "stderr",
          "text": [
            "/usr/local/lib/python3.8/dist-packages/sklearn/neural_network/_multilayer_perceptron.py:692: ConvergenceWarning: Stochastic Optimizer: Maximum iterations (200) reached and the optimization hasn't converged yet.\n",
            "  warnings.warn(\n"
          ]
        },
        {
          "output_type": "stream",
          "name": "stdout",
          "text": [
            "              precision    recall  f1-score   support\n",
            "\n",
            "           0       0.97      0.97      0.97       157\n",
            "           1       0.94      0.90      0.92       142\n",
            "           2       0.96      0.95      0.95       143\n",
            "           3       0.95      0.95      0.95       166\n",
            "           4       0.92      0.93      0.92       151\n",
            "           5       0.96      0.89      0.92       166\n",
            "           6       0.95      0.91      0.93       171\n",
            "           7       0.87      0.90      0.89       145\n",
            "           8       0.94      0.93      0.94       166\n",
            "           9       0.95      0.95      0.95       148\n",
            "          10       0.97      0.92      0.94       153\n",
            "          11       0.94      0.98      0.96       150\n",
            "          12       0.99      0.97      0.98       146\n",
            "          13       0.95      0.97      0.96       163\n",
            "          14       0.92      0.96      0.94       133\n",
            "          15       0.92      0.95      0.93       164\n",
            "          16       0.96      0.97      0.96       166\n",
            "          17       0.91      0.94      0.92       156\n",
            "          18       0.97      0.96      0.97       162\n",
            "          19       0.99      0.97      0.98       154\n",
            "          20       0.96      0.97      0.97       167\n",
            "          21       0.96      0.96      0.96       135\n",
            "          22       0.99      0.99      0.99       138\n",
            "          23       0.97      0.95      0.96       163\n",
            "          24       0.94      0.96      0.95       141\n",
            "          25       0.96      0.98      0.97       154\n",
            "\n",
            "    accuracy                           0.95      4000\n",
            "   macro avg       0.95      0.95      0.95      4000\n",
            "weighted avg       0.95      0.95      0.95      4000\n",
            "\n",
            "[[152   0   1   0   0   0   0   0   0   1   0   0   0   0   1   0   1   0\n",
            "    0   0   0   0   0   0   0   1]\n",
            " [  1 128   0   2   0   0   0   3   0   0   0   1   0   0   1   0   0   1\n",
            "    1   0   0   3   0   1   0   0]\n",
            " [  0   0 136   0   3   0   0   1   0   0   0   1   0   0   0   1   0   1\n",
            "    0   0   0   0   0   0   0   0]\n",
            " [  1   0   0 158   0   0   0   1   0   0   0   1   0   2   2   0   1   0\n",
            "    0   0   0   0   0   0   0   0]\n",
            " [  0   1   2   0 140   1   1   1   0   0   0   2   0   0   0   0   0   0\n",
            "    2   0   0   0   0   0   0   1]\n",
            " [  0   0   0   0   1 147   0   0   2   0   0   0   0   0   0   8   0   0\n",
            "    1   0   0   0   0   1   5   1]\n",
            " [  0   0   1   0   5   0 155   2   0   0   0   0   0   1   1   1   1   2\n",
            "    0   0   1   0   1   0   0   0]\n",
            " [  0   0   0   2   0   0   1 131   0   0   1   0   0   3   2   0   2   2\n",
            "    0   0   0   0   1   0   0   0]\n",
            " [  1   2   0   1   0   0   0   0 155   4   0   1   0   1   0   1   0   0\n",
            "    0   0   0   0   0   0   0   0]\n",
            " [  0   0   0   0   0   0   0   1   4 141   0   0   0   0   1   0   0   0\n",
            "    0   0   0   0   0   0   1   0]\n",
            " [  0   0   0   0   0   0   0   4   0   0 141   0   0   0   0   0   0   6\n",
            "    0   0   0   0   0   2   0   0]\n",
            " [  0   0   0   0   1   0   0   0   0   0   0 147   0   0   0   0   0   1\n",
            "    0   0   0   1   0   0   0   0]\n",
            " [  0   0   0   1   0   0   0   2   0   0   0   0 142   0   0   0   0   0\n",
            "    0   0   1   0   0   0   0   0]\n",
            " [  0   0   0   0   0   1   0   2   0   0   0   1   0 158   0   0   0   1\n",
            "    0   0   0   0   0   0   0   0]\n",
            " [  0   0   1   0   0   0   1   0   0   1   0   0   0   0 128   0   1   0\n",
            "    0   0   1   0   0   0   0   0]\n",
            " [  0   0   0   1   0   3   3   0   1   0   0   0   0   0   0 155   0   0\n",
            "    0   0   0   0   0   0   1   0]\n",
            " [  0   0   0   0   1   0   0   1   0   0   0   0   0   0   3   0 161   0\n",
            "    0   0   0   0   0   0   0   0]\n",
            " [  0   2   0   2   0   0   2   1   0   0   2   0   0   1   0   0   0 146\n",
            "    0   0   0   0   0   0   0   0]\n",
            " [  0   1   0   0   0   0   0   0   0   1   1   1   0   0   0   1   0   0\n",
            "  156   0   0   0   0   0   0   1]\n",
            " [  0   1   0   0   0   0   0   1   0   0   0   0   0   0   0   0   0   0\n",
            "    0 150   0   0   0   0   0   2]\n",
            " [  0   1   1   0   0   0   0   0   0   0   0   0   1   0   0   0   0   0\n",
            "    0   0 162   1   0   0   1   0]\n",
            " [  0   0   0   0   0   1   0   0   0   0   0   0   1   0   0   0   1   0\n",
            "    0   0   2 130   0   0   0   0]\n",
            " [  0   0   0   0   0   0   1   0   0   0   0   0   0   0   0   0   0   0\n",
            "    0   0   0   0 137   0   0   0]\n",
            " [  0   0   0   0   1   0   0   0   1   0   1   2   0   0   0   0   0   1\n",
            "    0   0   0   0   0 155   1   1]\n",
            " [  1   0   0   0   0   0   0   0   0   0   0   0   0   0   0   1   0   0\n",
            "    0   1   1   1   0   0 136   0]\n",
            " [  0   0   0   0   0   0   0   0   2   0   0   0   0   0   0   0   0   0\n",
            "    1   0   0   0   0   0   0 151]]\n"
          ]
        },
        {
          "output_type": "stream",
          "name": "stderr",
          "text": [
            "/usr/local/lib/python3.8/dist-packages/sklearn/neural_network/_multilayer_perceptron.py:692: ConvergenceWarning: Stochastic Optimizer: Maximum iterations (200) reached and the optimization hasn't converged yet.\n",
            "  warnings.warn(\n",
            "/usr/local/lib/python3.8/dist-packages/sklearn/neural_network/_multilayer_perceptron.py:692: ConvergenceWarning: Stochastic Optimizer: Maximum iterations (200) reached and the optimization hasn't converged yet.\n",
            "  warnings.warn(\n",
            "/usr/local/lib/python3.8/dist-packages/sklearn/neural_network/_multilayer_perceptron.py:692: ConvergenceWarning: Stochastic Optimizer: Maximum iterations (200) reached and the optimization hasn't converged yet.\n",
            "  warnings.warn(\n",
            "/usr/local/lib/python3.8/dist-packages/sklearn/neural_network/_multilayer_perceptron.py:692: ConvergenceWarning: Stochastic Optimizer: Maximum iterations (200) reached and the optimization hasn't converged yet.\n",
            "  warnings.warn(\n"
          ]
        },
        {
          "output_type": "stream",
          "name": "stdout",
          "text": [
            "Cross validation [0.939375  0.9446875 0.9415625 0.95      0.9428125]\n"
          ]
        },
        {
          "output_type": "stream",
          "name": "stderr",
          "text": [
            "/usr/local/lib/python3.8/dist-packages/sklearn/neural_network/_multilayer_perceptron.py:692: ConvergenceWarning: Stochastic Optimizer: Maximum iterations (200) reached and the optimization hasn't converged yet.\n",
            "  warnings.warn(\n"
          ]
        }
      ]
    },
    {
      "cell_type": "code",
      "source": [
        "# from sklearn.metrics import plot_confusion_matrix\n",
        "# print(y_Train)\n",
        "# plot_confusion_matrix(nnmodel2, X_Test_mm_sc,y_Test)"
      ],
      "metadata": {
        "id": "iZyLRh1f5pJw"
      },
      "execution_count": 51,
      "outputs": []
    },
    {
      "cell_type": "code",
      "source": [
        "#from sklearn.model_selection import GridSearchCV\n",
        "\n",
        "#parameters = {'hidden_layer_sizes': [(100,),(100,10),(100,20),(100,30)],'activation': ['tanh', 'relu'],'solver': ['sgd', 'adam','lbfgs'],'alpha': 10.0 ** -np.arange(1, 10),'learning_rate': ['constant','adaptive']}\n",
        "#clf = GridSearchCV(MLPClassifier(),param_grid = parameters, scoring = 'accuracy',cv = 5, n_jobs=-1)\n",
        "#clf.fit(cv_X_train_mm_sc,cv_y_train)\n"
      ],
      "metadata": {
        "id": "KaieKGX0djF4"
      },
      "execution_count": 52,
      "outputs": []
    },
    {
      "cell_type": "code",
      "source": [
        "#print(\"Tuned Hyperparameters :\", clf.best_params_)\n",
        "#print(\"Accuracy :\",clf.best_score_)"
      ],
      "metadata": {
        "id": "DPBdHkUNdstR"
      },
      "execution_count": 53,
      "outputs": []
    },
    {
      "cell_type": "code",
      "source": [
        "nnmodel3 = MLPClassifier(hidden_layer_sizes=(250,300),activation='logistic')\n",
        "nnmodel3.fit(X_Train_mm_sc,y_Train)\n",
        "y_pred=nnmodel3.predict(X_Test_mm_sc)\n",
        "print(classification_report(y_pred,y_Test))\n",
        "cm=confusion_matrix(y_pred,y_Test)\n",
        "print(cm)\n",
        "cv1 = ShuffleSplit(n_splits=5, test_size=0.2, random_state=0)\n",
        "scores = cross_val_score(nnmodel2, X_Train_mm_sc, y_Train, cv=cv1)\n",
        "print ('Cross validation', scores)"
      ],
      "metadata": {
        "colab": {
          "base_uri": "https://localhost:8080/"
        },
        "id": "b_wVpDzxx-ql",
        "outputId": "29de7ecf-e717-4147-cccc-f48584130145"
      },
      "execution_count": 54,
      "outputs": [
        {
          "output_type": "stream",
          "name": "stderr",
          "text": [
            "/usr/local/lib/python3.8/dist-packages/sklearn/neural_network/_multilayer_perceptron.py:692: ConvergenceWarning: Stochastic Optimizer: Maximum iterations (200) reached and the optimization hasn't converged yet.\n",
            "  warnings.warn(\n"
          ]
        },
        {
          "output_type": "stream",
          "name": "stdout",
          "text": [
            "              precision    recall  f1-score   support\n",
            "\n",
            "           0       0.97      0.99      0.98       154\n",
            "           1       0.99      0.93      0.96       144\n",
            "           2       0.99      0.99      0.99       141\n",
            "           3       0.99      0.96      0.98       171\n",
            "           4       0.97      0.99      0.98       149\n",
            "           5       0.98      0.95      0.96       158\n",
            "           6       0.96      0.98      0.97       162\n",
            "           7       0.95      0.96      0.96       150\n",
            "           8       0.95      0.99      0.97       158\n",
            "           9       0.98      0.97      0.97       150\n",
            "          10       0.97      0.98      0.97       144\n",
            "          11       0.96      0.99      0.97       153\n",
            "          12       1.00      0.99      1.00       145\n",
            "          13       0.98      0.99      0.98       164\n",
            "          14       0.94      0.98      0.96       134\n",
            "          15       0.97      0.96      0.97       169\n",
            "          16       0.97      0.96      0.97       169\n",
            "          17       0.98      0.96      0.97       164\n",
            "          18       0.99      0.98      0.98       162\n",
            "          19       0.99      0.99      0.99       152\n",
            "          20       0.99      1.00      1.00       167\n",
            "          21       0.98      0.99      0.99       134\n",
            "          22       0.99      1.00      1.00       138\n",
            "          23       0.99      0.98      0.98       162\n",
            "          24       0.97      0.95      0.96       148\n",
            "          25       0.99      0.99      0.99       158\n",
            "\n",
            "    accuracy                           0.98      4000\n",
            "   macro avg       0.98      0.98      0.98      4000\n",
            "weighted avg       0.98      0.98      0.98      4000\n",
            "\n",
            "[[152   0   0   0   0   0   0   0   0   0   0   0   0   0   0   0   2   0\n",
            "    0   0   0   0   0   0   0   0]\n",
            " [  0 134   0   1   0   0   1   1   0   0   0   1   0   0   1   1   0   1\n",
            "    0   0   1   1   0   1   0   0]\n",
            " [  0   0 140   0   1   0   0   0   0   0   0   0   0   0   0   0   0   0\n",
            "    0   0   0   0   0   0   0   0]\n",
            " [  0   1   0 165   0   0   0   0   1   0   0   0   0   1   2   0   1   0\n",
            "    0   0   0   0   0   0   0   0]\n",
            " [  0   0   0   0 147   0   1   0   0   0   0   0   0   0   0   0   0   0\n",
            "    1   0   0   0   0   0   0   0]\n",
            " [  0   0   0   0   1 150   0   0   2   1   0   0   0   0   0   2   0   0\n",
            "    0   0   0   0   0   0   1   1]\n",
            " [  0   0   0   0   1   0 158   1   0   0   0   1   0   0   0   0   1   0\n",
            "    0   0   0   0   0   0   0   0]\n",
            " [  0   0   0   0   0   0   1 144   0   0   1   1   0   1   1   0   0   1\n",
            "    0   0   0   0   0   0   0   0]\n",
            " [  0   0   0   0   0   0   0   0 156   2   0   0   0   0   0   0   0   0\n",
            "    0   0   0   0   0   0   0   0]\n",
            " [  0   0   0   0   0   0   0   0   5 145   0   0   0   0   0   0   0   0\n",
            "    0   0   0   0   0   0   0   0]\n",
            " [  0   0   0   0   0   0   0   1   0   0 141   0   0   0   0   0   0   1\n",
            "    0   0   0   0   1   0   0   0]\n",
            " [  0   0   0   0   1   0   1   0   0   0   0 151   0   0   0   0   0   0\n",
            "    0   0   0   0   0   0   0   0]\n",
            " [  0   0   0   0   0   0   1   0   0   0   0   0 144   0   0   0   0   0\n",
            "    0   0   0   0   0   0   0   0]\n",
            " [  0   0   0   0   0   0   0   2   0   0   0   0   0 162   0   0   0   0\n",
            "    0   0   0   0   0   0   0   0]\n",
            " [  0   0   0   1   0   0   0   0   0   0   0   0   0   1 131   0   1   0\n",
            "    0   0   0   0   0   0   0   0]\n",
            " [  0   0   0   0   0   2   1   0   0   0   0   0   0   0   1 163   0   0\n",
            "    0   0   0   0   0   0   2   0]\n",
            " [  0   0   0   0   0   0   0   1   0   0   0   0   0   0   3   2 163   0\n",
            "    0   0   0   0   0   0   0   0]\n",
            " [  1   0   0   0   0   0   0   1   0   0   3   0   0   1   0   0   0 158\n",
            "    0   0   0   0   0   0   0   0]\n",
            " [  0   1   0   0   0   0   0   0   1   0   0   1   0   0   0   0   0   0\n",
            "  159   0   0   0   0   0   0   0]\n",
            " [  0   0   1   0   0   0   0   0   0   0   0   0   0   0   0   0   0   0\n",
            "    0 150   0   1   0   0   0   0]\n",
            " [  0   0   0   0   0   0   0   0   0   0   0   0   0   0   0   0   0   0\n",
            "    0   0 167   0   0   0   0   0]\n",
            " [  0   0   0   0   0   1   0   0   0   0   0   0   0   0   0   0   0   0\n",
            "    0   0   0 133   0   0   0   0]\n",
            " [  0   0   0   0   0   0   0   0   0   0   0   0   0   0   0   0   0   0\n",
            "    0   0   0   0 138   0   0   0]\n",
            " [  0   0   0   0   0   0   0   0   0   0   1   1   0   0   0   0   0   0\n",
            "    1   0   0   0   0 158   1   0]\n",
            " [  3   0   1   0   0   0   0   0   0   0   0   1   0   0   0   0   0   0\n",
            "    0   1   0   1   0   0 141   0]\n",
            " [  0   0   0   0   1   0   0   0   0   0   0   0   0   0   0   0   0   0\n",
            "    0   0   0   0   0   0   0 157]]\n"
          ]
        },
        {
          "output_type": "stream",
          "name": "stderr",
          "text": [
            "/usr/local/lib/python3.8/dist-packages/sklearn/neural_network/_multilayer_perceptron.py:692: ConvergenceWarning: Stochastic Optimizer: Maximum iterations (200) reached and the optimization hasn't converged yet.\n",
            "  warnings.warn(\n",
            "/usr/local/lib/python3.8/dist-packages/sklearn/neural_network/_multilayer_perceptron.py:692: ConvergenceWarning: Stochastic Optimizer: Maximum iterations (200) reached and the optimization hasn't converged yet.\n",
            "  warnings.warn(\n",
            "/usr/local/lib/python3.8/dist-packages/sklearn/neural_network/_multilayer_perceptron.py:692: ConvergenceWarning: Stochastic Optimizer: Maximum iterations (200) reached and the optimization hasn't converged yet.\n",
            "  warnings.warn(\n",
            "/usr/local/lib/python3.8/dist-packages/sklearn/neural_network/_multilayer_perceptron.py:692: ConvergenceWarning: Stochastic Optimizer: Maximum iterations (200) reached and the optimization hasn't converged yet.\n",
            "  warnings.warn(\n"
          ]
        },
        {
          "output_type": "stream",
          "name": "stdout",
          "text": [
            "Cross validation [0.9396875 0.946875  0.9490625 0.9471875 0.9440625]\n"
          ]
        },
        {
          "output_type": "stream",
          "name": "stderr",
          "text": [
            "/usr/local/lib/python3.8/dist-packages/sklearn/neural_network/_multilayer_perceptron.py:692: ConvergenceWarning: Stochastic Optimizer: Maximum iterations (200) reached and the optimization hasn't converged yet.\n",
            "  warnings.warn(\n"
          ]
        }
      ]
    },
    {
      "cell_type": "code",
      "source": [
        "from sklearn.model_selection import ShuffleSplit,cross_val_score\n",
        "from sklearn.ensemble import RandomForestClassifier\n",
        "dt = RandomForestClassifier(bootstrap= False,n_estimators=1400)\n",
        "dt.fit(X_Train_mm_sc,y_Train)\n",
        "y_pred=dt.predict(X_Test_mm_sc)\n",
        "print(classification_report(y_pred,y_Test))\n",
        "cm=confusion_matrix(y_pred,y_Test)\n",
        "print(cm)\n",
        "cv1 = ShuffleSplit(n_splits=5, test_size=0.2, random_state=0)\n",
        "scores = cross_val_score(dt, X_Train_mm_sc, y_Train, cv=cv1)\n",
        "print ('Cross validation', scores)"
      ],
      "metadata": {
        "colab": {
          "base_uri": "https://localhost:8080/"
        },
        "id": "ZUSe-EPQaaRa",
        "outputId": "8cef68fc-8784-470f-b06e-5924e72f072b"
      },
      "execution_count": 55,
      "outputs": [
        {
          "output_type": "stream",
          "name": "stdout",
          "text": [
            "              precision    recall  f1-score   support\n",
            "\n",
            "           0       0.99      1.00      0.99       154\n",
            "           1       0.99      0.91      0.94       148\n",
            "           2       0.97      0.99      0.98       139\n",
            "           3       0.99      0.94      0.97       176\n",
            "           4       0.97      0.97      0.97       152\n",
            "           5       0.96      0.97      0.97       151\n",
            "           6       0.98      0.98      0.98       164\n",
            "           7       0.89      0.96      0.92       140\n",
            "           8       0.96      0.96      0.96       164\n",
            "           9       0.96      0.97      0.96       147\n",
            "          10       0.92      0.94      0.93       143\n",
            "          11       0.97      0.99      0.98       154\n",
            "          12       1.00      0.97      0.99       148\n",
            "          13       0.93      0.98      0.95       157\n",
            "          14       0.98      0.94      0.96       144\n",
            "          15       0.96      0.96      0.96       167\n",
            "          16       0.96      0.97      0.97       167\n",
            "          17       0.98      0.93      0.96       169\n",
            "          18       0.99      1.00      0.99       159\n",
            "          19       0.99      1.00      0.99       149\n",
            "          20       0.99      0.99      0.99       168\n",
            "          21       0.96      0.97      0.97       135\n",
            "          22       0.99      0.99      0.99       138\n",
            "          23       0.97      0.95      0.96       163\n",
            "          24       0.97      0.96      0.96       146\n",
            "          25       0.99      0.99      0.99       158\n",
            "\n",
            "    accuracy                           0.97      4000\n",
            "   macro avg       0.97      0.97      0.97      4000\n",
            "weighted avg       0.97      0.97      0.97      4000\n",
            "\n",
            "[[154   0   0   0   0   0   0   0   0   0   0   0   0   0   0   0   0   0\n",
            "    0   0   0   0   0   0   0   0]\n",
            " [  0 134   0   0   0   1   1   3   0   0   1   1   0   0   1   2   0   0\n",
            "    1   0   0   3   0   0   0   0]\n",
            " [  0   0 138   0   1   0   0   0   0   0   0   0   0   0   0   0   0   0\n",
            "    0   0   0   0   0   0   0   0]\n",
            " [  0   0   0 166   0   0   1   3   1   0   0   0   0   2   1   0   1   0\n",
            "    0   0   0   0   0   0   1   0]\n",
            " [  0   0   0   0 147   1   0   1   0   0   2   0   0   0   0   0   0   0\n",
            "    0   0   0   0   0   1   0   0]\n",
            " [  0   0   0   0   0 147   0   0   1   0   0   0   0   0   0   3   0   0\n",
            "    0   0   0   0   0   0   0   0]\n",
            " [  0   0   2   0   1   0 160   1   0   0   0   0   0   0   0   0   0   0\n",
            "    0   0   0   0   0   0   0   0]\n",
            " [  0   1   0   1   0   0   0 134   0   0   3   0   0   1   0   0   0   0\n",
            "    0   0   0   0   0   0   0   0]\n",
            " [  0   0   0   0   0   0   0   0 158   6   0   0   0   0   0   0   0   0\n",
            "    0   0   0   0   0   0   0   0]\n",
            " [  0   0   0   0   0   0   0   1   4 142   0   0   0   0   0   0   0   0\n",
            "    0   0   0   0   0   0   0   0]\n",
            " [  0   0   0   0   0   0   0   3   0   0 135   0   0   0   0   0   0   2\n",
            "    0   0   0   0   0   3   0   0]\n",
            " [  0   0   0   0   1   0   0   0   0   0   0 153   0   0   0   0   0   0\n",
            "    0   0   0   0   0   0   0   0]\n",
            " [  0   0   0   0   0   0   1   1   0   0   0   0 144   1   0   0   0   0\n",
            "    0   0   0   0   1   0   0   0]\n",
            " [  0   0   0   0   0   1   0   0   0   0   0   0   0 154   0   0   0   1\n",
            "    0   0   0   0   1   0   0   0]\n",
            " [  0   0   0   0   0   0   1   0   0   0   0   0   0   2 136   0   4   0\n",
            "    0   0   1   0   0   0   0   0]\n",
            " [  0   0   0   0   0   3   0   0   1   0   0   0   0   0   0 161   0   0\n",
            "    0   0   0   1   0   0   1   0]\n",
            " [  0   0   0   0   0   0   0   0   0   0   0   1   0   0   1   0 162   0\n",
            "    1   0   0   0   0   0   1   1]\n",
            " [  0   0   0   0   0   0   0   4   0   0   2   0   0   4   0   0   1 158\n",
            "    0   0   0   0   0   0   0   0]\n",
            " [  0   0   0   0   0   0   0   0   0   0   0   0   0   0   0   0   0   0\n",
            "  159   0   0   0   0   0   0   0]\n",
            " [  0   0   0   0   0   0   0   0   0   0   0   0   0   0   0   0   0   0\n",
            "    0 149   0   0   0   0   0   0]\n",
            " [  0   0   1   0   0   0   0   0   0   0   0   0   0   1   0   0   0   0\n",
            "    0   0 166   0   0   0   0   0]\n",
            " [  0   0   0   0   0   0   0   0   0   0   0   0   0   1   0   0   0   0\n",
            "    0   0   1 131   0   0   2   0]\n",
            " [  0   0   1   0   0   0   0   0   0   0   0   0   0   0   0   0   0   0\n",
            "    0   0   0   0 137   0   0   0]\n",
            " [  0   1   0   0   2   0   0   0   0   0   3   2   0   0   0   0   0   0\n",
            "    0   0   0   0   0 155   0   0]\n",
            " [  2   0   0   0   0   0   0   0   0   0   0   0   0   0   0   2   0   0\n",
            "    0   1   0   1   0   0 140   0]\n",
            " [  0   0   0   0   0   0   0   0   0   0   0   0   0   0   0   0   0   0\n",
            "    0   1   0   0   0   0   0 157]]\n",
            "Cross validation [0.960625  0.9640625 0.963125  0.961875  0.9621875]\n"
          ]
        }
      ]
    },
    {
      "cell_type": "code",
      "source": [
        "import tensorflow as tf\n",
        "from keras.models import Sequential\n",
        "from keras.layers import Dense"
      ],
      "metadata": {
        "id": "X5SQZ2C9MWDJ"
      },
      "execution_count": 56,
      "outputs": []
    },
    {
      "cell_type": "code",
      "source": [
        "model = tf.keras.models.Sequential([\n",
        "  # tf.keras.layers.Normalization(axis=None),\n",
        "  tf.keras.layers.Dense(128, activation='relu'),\n",
        "  tf.keras.layers.Dense(128, activation='relu'),\n",
        "  tf.keras.layers.Dense(26,activation='sigmoid')\n",
        "])\n",
        "model.compile(\n",
        "    optimizer=tf.keras.optimizers.Adam(0.001),\n",
        "    loss=tf.keras.losses.SparseCategoricalCrossentropy(from_logits=True),\n",
        "    metrics=[tf.keras.metrics.SparseCategoricalAccuracy()],\n",
        ")\n",
        "\n",
        "model.fit(\n",
        "    X_Train_mm_sc,\n",
        "    y_Train,\n",
        "    epochs=100\n",
        ")"
      ],
      "metadata": {
        "colab": {
          "base_uri": "https://localhost:8080/"
        },
        "id": "bcCqXlwl4Jka",
        "outputId": "0a4b8c4b-dcb3-4b52-96f8-42e8d21d78c4"
      },
      "execution_count": 64,
      "outputs": [
        {
          "output_type": "stream",
          "name": "stdout",
          "text": [
            "Epoch 1/100\n"
          ]
        },
        {
          "output_type": "stream",
          "name": "stderr",
          "text": [
            "/usr/local/lib/python3.8/dist-packages/tensorflow/python/util/dispatch.py:1082: UserWarning: \"`sparse_categorical_crossentropy` received `from_logits=True`, but the `output` argument was produced by a sigmoid or softmax activation and thus does not represent logits. Was this intended?\"\n",
            "  return dispatch_target(*args, **kwargs)\n"
          ]
        },
        {
          "output_type": "stream",
          "name": "stdout",
          "text": [
            "500/500 [==============================] - 2s 3ms/step - loss: 1.2541 - sparse_categorical_accuracy: 0.6528\n",
            "Epoch 2/100\n",
            "500/500 [==============================] - 1s 2ms/step - loss: 0.5701 - sparse_categorical_accuracy: 0.8316\n",
            "Epoch 3/100\n",
            "500/500 [==============================] - 1s 2ms/step - loss: 0.4104 - sparse_categorical_accuracy: 0.8773\n",
            "Epoch 4/100\n",
            "500/500 [==============================] - 1s 2ms/step - loss: 0.3223 - sparse_categorical_accuracy: 0.9039\n",
            "Epoch 5/100\n",
            "500/500 [==============================] - 1s 2ms/step - loss: 0.2627 - sparse_categorical_accuracy: 0.9186\n",
            "Epoch 6/100\n",
            "500/500 [==============================] - 1s 2ms/step - loss: 0.2223 - sparse_categorical_accuracy: 0.9316\n",
            "Epoch 7/100\n",
            "500/500 [==============================] - 1s 2ms/step - loss: 0.1907 - sparse_categorical_accuracy: 0.9406\n",
            "Epoch 8/100\n",
            "500/500 [==============================] - 1s 2ms/step - loss: 0.1669 - sparse_categorical_accuracy: 0.9486\n",
            "Epoch 9/100\n",
            "500/500 [==============================] - 1s 2ms/step - loss: 0.1464 - sparse_categorical_accuracy: 0.9544\n",
            "Epoch 10/100\n",
            "500/500 [==============================] - 1s 2ms/step - loss: 0.1301 - sparse_categorical_accuracy: 0.9597\n",
            "Epoch 11/100\n",
            "500/500 [==============================] - 1s 2ms/step - loss: 0.1188 - sparse_categorical_accuracy: 0.9623\n",
            "Epoch 12/100\n",
            "500/500 [==============================] - 1s 2ms/step - loss: 0.1034 - sparse_categorical_accuracy: 0.9684\n",
            "Epoch 13/100\n",
            "500/500 [==============================] - 1s 2ms/step - loss: 0.0999 - sparse_categorical_accuracy: 0.9664\n",
            "Epoch 14/100\n",
            "500/500 [==============================] - 1s 2ms/step - loss: 0.0861 - sparse_categorical_accuracy: 0.9730\n",
            "Epoch 15/100\n",
            "500/500 [==============================] - 1s 2ms/step - loss: 0.0812 - sparse_categorical_accuracy: 0.9746\n",
            "Epoch 16/100\n",
            "500/500 [==============================] - 1s 2ms/step - loss: 0.0734 - sparse_categorical_accuracy: 0.9772\n",
            "Epoch 17/100\n",
            "500/500 [==============================] - 1s 2ms/step - loss: 0.0707 - sparse_categorical_accuracy: 0.9789\n",
            "Epoch 18/100\n",
            "500/500 [==============================] - 1s 2ms/step - loss: 0.0651 - sparse_categorical_accuracy: 0.9783\n",
            "Epoch 19/100\n",
            "500/500 [==============================] - 1s 2ms/step - loss: 0.0554 - sparse_categorical_accuracy: 0.9833\n",
            "Epoch 20/100\n",
            "500/500 [==============================] - 1s 2ms/step - loss: 0.0527 - sparse_categorical_accuracy: 0.9844\n",
            "Epoch 21/100\n",
            "500/500 [==============================] - 1s 2ms/step - loss: 0.0532 - sparse_categorical_accuracy: 0.9829\n",
            "Epoch 22/100\n",
            "500/500 [==============================] - 1s 2ms/step - loss: 0.0478 - sparse_categorical_accuracy: 0.9847\n",
            "Epoch 23/100\n",
            "500/500 [==============================] - 1s 2ms/step - loss: 0.0446 - sparse_categorical_accuracy: 0.9859\n",
            "Epoch 24/100\n",
            "500/500 [==============================] - 1s 2ms/step - loss: 0.0426 - sparse_categorical_accuracy: 0.9868\n",
            "Epoch 25/100\n",
            "500/500 [==============================] - 1s 2ms/step - loss: 0.0406 - sparse_categorical_accuracy: 0.9876\n",
            "Epoch 26/100\n",
            "500/500 [==============================] - 1s 2ms/step - loss: 0.0344 - sparse_categorical_accuracy: 0.9894\n",
            "Epoch 27/100\n",
            "500/500 [==============================] - 1s 2ms/step - loss: 0.0365 - sparse_categorical_accuracy: 0.9890\n",
            "Epoch 28/100\n",
            "500/500 [==============================] - 1s 2ms/step - loss: 0.0315 - sparse_categorical_accuracy: 0.9905\n",
            "Epoch 29/100\n",
            "500/500 [==============================] - 1s 2ms/step - loss: 0.0287 - sparse_categorical_accuracy: 0.9911\n",
            "Epoch 30/100\n",
            "500/500 [==============================] - 1s 2ms/step - loss: 0.0308 - sparse_categorical_accuracy: 0.9913\n",
            "Epoch 31/100\n",
            "500/500 [==============================] - 1s 2ms/step - loss: 0.0264 - sparse_categorical_accuracy: 0.9918\n",
            "Epoch 32/100\n",
            "500/500 [==============================] - 1s 2ms/step - loss: 0.0304 - sparse_categorical_accuracy: 0.9918\n",
            "Epoch 33/100\n",
            "500/500 [==============================] - 1s 2ms/step - loss: 0.0229 - sparse_categorical_accuracy: 0.9938\n",
            "Epoch 34/100\n",
            "500/500 [==============================] - 1s 2ms/step - loss: 0.0275 - sparse_categorical_accuracy: 0.9913\n",
            "Epoch 35/100\n",
            "500/500 [==============================] - 1s 2ms/step - loss: 0.0225 - sparse_categorical_accuracy: 0.9927\n",
            "Epoch 36/100\n",
            "500/500 [==============================] - 1s 2ms/step - loss: 0.0216 - sparse_categorical_accuracy: 0.9940\n",
            "Epoch 37/100\n",
            "500/500 [==============================] - 1s 2ms/step - loss: 0.0181 - sparse_categorical_accuracy: 0.9951\n",
            "Epoch 38/100\n",
            "500/500 [==============================] - 1s 2ms/step - loss: 0.0203 - sparse_categorical_accuracy: 0.9944\n",
            "Epoch 39/100\n",
            "500/500 [==============================] - 1s 2ms/step - loss: 0.0222 - sparse_categorical_accuracy: 0.9935\n",
            "Epoch 40/100\n",
            "500/500 [==============================] - 1s 2ms/step - loss: 0.0171 - sparse_categorical_accuracy: 0.9955\n",
            "Epoch 41/100\n",
            "500/500 [==============================] - 1s 2ms/step - loss: 0.0131 - sparse_categorical_accuracy: 0.9967\n",
            "Epoch 42/100\n",
            "500/500 [==============================] - 1s 2ms/step - loss: 0.0268 - sparse_categorical_accuracy: 0.9918\n",
            "Epoch 43/100\n",
            "500/500 [==============================] - 2s 4ms/step - loss: 0.0228 - sparse_categorical_accuracy: 0.9937\n",
            "Epoch 44/100\n",
            "500/500 [==============================] - 2s 3ms/step - loss: 0.0120 - sparse_categorical_accuracy: 0.9971\n",
            "Epoch 45/100\n",
            "500/500 [==============================] - 1s 2ms/step - loss: 0.0111 - sparse_categorical_accuracy: 0.9971\n",
            "Epoch 46/100\n",
            "500/500 [==============================] - 1s 2ms/step - loss: 0.0201 - sparse_categorical_accuracy: 0.9956\n",
            "Epoch 47/100\n",
            "500/500 [==============================] - 1s 2ms/step - loss: 0.0135 - sparse_categorical_accuracy: 0.9964\n",
            "Epoch 48/100\n",
            "500/500 [==============================] - 1s 2ms/step - loss: 0.0106 - sparse_categorical_accuracy: 0.9974\n",
            "Epoch 49/100\n",
            "500/500 [==============================] - 1s 2ms/step - loss: 0.0092 - sparse_categorical_accuracy: 0.9977\n",
            "Epoch 50/100\n",
            "500/500 [==============================] - 1s 2ms/step - loss: 0.0279 - sparse_categorical_accuracy: 0.9918\n",
            "Epoch 51/100\n",
            "500/500 [==============================] - 1s 2ms/step - loss: 0.0121 - sparse_categorical_accuracy: 0.9964\n",
            "Epoch 52/100\n",
            "500/500 [==============================] - 1s 2ms/step - loss: 0.0117 - sparse_categorical_accuracy: 0.9967\n",
            "Epoch 53/100\n",
            "500/500 [==============================] - 1s 2ms/step - loss: 0.0136 - sparse_categorical_accuracy: 0.9959\n",
            "Epoch 54/100\n",
            "500/500 [==============================] - 1s 2ms/step - loss: 0.0083 - sparse_categorical_accuracy: 0.9977\n",
            "Epoch 55/100\n",
            "500/500 [==============================] - 1s 2ms/step - loss: 0.0067 - sparse_categorical_accuracy: 0.9987\n",
            "Epoch 56/100\n",
            "500/500 [==============================] - 1s 2ms/step - loss: 0.0187 - sparse_categorical_accuracy: 0.9943\n",
            "Epoch 57/100\n",
            "500/500 [==============================] - 1s 2ms/step - loss: 0.0218 - sparse_categorical_accuracy: 0.9934\n",
            "Epoch 58/100\n",
            "500/500 [==============================] - 1s 2ms/step - loss: 0.0154 - sparse_categorical_accuracy: 0.9963\n",
            "Epoch 59/100\n",
            "500/500 [==============================] - 1s 2ms/step - loss: 0.0114 - sparse_categorical_accuracy: 0.9971\n",
            "Epoch 60/100\n",
            "500/500 [==============================] - 1s 2ms/step - loss: 0.0089 - sparse_categorical_accuracy: 0.9977\n",
            "Epoch 61/100\n",
            "500/500 [==============================] - 1s 2ms/step - loss: 0.0126 - sparse_categorical_accuracy: 0.9966\n",
            "Epoch 62/100\n",
            "500/500 [==============================] - 1s 2ms/step - loss: 0.0057 - sparse_categorical_accuracy: 0.9986\n",
            "Epoch 63/100\n",
            "500/500 [==============================] - 1s 2ms/step - loss: 0.0098 - sparse_categorical_accuracy: 0.9974\n",
            "Epoch 64/100\n",
            "500/500 [==============================] - 1s 2ms/step - loss: 0.0140 - sparse_categorical_accuracy: 0.9959\n",
            "Epoch 65/100\n",
            "500/500 [==============================] - 1s 2ms/step - loss: 0.0157 - sparse_categorical_accuracy: 0.9946\n",
            "Epoch 66/100\n",
            "500/500 [==============================] - 1s 2ms/step - loss: 0.0067 - sparse_categorical_accuracy: 0.9985\n",
            "Epoch 67/100\n",
            "500/500 [==============================] - 1s 2ms/step - loss: 0.0029 - sparse_categorical_accuracy: 0.9995\n",
            "Epoch 68/100\n",
            "500/500 [==============================] - 1s 2ms/step - loss: 0.0026 - sparse_categorical_accuracy: 0.9994\n",
            "Epoch 69/100\n",
            "500/500 [==============================] - 1s 3ms/step - loss: 0.0127 - sparse_categorical_accuracy: 0.9961\n",
            "Epoch 70/100\n",
            "500/500 [==============================] - 1s 2ms/step - loss: 0.0281 - sparse_categorical_accuracy: 0.9918\n",
            "Epoch 71/100\n",
            "500/500 [==============================] - 1s 2ms/step - loss: 0.0042 - sparse_categorical_accuracy: 0.9992\n",
            "Epoch 72/100\n",
            "500/500 [==============================] - 1s 2ms/step - loss: 0.0015 - sparse_categorical_accuracy: 1.0000\n",
            "Epoch 73/100\n",
            "500/500 [==============================] - 1s 2ms/step - loss: 0.0011 - sparse_categorical_accuracy: 1.0000\n",
            "Epoch 74/100\n",
            "500/500 [==============================] - 1s 2ms/step - loss: 0.0010 - sparse_categorical_accuracy: 0.9999\n",
            "Epoch 75/100\n",
            "500/500 [==============================] - 1s 2ms/step - loss: 0.0192 - sparse_categorical_accuracy: 0.9947\n",
            "Epoch 76/100\n",
            "500/500 [==============================] - 1s 2ms/step - loss: 0.0282 - sparse_categorical_accuracy: 0.9911\n",
            "Epoch 77/100\n",
            "500/500 [==============================] - 1s 2ms/step - loss: 0.0042 - sparse_categorical_accuracy: 0.9988\n",
            "Epoch 78/100\n",
            "500/500 [==============================] - 1s 2ms/step - loss: 0.0021 - sparse_categorical_accuracy: 0.9997\n",
            "Epoch 79/100\n",
            "500/500 [==============================] - 2s 4ms/step - loss: 0.0019 - sparse_categorical_accuracy: 0.9996\n",
            "Epoch 80/100\n",
            "500/500 [==============================] - 2s 4ms/step - loss: 0.0021 - sparse_categorical_accuracy: 0.9997\n",
            "Epoch 81/100\n",
            "500/500 [==============================] - 2s 3ms/step - loss: 0.0012 - sparse_categorical_accuracy: 0.9999\n",
            "Epoch 82/100\n",
            "500/500 [==============================] - 1s 2ms/step - loss: 0.0360 - sparse_categorical_accuracy: 0.9887\n",
            "Epoch 83/100\n",
            "500/500 [==============================] - 1s 2ms/step - loss: 0.0128 - sparse_categorical_accuracy: 0.9966\n",
            "Epoch 84/100\n",
            "500/500 [==============================] - 1s 2ms/step - loss: 0.0019 - sparse_categorical_accuracy: 0.9998\n",
            "Epoch 85/100\n",
            "500/500 [==============================] - 1s 2ms/step - loss: 0.0026 - sparse_categorical_accuracy: 0.9995\n",
            "Epoch 86/100\n",
            "500/500 [==============================] - 1s 2ms/step - loss: 0.0078 - sparse_categorical_accuracy: 0.9983\n",
            "Epoch 87/100\n",
            "500/500 [==============================] - 1s 2ms/step - loss: 0.0201 - sparse_categorical_accuracy: 0.9939\n",
            "Epoch 88/100\n",
            "500/500 [==============================] - 1s 2ms/step - loss: 0.0046 - sparse_categorical_accuracy: 0.9991\n",
            "Epoch 89/100\n",
            "500/500 [==============================] - 1s 2ms/step - loss: 0.0020 - sparse_categorical_accuracy: 0.9997\n",
            "Epoch 90/100\n",
            "500/500 [==============================] - 1s 2ms/step - loss: 0.0023 - sparse_categorical_accuracy: 0.9997\n",
            "Epoch 91/100\n",
            "500/500 [==============================] - 1s 2ms/step - loss: 0.0204 - sparse_categorical_accuracy: 0.9934\n",
            "Epoch 92/100\n",
            "500/500 [==============================] - 1s 2ms/step - loss: 0.0121 - sparse_categorical_accuracy: 0.9958\n",
            "Epoch 93/100\n",
            "500/500 [==============================] - 1s 2ms/step - loss: 0.0025 - sparse_categorical_accuracy: 0.9994\n",
            "Epoch 94/100\n",
            "500/500 [==============================] - 1s 2ms/step - loss: 7.8652e-04 - sparse_categorical_accuracy: 1.0000\n",
            "Epoch 95/100\n",
            "500/500 [==============================] - 1s 2ms/step - loss: 5.8638e-04 - sparse_categorical_accuracy: 1.0000\n",
            "Epoch 96/100\n",
            "500/500 [==============================] - 1s 2ms/step - loss: 0.0021 - sparse_categorical_accuracy: 0.9997\n",
            "Epoch 97/100\n",
            "500/500 [==============================] - 1s 2ms/step - loss: 0.0107 - sparse_categorical_accuracy: 0.9973\n",
            "Epoch 98/100\n",
            "500/500 [==============================] - 1s 2ms/step - loss: 0.0332 - sparse_categorical_accuracy: 0.9895\n",
            "Epoch 99/100\n",
            "500/500 [==============================] - 1s 2ms/step - loss: 0.0038 - sparse_categorical_accuracy: 0.9988\n",
            "Epoch 100/100\n",
            "500/500 [==============================] - 1s 2ms/step - loss: 9.9387e-04 - sparse_categorical_accuracy: 0.9999\n"
          ]
        },
        {
          "output_type": "execute_result",
          "data": {
            "text/plain": [
              "<keras.callbacks.History at 0x7fdd934c5790>"
            ]
          },
          "metadata": {},
          "execution_count": 64
        }
      ]
    },
    {
      "cell_type": "code",
      "source": [
        "model.summary()"
      ],
      "metadata": {
        "id": "XM3tS3m2OKcf",
        "colab": {
          "base_uri": "https://localhost:8080/"
        },
        "outputId": "ee34ad08-b019-48f8-e8e2-60ad0f8f1b6a"
      },
      "execution_count": 65,
      "outputs": [
        {
          "output_type": "stream",
          "name": "stdout",
          "text": [
            "Model: \"sequential_1\"\n",
            "_________________________________________________________________\n",
            " Layer (type)                Output Shape              Param #   \n",
            "=================================================================\n",
            " dense_6 (Dense)             (32, 128)                 2176      \n",
            "                                                                 \n",
            " dense_7 (Dense)             (32, 128)                 16512     \n",
            "                                                                 \n",
            " dense_8 (Dense)             (32, 26)                  3354      \n",
            "                                                                 \n",
            "=================================================================\n",
            "Total params: 22,042\n",
            "Trainable params: 22,042\n",
            "Non-trainable params: 0\n",
            "_________________________________________________________________\n"
          ]
        }
      ]
    },
    {
      "cell_type": "code",
      "source": [
        "for layer in model.layers:\n",
        "  weights = layer.get_weights()\n",
        "  #print(weights)"
      ],
      "metadata": {
        "id": "zefICB9P5Og-"
      },
      "execution_count": 66,
      "outputs": []
    },
    {
      "cell_type": "code",
      "source": [
        "from keras.utils import plot_model\n",
        "plot_model(model, to_file='model.png', show_shapes=True,)"
      ],
      "metadata": {
        "id": "rVR_KYr45UIZ",
        "colab": {
          "base_uri": "https://localhost:8080/",
          "height": 422
        },
        "outputId": "1c91ea4b-0402-4717-f0b4-9ce0fc5a40af"
      },
      "execution_count": 67,
      "outputs": [
        {
          "output_type": "execute_result",
          "data": {
            "image/png": "[encoded data removed]",
            "text/plain": [
              "<IPython.core.display.Image object>"
            ]
          },
          "metadata": {},
          "execution_count": 67
        }
      ]
    },
    {
      "cell_type": "code",
      "source": [
        "score = model.evaluate(X_Test_mm_sc, y_Test,verbose=1)\n",
        "print(score)"
      ],
      "metadata": {
        "id": "8v0Wq1tU5YI4",
        "colab": {
          "base_uri": "https://localhost:8080/"
        },
        "outputId": "e67c12f7-c323-495c-9bf0-2634e22e5530"
      },
      "execution_count": 68,
      "outputs": [
        {
          "output_type": "stream",
          "name": "stdout",
          "text": [
            "125/125 [==============================] - 0s 2ms/step - loss: 0.1460 - sparse_categorical_accuracy: 0.9697\n",
            "[0.1459594964981079, 0.9697499871253967]\n"
          ]
        }
      ]
    }
  ]
}